{
 "cells": [
  {
   "cell_type": "code",
   "execution_count": 1,
   "id": "69b970a5",
   "metadata": {},
   "outputs": [],
   "source": [
    "import geopandas as gpd\n",
    "import pandas as pd\n",
    "import matplotlib.pyplot as plt"
   ]
  },
  {
   "cell_type": "code",
   "execution_count": 2,
   "id": "5fc59e10",
   "metadata": {},
   "outputs": [],
   "source": [
    "#pip install pandas folium"
   ]
  },
  {
   "cell_type": "code",
   "execution_count": 3,
   "id": "50c45203",
   "metadata": {},
   "outputs": [
    {
     "data": {
      "text/html": [
       "<div>\n",
       "<style scoped>\n",
       "    .dataframe tbody tr th:only-of-type {\n",
       "        vertical-align: middle;\n",
       "    }\n",
       "\n",
       "    .dataframe tbody tr th {\n",
       "        vertical-align: top;\n",
       "    }\n",
       "\n",
       "    .dataframe thead th {\n",
       "        text-align: right;\n",
       "    }\n",
       "</style>\n",
       "<table border=\"1\" class=\"dataframe\">\n",
       "  <thead>\n",
       "    <tr style=\"text-align: right;\">\n",
       "      <th></th>\n",
       "      <th>Address</th>\n",
       "      <th>City</th>\n",
       "      <th>State</th>\n",
       "      <th>Zip Code</th>\n",
       "      <th>Latitude</th>\n",
       "      <th>Longitude</th>\n",
       "    </tr>\n",
       "  </thead>\n",
       "  <tbody>\n",
       "    <tr>\n",
       "      <th>0</th>\n",
       "      <td>1205 N. Memorial Parkway</td>\n",
       "      <td>Huntsville</td>\n",
       "      <td>Alabama</td>\n",
       "      <td>35801-5930</td>\n",
       "      <td>34.743095</td>\n",
       "      <td>-86.600955</td>\n",
       "    </tr>\n",
       "    <tr>\n",
       "      <th>1</th>\n",
       "      <td>3650 Galleria Circle</td>\n",
       "      <td>Hoover</td>\n",
       "      <td>Alabama</td>\n",
       "      <td>35244-2346</td>\n",
       "      <td>33.377649</td>\n",
       "      <td>-86.812420</td>\n",
       "    </tr>\n",
       "    <tr>\n",
       "      <th>2</th>\n",
       "      <td>8251 Eastchase Parkway</td>\n",
       "      <td>Montgomery</td>\n",
       "      <td>Alabama</td>\n",
       "      <td>36117</td>\n",
       "      <td>32.363889</td>\n",
       "      <td>-86.150884</td>\n",
       "    </tr>\n",
       "    <tr>\n",
       "      <th>3</th>\n",
       "      <td>5225 Commercial Boulevard</td>\n",
       "      <td>Juneau</td>\n",
       "      <td>Alaska</td>\n",
       "      <td>99801-7210</td>\n",
       "      <td>58.359200</td>\n",
       "      <td>-134.483000</td>\n",
       "    </tr>\n",
       "    <tr>\n",
       "      <th>4</th>\n",
       "      <td>330 West Dimond Blvd</td>\n",
       "      <td>Anchorage</td>\n",
       "      <td>Alaska</td>\n",
       "      <td>99515-1950</td>\n",
       "      <td>61.143266</td>\n",
       "      <td>-149.884217</td>\n",
       "    </tr>\n",
       "    <tr>\n",
       "      <th>5</th>\n",
       "      <td>4125 DeBarr Road</td>\n",
       "      <td>Anchorage</td>\n",
       "      <td>Alaska</td>\n",
       "      <td>99508-3115</td>\n",
       "      <td>61.210815</td>\n",
       "      <td>-149.804337</td>\n",
       "    </tr>\n",
       "  </tbody>\n",
       "</table>\n",
       "</div>"
      ],
      "text/plain": [
       "                     Address        City    State    Zip Code   Latitude  \\\n",
       "0   1205 N. Memorial Parkway  Huntsville  Alabama  35801-5930  34.743095   \n",
       "1       3650 Galleria Circle      Hoover  Alabama  35244-2346  33.377649   \n",
       "2     8251 Eastchase Parkway  Montgomery  Alabama       36117  32.363889   \n",
       "3  5225 Commercial Boulevard      Juneau   Alaska  99801-7210  58.359200   \n",
       "4       330 West Dimond Blvd   Anchorage   Alaska  99515-1950  61.143266   \n",
       "5           4125 DeBarr Road   Anchorage   Alaska  99508-3115  61.210815   \n",
       "\n",
       "    Longitude  \n",
       "0  -86.600955  \n",
       "1  -86.812420  \n",
       "2  -86.150884  \n",
       "3 -134.483000  \n",
       "4 -149.884217  \n",
       "5 -149.804337  "
      ]
     },
     "execution_count": 3,
     "metadata": {},
     "output_type": "execute_result"
    }
   ],
   "source": [
    "cos = pd.read_csv(\"ex5-2/costcos-geocoded.csv\")\n",
    "cos.head(6)"
   ]
  },
  {
   "cell_type": "code",
   "execution_count": 4,
   "id": "abef645b",
   "metadata": {},
   "outputs": [
    {
     "data": {
      "text/html": [
       "<div>\n",
       "<style scoped>\n",
       "    .dataframe tbody tr th:only-of-type {\n",
       "        vertical-align: middle;\n",
       "    }\n",
       "\n",
       "    .dataframe tbody tr th {\n",
       "        vertical-align: top;\n",
       "    }\n",
       "\n",
       "    .dataframe thead th {\n",
       "        text-align: right;\n",
       "    }\n",
       "</style>\n",
       "<table border=\"1\" class=\"dataframe\">\n",
       "  <thead>\n",
       "    <tr style=\"text-align: right;\">\n",
       "      <th></th>\n",
       "      <th>Name</th>\n",
       "      <th>G</th>\n",
       "      <th>MIN</th>\n",
       "      <th>PTS</th>\n",
       "      <th>FGM</th>\n",
       "      <th>FGA</th>\n",
       "      <th>FGP</th>\n",
       "      <th>FTM</th>\n",
       "      <th>FTA</th>\n",
       "      <th>FTP</th>\n",
       "      <th>...</th>\n",
       "      <th>3PA</th>\n",
       "      <th>3PP</th>\n",
       "      <th>ORB</th>\n",
       "      <th>DRB</th>\n",
       "      <th>TRB</th>\n",
       "      <th>AST</th>\n",
       "      <th>STL</th>\n",
       "      <th>BLK</th>\n",
       "      <th>TO</th>\n",
       "      <th>PF</th>\n",
       "    </tr>\n",
       "  </thead>\n",
       "  <tbody>\n",
       "    <tr>\n",
       "      <th>0</th>\n",
       "      <td>Dwyane Wade</td>\n",
       "      <td>79</td>\n",
       "      <td>38.6</td>\n",
       "      <td>30.2</td>\n",
       "      <td>10.8</td>\n",
       "      <td>22.0</td>\n",
       "      <td>0.491</td>\n",
       "      <td>7.5</td>\n",
       "      <td>9.8</td>\n",
       "      <td>0.765</td>\n",
       "      <td>...</td>\n",
       "      <td>3.5</td>\n",
       "      <td>0.317</td>\n",
       "      <td>1.1</td>\n",
       "      <td>3.9</td>\n",
       "      <td>5.0</td>\n",
       "      <td>7.5</td>\n",
       "      <td>2.2</td>\n",
       "      <td>1.3</td>\n",
       "      <td>3.4</td>\n",
       "      <td>2.3</td>\n",
       "    </tr>\n",
       "    <tr>\n",
       "      <th>1</th>\n",
       "      <td>LeBron James</td>\n",
       "      <td>81</td>\n",
       "      <td>37.7</td>\n",
       "      <td>28.4</td>\n",
       "      <td>9.7</td>\n",
       "      <td>19.9</td>\n",
       "      <td>0.489</td>\n",
       "      <td>7.3</td>\n",
       "      <td>9.4</td>\n",
       "      <td>0.780</td>\n",
       "      <td>...</td>\n",
       "      <td>4.7</td>\n",
       "      <td>0.344</td>\n",
       "      <td>1.3</td>\n",
       "      <td>6.3</td>\n",
       "      <td>7.6</td>\n",
       "      <td>7.2</td>\n",
       "      <td>1.7</td>\n",
       "      <td>1.1</td>\n",
       "      <td>3.0</td>\n",
       "      <td>1.7</td>\n",
       "    </tr>\n",
       "    <tr>\n",
       "      <th>2</th>\n",
       "      <td>Kobe Bryant</td>\n",
       "      <td>82</td>\n",
       "      <td>36.2</td>\n",
       "      <td>26.8</td>\n",
       "      <td>9.8</td>\n",
       "      <td>20.9</td>\n",
       "      <td>0.467</td>\n",
       "      <td>5.9</td>\n",
       "      <td>6.9</td>\n",
       "      <td>0.856</td>\n",
       "      <td>...</td>\n",
       "      <td>4.1</td>\n",
       "      <td>0.351</td>\n",
       "      <td>1.1</td>\n",
       "      <td>4.1</td>\n",
       "      <td>5.2</td>\n",
       "      <td>4.9</td>\n",
       "      <td>1.5</td>\n",
       "      <td>0.5</td>\n",
       "      <td>2.6</td>\n",
       "      <td>2.3</td>\n",
       "    </tr>\n",
       "    <tr>\n",
       "      <th>3</th>\n",
       "      <td>Dirk Nowitzki</td>\n",
       "      <td>81</td>\n",
       "      <td>37.7</td>\n",
       "      <td>25.9</td>\n",
       "      <td>9.6</td>\n",
       "      <td>20.0</td>\n",
       "      <td>0.479</td>\n",
       "      <td>6.0</td>\n",
       "      <td>6.7</td>\n",
       "      <td>0.890</td>\n",
       "      <td>...</td>\n",
       "      <td>2.1</td>\n",
       "      <td>0.359</td>\n",
       "      <td>1.1</td>\n",
       "      <td>7.3</td>\n",
       "      <td>8.4</td>\n",
       "      <td>2.4</td>\n",
       "      <td>0.8</td>\n",
       "      <td>0.8</td>\n",
       "      <td>1.9</td>\n",
       "      <td>2.2</td>\n",
       "    </tr>\n",
       "    <tr>\n",
       "      <th>4</th>\n",
       "      <td>Danny Granger</td>\n",
       "      <td>67</td>\n",
       "      <td>36.2</td>\n",
       "      <td>25.8</td>\n",
       "      <td>8.5</td>\n",
       "      <td>19.1</td>\n",
       "      <td>0.447</td>\n",
       "      <td>6.0</td>\n",
       "      <td>6.9</td>\n",
       "      <td>0.878</td>\n",
       "      <td>...</td>\n",
       "      <td>6.7</td>\n",
       "      <td>0.404</td>\n",
       "      <td>0.7</td>\n",
       "      <td>4.4</td>\n",
       "      <td>5.1</td>\n",
       "      <td>2.7</td>\n",
       "      <td>1.0</td>\n",
       "      <td>1.4</td>\n",
       "      <td>2.5</td>\n",
       "      <td>3.1</td>\n",
       "    </tr>\n",
       "    <tr>\n",
       "      <th>5</th>\n",
       "      <td>Kevin Durant</td>\n",
       "      <td>74</td>\n",
       "      <td>39.0</td>\n",
       "      <td>25.3</td>\n",
       "      <td>8.9</td>\n",
       "      <td>18.8</td>\n",
       "      <td>0.476</td>\n",
       "      <td>6.1</td>\n",
       "      <td>7.1</td>\n",
       "      <td>0.863</td>\n",
       "      <td>...</td>\n",
       "      <td>3.1</td>\n",
       "      <td>0.422</td>\n",
       "      <td>1.0</td>\n",
       "      <td>5.5</td>\n",
       "      <td>6.5</td>\n",
       "      <td>2.8</td>\n",
       "      <td>1.3</td>\n",
       "      <td>0.7</td>\n",
       "      <td>3.0</td>\n",
       "      <td>1.8</td>\n",
       "    </tr>\n",
       "  </tbody>\n",
       "</table>\n",
       "<p>6 rows × 21 columns</p>\n",
       "</div>"
      ],
      "text/plain": [
       "           Name     G   MIN   PTS   FGM   FGA    FGP  FTM  FTA    FTP  ...  \\\n",
       "0    Dwyane Wade   79  38.6  30.2  10.8  22.0  0.491  7.5  9.8  0.765  ...   \n",
       "1   LeBron James   81  37.7  28.4   9.7  19.9  0.489  7.3  9.4  0.780  ...   \n",
       "2    Kobe Bryant   82  36.2  26.8   9.8  20.9  0.467  5.9  6.9  0.856  ...   \n",
       "3  Dirk Nowitzki   81  37.7  25.9   9.6  20.0  0.479  6.0  6.7  0.890  ...   \n",
       "4  Danny Granger   67  36.2  25.8   8.5  19.1  0.447  6.0  6.9  0.878  ...   \n",
       "5   Kevin Durant   74  39.0  25.3   8.9  18.8  0.476  6.1  7.1  0.863  ...   \n",
       "\n",
       "   3PA    3PP  ORB  DRB  TRB  AST  STL  BLK   TO   PF  \n",
       "0  3.5  0.317  1.1  3.9  5.0  7.5  2.2  1.3  3.4  2.3  \n",
       "1  4.7  0.344  1.3  6.3  7.6  7.2  1.7  1.1  3.0  1.7  \n",
       "2  4.1  0.351  1.1  4.1  5.2  4.9  1.5  0.5  2.6  2.3  \n",
       "3  2.1  0.359  1.1  7.3  8.4  2.4  0.8  0.8  1.9  2.2  \n",
       "4  6.7  0.404  0.7  4.4  5.1  2.7  1.0  1.4  2.5  3.1  \n",
       "5  3.1  0.422  1.0  5.5  6.5  2.8  1.3  0.7  3.0  1.8  \n",
       "\n",
       "[6 rows x 21 columns]"
      ]
     },
     "execution_count": 4,
     "metadata": {},
     "output_type": "execute_result"
    }
   ],
   "source": [
    "ppg = pd.read_csv(\"ex5-2/ppg2008.csv\")\n",
    "ppg.head(6)"
   ]
  },
  {
   "cell_type": "code",
   "execution_count": 5,
   "id": "2001e8cc",
   "metadata": {},
   "outputs": [],
   "source": [
    "import pandas as pd\n",
    "from folium import Map\n",
    "from folium.plugins import HeatMap"
   ]
  },
  {
   "cell_type": "code",
   "execution_count": 6,
   "id": "e85d6b84",
   "metadata": {},
   "outputs": [],
   "source": [
    "for_map = Map(location=[30.169621, -96.683617], zoom_start=8, )"
   ]
  },
  {
   "cell_type": "code",
   "execution_count": 7,
   "id": "db0bd679",
   "metadata": {},
   "outputs": [],
   "source": [
    "hm_wide = HeatMap(\n",
    "    list(zip(cos.Latitude.values, cos.Longitude.values)),\n",
    "    min_opacity=0.2,\n",
    "    radius=17, \n",
    "    blur=15, \n",
    "    max_zoom=1,\n",
    ")"
   ]
  },
  {
   "cell_type": "code",
   "execution_count": 8,
   "id": "5938e68b",
   "metadata": {},
   "outputs": [
    {
     "data": {
      "text/html": [
       "<div style=\"width:100%;\"><div style=\"position:relative;width:100%;height:0;padding-bottom:60%;\"><span style=\"color:#565656\">Make this Notebook Trusted to load map: File -> Trust Notebook</span><iframe srcdoc=\"&lt;!DOCTYPE html&gt;\n",
       "&lt;html&gt;\n",
       "&lt;head&gt;\n",
       "    \n",
       "    &lt;meta http-equiv=&quot;content-type&quot; content=&quot;text/html; charset=UTF-8&quot; /&gt;\n",
       "    \n",
       "        &lt;script&gt;\n",
       "            L_NO_TOUCH = false;\n",
       "            L_DISABLE_3D = false;\n",
       "        &lt;/script&gt;\n",
       "    \n",
       "    &lt;style&gt;html, body {width: 100%;height: 100%;margin: 0;padding: 0;}&lt;/style&gt;\n",
       "    &lt;style&gt;#map {position:absolute;top:0;bottom:0;right:0;left:0;}&lt;/style&gt;\n",
       "    &lt;script src=&quot;https://cdn.jsdelivr.net/npm/leaflet@1.9.3/dist/leaflet.js&quot;&gt;&lt;/script&gt;\n",
       "    &lt;script src=&quot;https://code.jquery.com/jquery-1.12.4.min.js&quot;&gt;&lt;/script&gt;\n",
       "    &lt;script src=&quot;https://cdn.jsdelivr.net/npm/bootstrap@5.2.2/dist/js/bootstrap.bundle.min.js&quot;&gt;&lt;/script&gt;\n",
       "    &lt;script src=&quot;https://cdnjs.cloudflare.com/ajax/libs/Leaflet.awesome-markers/2.0.2/leaflet.awesome-markers.js&quot;&gt;&lt;/script&gt;\n",
       "    &lt;link rel=&quot;stylesheet&quot; href=&quot;https://cdn.jsdelivr.net/npm/leaflet@1.9.3/dist/leaflet.css&quot;/&gt;\n",
       "    &lt;link rel=&quot;stylesheet&quot; href=&quot;https://cdn.jsdelivr.net/npm/bootstrap@5.2.2/dist/css/bootstrap.min.css&quot;/&gt;\n",
       "    &lt;link rel=&quot;stylesheet&quot; href=&quot;https://netdna.bootstrapcdn.com/bootstrap/3.0.0/css/bootstrap.min.css&quot;/&gt;\n",
       "    &lt;link rel=&quot;stylesheet&quot; href=&quot;https://cdn.jsdelivr.net/npm/@fortawesome/fontawesome-free@6.2.0/css/all.min.css&quot;/&gt;\n",
       "    &lt;link rel=&quot;stylesheet&quot; href=&quot;https://cdnjs.cloudflare.com/ajax/libs/Leaflet.awesome-markers/2.0.2/leaflet.awesome-markers.css&quot;/&gt;\n",
       "    &lt;link rel=&quot;stylesheet&quot; href=&quot;https://cdn.jsdelivr.net/gh/python-visualization/folium/folium/templates/leaflet.awesome.rotate.min.css&quot;/&gt;\n",
       "    \n",
       "            &lt;meta name=&quot;viewport&quot; content=&quot;width=device-width,\n",
       "                initial-scale=1.0, maximum-scale=1.0, user-scalable=no&quot; /&gt;\n",
       "            &lt;style&gt;\n",
       "                #map_8412e26daa664cf4ef7d88f7c99a2b7e {\n",
       "                    position: relative;\n",
       "                    width: 100.0%;\n",
       "                    height: 100.0%;\n",
       "                    left: 0.0%;\n",
       "                    top: 0.0%;\n",
       "                }\n",
       "                .leaflet-container { font-size: 1rem; }\n",
       "            &lt;/style&gt;\n",
       "        \n",
       "    &lt;script src=&quot;https://cdn.jsdelivr.net/gh/python-visualization/folium@main/folium/templates/leaflet_heat.min.js&quot;&gt;&lt;/script&gt;\n",
       "&lt;/head&gt;\n",
       "&lt;body&gt;\n",
       "    \n",
       "    \n",
       "            &lt;div class=&quot;folium-map&quot; id=&quot;map_8412e26daa664cf4ef7d88f7c99a2b7e&quot; &gt;&lt;/div&gt;\n",
       "        \n",
       "&lt;/body&gt;\n",
       "&lt;script&gt;\n",
       "    \n",
       "    \n",
       "            var map_8412e26daa664cf4ef7d88f7c99a2b7e = L.map(\n",
       "                &quot;map_8412e26daa664cf4ef7d88f7c99a2b7e&quot;,\n",
       "                {\n",
       "                    center: [30.169621, -96.683617],\n",
       "                    crs: L.CRS.EPSG3857,\n",
       "                    zoom: 8,\n",
       "                    zoomControl: true,\n",
       "                    preferCanvas: false,\n",
       "                }\n",
       "            );\n",
       "\n",
       "            \n",
       "\n",
       "        \n",
       "    \n",
       "            var tile_layer_5ac1799a0e4682f3a52d9c2555462ff6 = L.tileLayer(\n",
       "                &quot;https://{s}.tile.openstreetmap.org/{z}/{x}/{y}.png&quot;,\n",
       "                {&quot;attribution&quot;: &quot;Data by \\u0026copy; \\u003ca target=\\&quot;_blank\\&quot; href=\\&quot;http://openstreetmap.org\\&quot;\\u003eOpenStreetMap\\u003c/a\\u003e, under \\u003ca target=\\&quot;_blank\\&quot; href=\\&quot;http://www.openstreetmap.org/copyright\\&quot;\\u003eODbL\\u003c/a\\u003e.&quot;, &quot;detectRetina&quot;: false, &quot;maxNativeZoom&quot;: 18, &quot;maxZoom&quot;: 18, &quot;minZoom&quot;: 0, &quot;noWrap&quot;: false, &quot;opacity&quot;: 1, &quot;subdomains&quot;: &quot;abc&quot;, &quot;tms&quot;: false}\n",
       "            ).addTo(map_8412e26daa664cf4ef7d88f7c99a2b7e);\n",
       "        \n",
       "    \n",
       "            var heat_map_c5ef3e82c8c75fe3850bcfde578daa27 = L.heatLayer(\n",
       "                [[34.7430949, -86.6009553], [33.377649, -86.81242], [32.363889, -86.150884], [58.3592, -134.483], [61.143266, -149.884217], [61.210815, -149.804337], [34.548993, -112.3954274], [32.3262177, -111.0491606], [32.2522189, -110.859554], [33.643277, -112.233474], [33.296095, -111.745647], [33.347289, -111.961862], [33.6241344, -111.9019118], [33.376244, -111.840765], [33.293696, -111.899509], [33.3886808, -111.6675437], [33.670943, -112.028124], [33.659688, -112.115841], [33.49179, -112.128379], [33.5206919, -112.095189], [33.473335, -111.985531], [33.467156, -112.274404], [33.600961, -111.983793], [32.7789832, -117.1269067], [40.586449, -122.345675], [39.7214025, -121.8096578], [38.4677597, -121.4154069], [38.597139, -121.452409], [38.6699409, -121.7259571], [38.588195, -121.263769], [38.78061, -121.267423], [38.645206, -121.109598], [38.6903, -121.29859], [40.7919385, -124.1825438], [38.4204562, -122.7134804], [37.7003612, -121.0671386], [37.3019943, -120.4940012], [37.784874, -121.260014], [38.018791, -121.292757], [37.3886293, -121.8829132], [37.253214, -121.879999], [37.309657, -121.851571], [36.985104, -122.033615], [37.357021, -121.938843], [38.087238, -122.551076], [37.898774, -122.320125], [38.133192, -122.213745], [38.215406, -122.144911], [37.7181741, -122.1809332], [37.702588, -121.812265], [37.667516, -122.10278], [37.5031232, -121.9748814], [37.78259, -121.972853], [38.009119, -121.837904], [37.561366, -122.275144], [37.770488, -122.411106], [37.372027, -121.994779], [37.6422308, -122.4010744], [37.6654356, -122.4490857], [37.420676, -122.095061], [36.6170705, -121.8474767], [36.703939, -121.668608], [36.80989, -119.874081], [36.792187, -119.714342], [34.66129, -118.151429], [34.936541, -120.42084], [35.251917, -120.691013], [36.292806, -119.306638], [34.42789, -119.874572], [34.2251071, -119.148567], [33.87567, -117.74385], [33.8899732, -117.5208947], [33.773511, -117.940271], [33.862449, -117.92211], [33.7282, -117.796294], [33.699689, -117.822618], [33.703448, -117.931978], [33.5569565, -117.6788758], [33.469498, -117.677697], [33.6570006, -117.7397337], [33.935555, -117.276579], [33.696337, -117.339182], [34.068044, -117.263077], [34.5155574, -117.3196428], [32.8152064, -115.5700028], [33.7996392, -116.3819564], [32.987241, -117.077675], [32.712739, -117.11613], [33.1879309, -117.2767568], [32.840642, -116.987356], [32.93649, -117.033125], [33.1201381, -117.3165503], [32.773971, -117.024305], [32.6089545, -117.0809526], [32.637276, -117.022199], [34.089515, -118.148531], [34.112139, -117.82633], [34.083039, -117.690661], [33.994075, -117.922], [34.078576, -117.5482714], [34.014463, -117.741815], [34.131982, -117.925681], [34.185739, -118.324045], [34.181613, -118.46401], [34.4027129, -118.4550432], [34.152307, -118.797131], [34.230765, -118.551069], [34.218644, -118.596119], [33.8043173, -118.166725], [33.850463, -118.136453], [33.919958, -118.102519], [34.032917, -118.097463], [33.932029, -117.969786], [33.800813, -118.34993], [33.943257, -118.333856], [33.992576, -118.446821], [33.898805, -118.372745], [34.1285583, -118.2636796], [38.3506756, -121.9817708], [37.519131, -120.888552], [37.7510679, -121.475091], [37.008207, -121.556447], [38.3527259, -122.717092], [37.6163221, -122.0889509], [37.478656, -122.216527], [36.839426, -119.78774], [35.297271, -119.058275], [35.384837, -119.048452], [33.567618, -117.711571], [33.521227, -117.154362], [34.137557, -117.442672], [33.704896, -116.272801], [32.8234958, -117.2282851], [32.816251, -117.153631], [34.2725894, -118.4276271], [33.8031834, -118.038976], [33.918618, -118.342576], [33.9947586, -118.1430614], [39.6433872, -106.8885487], [38.892736, -104.71771], [39.5580896, -104.7758852], [39.561203, -104.874753], [39.638285, -105.082856], [39.644445, -105.006451], [39.862237, -105.0661949], [39.9576167, -105.1699298], [39.991358, -104.983163], [39.690471, -104.86808], [39.790074, -105.082637], [38.9037505, -104.8172136], [41.0919457, -73.4515808], [41.4422731, -73.4051279], [41.542672, -72.9686675], [41.249661, -73.023977], [41.9936047, -72.5754399], [39.677736, -75.64737], [26.411955, -80.1008839], [26.22026, -81.77492], [26.489631, -81.785933], [26.544447, -81.8742089], [27.921491, -82.330936], [26.5872905, -80.0726927], [26.6810314, -80.2195563], [26.8083519, -80.0879667], [26.0969039, -80.2509582], [25.655668, -80.412069], [25.909564, -80.156203], [25.774109, -80.330536], [26.273566, -80.148255], [26.009617, -80.360331], [25.923451, -80.298706], [28.404252, -81.40671], [28.59907, -81.30024], [28.6618672, -81.4176945], [30.4606461, -84.2124709], [30.252071, -81.533776], [27.9604528, -82.7275752], [34.9326477, -85.2547988], [34.0620378, -83.9943156], [33.8816153, -84.4694359], [33.927816, -84.352462], [33.572052, -84.333989], [34.0092178, -84.5686483], [33.947764, -84.143039], [34.090513, -84.277902], [33.8709805, -84.3350283], [19.687344, -156.017457], [21.282117, -157.7119219], [21.4188931, -158.0063848], [21.9665355, -159.3799149], [20.887082, -156.451364], [21.3272958, -158.0881083], [21.3184739, -157.870711], [47.7080223, -116.7819023], [43.585487, -116.276686], [43.615175, -116.592784], [42.591998, -114.4656395], [42.905739, -112.468931], [42.014665, -87.7815541], [41.7600708, -87.7418497], [41.9297729, -87.6770447], [41.845569, -87.964888], [41.6011911, -87.8618256], [42.0565401, -88.0449252], [42.1788808, -88.3387302], [41.9396832, -88.1323182], [42.187135, -88.093412], [41.7443388, -88.2058422], [41.7265993, -88.0325566], [41.9073026, -88.3400191], [41.9091302, -87.8367543], [42.0831646, -87.9332458], [42.240048, -87.9057161], [42.1090138, -87.8214507], [41.4738435, -87.3218679], [39.916735, -86.226227], [39.913779, -86.061793], [41.562811, -93.804976], [38.95885, -94.733002], [38.906906, -94.670999], [38.3163673, -85.5728641], [38.9731445, -76.8160858], [39.4018344, -77.4075364], [39.358195, -76.444565], [39.15582, -76.730744], [39.186369, -76.793645], [39.2035401, -76.5939428], [39.155646, -77.214124], [37.228312, -77.3903001], [38.6645584, -76.8747015], [42.395066, -71.265264], [42.136598, -71.066458], [42.230996, -71.17497], [37.226693, -77.401371], [42.13216, -72.620485], [42.4017251, -71.0695264], [42.910564, -85.542713], [42.875818, -85.76385], [42.7070854, -83.2963467], [42.6295851, -82.98077], [42.606916, -83.293322], [42.432885, -83.430471], [42.3813419, -83.332026], [42.5044786, -83.7594455], [42.5161919, -83.117129], [42.4959314, -82.9371897], [42.534006, -83.444799], [45.1985438, -93.3502188], [44.9676254, -93.3495534], [45.09298, -93.424382], [44.8603208, -93.4358767], [45.029375, -93.039964], [44.7481179, -93.2934839], [39.0682148, -94.5815625], [39.0372034, -94.3551426], [38.797262, -90.607339], [38.506798, -90.3408851], [38.597951, -90.506914], [48.174177, -114.29897], [46.89293, -114.037358], [45.71334, -111.070653], [46.616615, -112.0049737], [45.7550163, -108.5727142], [41.265224, -96.10534], [39.1123484, -119.8451288], [39.503102, -119.785095], [39.579204, -119.738792], [36.1633476, -115.3318905], [36.278946, -115.209445], [36.1721288, -115.1608236], [36.06985, -115.037166], [42.7023, -71.443126], [40.5317305, -74.3766237], [40.5644881, -74.5553081], [40.0547573, -74.1563178], [39.9505868, -74.8761132], [39.70721, -74.287661], [40.8096853, -74.381266], [40.906896, -74.569445], [40.4194098, -74.1705136], [40.876239, -74.038818], [40.8872413, -74.2541309], [40.6931, -74.2873], [40.830625, -74.1366964], [35.068225, -106.530385], [35.19547, -106.66139], [35.136386, -106.614209], [40.862057, -73.130236], [40.757604, -73.420634], [40.773266, -73.050016], [40.8067522, -73.2865925], [40.743347, -73.601117], [40.6307824, -73.7398576], [40.6554813, -74.0090742], [40.7673216, -73.9375771], [41.107253, -74.025274], [40.896403, -73.7938571], [40.9749617, -73.8612905], [40.57268, -74.168663], [40.7333304, -73.8635717], [40.997205, -73.661561], [40.7953918, -73.9318516], [34.2471728, -77.8738996], [35.162075, -80.883958], [35.130096, -80.704742], [36.028911, -78.914527], [35.818255, -78.622315], [36.058064, -79.883838], [36.064731, -80.317952], [39.2956999, -84.3032], [39.288172, -84.4510214], [41.5241698, -81.4467262], [41.6773358, -83.6241301], [40.150574, -82.976965], [41.3130793, -81.8162777], [41.461881, -82.012682], [44.057267, -121.267616], [42.3687759, -122.858378], [44.089117, -123.06635], [44.6391268, -123.065814], [44.918976, -122.995309], [45.559288, -122.523747], [45.4367116, -122.7564796], [45.535709, -122.9355], [45.332949, -122.764093], [45.429738, -122.571376], [45.509085, -122.841919], [43.2590258, -123.3513746], [46.1472442, -123.9174036], [40.2391985, -75.2351214], [40.091369, -75.385931], [40.052357, -76.256924], [40.3098913, -76.7996506], [40.691215, -80.107991], [40.4067922, -79.9195722], [40.4581284, -80.1671087], [34.8360858, -82.311008], [33.705698, -78.915906], [32.7953856, -80.0369654], [34.9370256, -81.9906978], [35.0465639, -89.7972209], [35.19204, -89.794989], [36.1392669, -86.885891], [35.963436, -86.818149], [30.3968644, -97.7456423], [29.576287, -98.597156], [29.598391, -98.277915], [29.9536092, -95.5468109], [29.787755, -95.529263], [29.7327829, -95.4389565], [32.6775654, -97.4087829], [32.9419217, -97.1121332], [32.6846619, -97.1127486], [33.023989, -96.831701], [33.0441379, -96.699179], [32.9952011, -96.9648545], [31.783497, -106.410297], [29.611904, -98.474805], [32.620946, -96.910279], [32.9087304, -96.4454985], [37.122515, -113.523381], [41.197413, -111.9793725], [40.6903769, -111.9541263], [40.730657, -111.90294], [40.2822443, -111.6798494], [40.5506675, -111.8934445], [40.389719, -111.8229955], [40.889379, -111.895108], [40.6577119, -111.889873], [44.5034, -73.173988], [37.106044, -76.496559], [36.851561, -76.199681], [37.438778, -77.587539], [37.642294, -77.561159], [38.428597, -78.85613], [39.157827, -78.157929], [38.8624735, -77.0567423], [38.642245, -77.294447], [38.739883, -77.197301], [38.849315, -77.371784], [39.115223, -77.533198], [39.023821, -77.401854], [38.8951069, -77.4430209], [38.783572, -77.5164269], [38.293479, -77.515701], [47.681717, -122.182086], [46.4229672, -117.0442722], [46.225654, -119.235246], [47.658358, -117.332852], [47.724927, -117.411489], [46.562354, -120.499306], [47.401812, -120.280459], [45.684942, -122.604718], [47.05934, -122.760723], [46.996336, -122.916699], [47.238297, -122.373955], [47.224683, -122.469182], [47.656571, -122.680673], [48.0770692, -123.1254206], [48.0770692, -123.1254206], [47.156472, -122.308125], [48.147561, -122.191237], [48.453882, -122.338038], [48.7974507, -122.4882889], [47.903556, -122.209275], [47.445595, -122.24834], [47.5649224, -122.3304533], [47.77567, -122.344819], [47.779015, -122.1484548], [47.82549, -122.309915], [47.5512165, -122.0528913], [47.2869797, -122.3135201], [45.6212994, -122.4591346], [47.3577482, -122.6038876], [47.354838, -122.121185], [43.100195, -89.522751], [43.3246907, -87.9216153]],\n",
       "                {&quot;blur&quot;: 15, &quot;maxZoom&quot;: 1, &quot;minOpacity&quot;: 0.2, &quot;radius&quot;: 17}\n",
       "            ).addTo(map_8412e26daa664cf4ef7d88f7c99a2b7e);\n",
       "        \n",
       "&lt;/script&gt;\n",
       "&lt;/html&gt;\" style=\"position:absolute;width:100%;height:100%;left:0;top:0;border:none !important;\" allowfullscreen webkitallowfullscreen mozallowfullscreen></iframe></div></div>"
      ],
      "text/plain": [
       "<folium.folium.Map at 0x1ad40ca1ee0>"
      ]
     },
     "execution_count": 8,
     "metadata": {},
     "output_type": "execute_result"
    }
   ],
   "source": [
    "for_map.add_child(hm_wide)"
   ]
  },
  {
   "cell_type": "code",
   "execution_count": 9,
   "id": "7619fac5",
   "metadata": {},
   "outputs": [
    {
     "name": "stdout",
     "output_type": "stream",
     "text": [
      "Collecting geoplot\n",
      "  Using cached geoplot-0.5.1-py3-none-any.whl (28 kB)\n",
      "Requirement already satisfied: mapclassify>=2.1 in c:\\users\\atanu\\anaconda3\\lib\\site-packages (from geoplot) (2.5.0)\n",
      "Collecting cartopy\n",
      "  Using cached Cartopy-0.21.1.tar.gz (10.9 MB)\n",
      "  Installing build dependencies: started\n",
      "  Installing build dependencies: finished with status 'done'\n",
      "  Getting requirements to build wheel: started\n",
      "  Getting requirements to build wheel: finished with status 'done'\n",
      "  Preparing metadata (pyproject.toml): started\n",
      "  Preparing metadata (pyproject.toml): finished with status 'done'\n",
      "Requirement already satisfied: matplotlib>=3.1.2 in c:\\users\\atanu\\anaconda3\\lib\\site-packages (from geoplot) (3.5.2)\n",
      "Requirement already satisfied: pandas in c:\\users\\atanu\\anaconda3\\lib\\site-packages (from geoplot) (1.4.4)\n",
      "Requirement already satisfied: seaborn in c:\\users\\atanu\\anaconda3\\lib\\site-packages (from geoplot) (0.11.2)\n",
      "Collecting contextily>=1.0.0\n",
      "  Using cached contextily-1.3.0-py3-none-any.whl (16 kB)\n",
      "Requirement already satisfied: geopandas>=0.9.0 in c:\\users\\atanu\\anaconda3\\lib\\site-packages (from geoplot) (0.12.2)\n",
      "Collecting rasterio\n",
      "  Using cached rasterio-1.3.8-cp39-cp39-win_amd64.whl (23.0 MB)\n",
      "Requirement already satisfied: pillow in c:\\users\\atanu\\anaconda3\\lib\\site-packages (from contextily>=1.0.0->geoplot) (9.2.0)\n",
      "Requirement already satisfied: xyzservices in c:\\users\\atanu\\anaconda3\\lib\\site-packages (from contextily>=1.0.0->geoplot) (2022.9.0)\n",
      "Collecting mercantile\n",
      "  Using cached mercantile-1.2.1-py3-none-any.whl (14 kB)\n",
      "Collecting geopy\n",
      "  Using cached geopy-2.3.0-py3-none-any.whl (119 kB)\n",
      "Requirement already satisfied: requests in c:\\users\\atanu\\anaconda3\\lib\\site-packages (from contextily>=1.0.0->geoplot) (2.28.1)\n",
      "Requirement already satisfied: joblib in c:\\users\\atanu\\anaconda3\\lib\\site-packages (from contextily>=1.0.0->geoplot) (1.1.0)\n",
      "Requirement already satisfied: shapely>=1.7 in c:\\users\\atanu\\anaconda3\\lib\\site-packages (from geopandas>=0.9.0->geoplot) (2.0.1)\n",
      "Requirement already satisfied: fiona>=1.8 in c:\\users\\atanu\\anaconda3\\lib\\site-packages (from geopandas>=0.9.0->geoplot) (1.8.22)\n",
      "Requirement already satisfied: packaging in c:\\users\\atanu\\anaconda3\\lib\\site-packages (from geopandas>=0.9.0->geoplot) (21.3)\n",
      "Requirement already satisfied: pyproj>=2.6.1.post1 in c:\\users\\atanu\\anaconda3\\lib\\site-packages (from geopandas>=0.9.0->geoplot) (2.6.1.post1)\n",
      "Requirement already satisfied: scikit-learn in c:\\users\\atanu\\anaconda3\\lib\\site-packages (from mapclassify>=2.1->geoplot) (1.0.2)\n",
      "Requirement already satisfied: numpy>=1.3 in c:\\users\\atanu\\anaconda3\\lib\\site-packages (from mapclassify>=2.1->geoplot) (1.21.5)\n",
      "Requirement already satisfied: scipy>=1.0 in c:\\users\\atanu\\anaconda3\\lib\\site-packages (from mapclassify>=2.1->geoplot) (1.9.1)\n",
      "Requirement already satisfied: networkx in c:\\users\\atanu\\anaconda3\\lib\\site-packages (from mapclassify>=2.1->geoplot) (2.8.4)\n",
      "Requirement already satisfied: kiwisolver>=1.0.1 in c:\\users\\atanu\\anaconda3\\lib\\site-packages (from matplotlib>=3.1.2->geoplot) (1.4.2)\n",
      "Requirement already satisfied: cycler>=0.10 in c:\\users\\atanu\\anaconda3\\lib\\site-packages (from matplotlib>=3.1.2->geoplot) (0.11.0)\n",
      "Requirement already satisfied: python-dateutil>=2.7 in c:\\users\\atanu\\anaconda3\\lib\\site-packages (from matplotlib>=3.1.2->geoplot) (2.8.2)\n",
      "Requirement already satisfied: fonttools>=4.22.0 in c:\\users\\atanu\\anaconda3\\lib\\site-packages (from matplotlib>=3.1.2->geoplot) (4.25.0)\n",
      "Requirement already satisfied: pyparsing>=2.2.1 in c:\\users\\atanu\\anaconda3\\lib\\site-packages (from matplotlib>=3.1.2->geoplot) (3.0.9)\n",
      "Requirement already satisfied: pytz>=2020.1 in c:\\users\\atanu\\anaconda3\\lib\\site-packages (from pandas->geoplot) (2022.1)\n",
      "Collecting pyproj>=2.6.1.post1\n",
      "  Using cached pyproj-3.6.0-cp39-cp39-win_amd64.whl (5.8 MB)\n",
      "Collecting pyshp>=2.1\n",
      "  Using cached pyshp-2.3.1-py2.py3-none-any.whl (46 kB)\n",
      "Requirement already satisfied: attrs>=17 in c:\\users\\atanu\\anaconda3\\lib\\site-packages (from fiona>=1.8->geopandas>=0.9.0->geoplot) (21.4.0)\n",
      "Requirement already satisfied: certifi in c:\\users\\atanu\\anaconda3\\lib\\site-packages (from fiona>=1.8->geopandas>=0.9.0->geoplot) (2022.9.14)\n",
      "Requirement already satisfied: click>=4.0 in c:\\users\\atanu\\anaconda3\\lib\\site-packages (from fiona>=1.8->geopandas>=0.9.0->geoplot) (8.0.4)\n",
      "Requirement already satisfied: cligj>=0.5 in c:\\users\\atanu\\anaconda3\\lib\\site-packages (from fiona>=1.8->geopandas>=0.9.0->geoplot) (0.7.2)\n",
      "Requirement already satisfied: click-plugins>=1.0 in c:\\users\\atanu\\anaconda3\\lib\\site-packages (from fiona>=1.8->geopandas>=0.9.0->geoplot) (1.1.1)\n",
      "Requirement already satisfied: six>=1.7 in c:\\users\\atanu\\anaconda3\\lib\\site-packages (from fiona>=1.8->geopandas>=0.9.0->geoplot) (1.16.0)\n",
      "Requirement already satisfied: munch in c:\\users\\atanu\\anaconda3\\lib\\site-packages (from fiona>=1.8->geopandas>=0.9.0->geoplot) (2.5.0)\n",
      "Requirement already satisfied: setuptools in c:\\users\\atanu\\anaconda3\\lib\\site-packages (from fiona>=1.8->geopandas>=0.9.0->geoplot) (63.4.1)\n",
      "Collecting geographiclib<3,>=1.52\n",
      "  Using cached geographiclib-2.0-py3-none-any.whl (40 kB)\n",
      "Collecting snuggs>=1.4.1\n",
      "  Using cached snuggs-1.4.7-py3-none-any.whl (5.4 kB)\n",
      "Collecting affine\n",
      "  Using cached affine-2.4.0-py3-none-any.whl (15 kB)\n",
      "Requirement already satisfied: charset-normalizer<3,>=2 in c:\\users\\atanu\\anaconda3\\lib\\site-packages (from requests->contextily>=1.0.0->geoplot) (2.0.4)\n",
      "Requirement already satisfied: urllib3<1.27,>=1.21.1 in c:\\users\\atanu\\anaconda3\\lib\\site-packages (from requests->contextily>=1.0.0->geoplot) (1.26.11)\n",
      "Requirement already satisfied: idna<4,>=2.5 in c:\\users\\atanu\\anaconda3\\lib\\site-packages (from requests->contextily>=1.0.0->geoplot) (3.3)\n",
      "Requirement already satisfied: threadpoolctl>=2.0.0 in c:\\users\\atanu\\anaconda3\\lib\\site-packages (from scikit-learn->mapclassify>=2.1->geoplot) (2.2.0)\n",
      "Requirement already satisfied: colorama in c:\\users\\atanu\\anaconda3\\lib\\site-packages (from click>=4.0->fiona>=1.8->geopandas>=0.9.0->geoplot) (0.4.6)\n",
      "Building wheels for collected packages: cartopy\n",
      "  Building wheel for cartopy (pyproject.toml): started\n",
      "  Building wheel for cartopy (pyproject.toml): finished with status 'error'\n",
      "Failed to build cartopy\n",
      "Note: you may need to restart the kernel to use updated packages.\n"
     ]
    },
    {
     "name": "stderr",
     "output_type": "stream",
     "text": [
      "  error: subprocess-exited-with-error\n",
      "  \n",
      "  Building wheel for cartopy (pyproject.toml) did not run successfully.\n",
      "  exit code: 1\n",
      "  \n",
      "  [279 lines of output]\n",
      "  <string>:90: UserWarning: Unable to determine GEOS version. Ensure you have 3.7.2 or later installed, or installation may fail.\n",
      "  running bdist_wheel\n",
      "  running build\n",
      "  running build_py\n",
      "  creating build\n",
      "  creating build\\lib.win-amd64-cpython-39\n",
      "  creating build\\lib.win-amd64-cpython-39\\cartopy\n",
      "  copying lib\\cartopy\\crs.py -> build\\lib.win-amd64-cpython-39\\cartopy\n",
      "  copying lib\\cartopy\\geodesic.py -> build\\lib.win-amd64-cpython-39\\cartopy\n",
      "  copying lib\\cartopy\\img_transform.py -> build\\lib.win-amd64-cpython-39\\cartopy\n",
      "  copying lib\\cartopy\\util.py -> build\\lib.win-amd64-cpython-39\\cartopy\n",
      "  copying lib\\cartopy\\vector_transform.py -> build\\lib.win-amd64-cpython-39\\cartopy\n",
      "  copying lib\\cartopy\\_epsg.py -> build\\lib.win-amd64-cpython-39\\cartopy\n",
      "  copying lib\\cartopy\\_version.py -> build\\lib.win-amd64-cpython-39\\cartopy\n",
      "  copying lib\\cartopy\\__init__.py -> build\\lib.win-amd64-cpython-39\\cartopy\n",
      "  creating build\\lib.win-amd64-cpython-39\\cartopy\\feature\n",
      "  copying lib\\cartopy\\feature\\nightshade.py -> build\\lib.win-amd64-cpython-39\\cartopy\\feature\n",
      "  copying lib\\cartopy\\feature\\__init__.py -> build\\lib.win-amd64-cpython-39\\cartopy\\feature\n",
      "  creating build\\lib.win-amd64-cpython-39\\cartopy\\io\n",
      "  copying lib\\cartopy\\io\\img_nest.py -> build\\lib.win-amd64-cpython-39\\cartopy\\io\n",
      "  copying lib\\cartopy\\io\\img_tiles.py -> build\\lib.win-amd64-cpython-39\\cartopy\\io\n",
      "  copying lib\\cartopy\\io\\ogc_clients.py -> build\\lib.win-amd64-cpython-39\\cartopy\\io\n",
      "  copying lib\\cartopy\\io\\shapereader.py -> build\\lib.win-amd64-cpython-39\\cartopy\\io\n",
      "  copying lib\\cartopy\\io\\srtm.py -> build\\lib.win-amd64-cpython-39\\cartopy\\io\n",
      "  copying lib\\cartopy\\io\\__init__.py -> build\\lib.win-amd64-cpython-39\\cartopy\\io\n",
      "  creating build\\lib.win-amd64-cpython-39\\cartopy\\mpl\n",
      "  copying lib\\cartopy\\mpl\\clip_path.py -> build\\lib.win-amd64-cpython-39\\cartopy\\mpl\n",
      "  copying lib\\cartopy\\mpl\\contour.py -> build\\lib.win-amd64-cpython-39\\cartopy\\mpl\n",
      "  copying lib\\cartopy\\mpl\\feature_artist.py -> build\\lib.win-amd64-cpython-39\\cartopy\\mpl\n",
      "  copying lib\\cartopy\\mpl\\geoaxes.py -> build\\lib.win-amd64-cpython-39\\cartopy\\mpl\n",
      "  copying lib\\cartopy\\mpl\\geocollection.py -> build\\lib.win-amd64-cpython-39\\cartopy\\mpl\n",
      "  copying lib\\cartopy\\mpl\\gridliner.py -> build\\lib.win-amd64-cpython-39\\cartopy\\mpl\n",
      "  copying lib\\cartopy\\mpl\\patch.py -> build\\lib.win-amd64-cpython-39\\cartopy\\mpl\n",
      "  copying lib\\cartopy\\mpl\\slippy_image_artist.py -> build\\lib.win-amd64-cpython-39\\cartopy\\mpl\n",
      "  copying lib\\cartopy\\mpl\\style.py -> build\\lib.win-amd64-cpython-39\\cartopy\\mpl\n",
      "  copying lib\\cartopy\\mpl\\ticker.py -> build\\lib.win-amd64-cpython-39\\cartopy\\mpl\n",
      "  copying lib\\cartopy\\mpl\\__init__.py -> build\\lib.win-amd64-cpython-39\\cartopy\\mpl\n",
      "  creating build\\lib.win-amd64-cpython-39\\cartopy\\tests\n",
      "  copying lib\\cartopy\\tests\\conftest.py -> build\\lib.win-amd64-cpython-39\\cartopy\\tests\n",
      "  copying lib\\cartopy\\tests\\test_coastline.py -> build\\lib.win-amd64-cpython-39\\cartopy\\tests\n",
      "  copying lib\\cartopy\\tests\\test_coding_standards.py -> build\\lib.win-amd64-cpython-39\\cartopy\\tests\n",
      "  copying lib\\cartopy\\tests\\test_crs.py -> build\\lib.win-amd64-cpython-39\\cartopy\\tests\n",
      "  copying lib\\cartopy\\tests\\test_crs_transform_vectors.py -> build\\lib.win-amd64-cpython-39\\cartopy\\tests\n",
      "  copying lib\\cartopy\\tests\\test_features.py -> build\\lib.win-amd64-cpython-39\\cartopy\\tests\n",
      "  copying lib\\cartopy\\tests\\test_geodesic.py -> build\\lib.win-amd64-cpython-39\\cartopy\\tests\n",
      "  copying lib\\cartopy\\tests\\test_img_nest.py -> build\\lib.win-amd64-cpython-39\\cartopy\\tests\n",
      "  copying lib\\cartopy\\tests\\test_img_tiles.py -> build\\lib.win-amd64-cpython-39\\cartopy\\tests\n",
      "  copying lib\\cartopy\\tests\\test_img_transform.py -> build\\lib.win-amd64-cpython-39\\cartopy\\tests\n",
      "  copying lib\\cartopy\\tests\\test_linear_ring.py -> build\\lib.win-amd64-cpython-39\\cartopy\\tests\n",
      "  copying lib\\cartopy\\tests\\test_line_string.py -> build\\lib.win-amd64-cpython-39\\cartopy\\tests\n",
      "  copying lib\\cartopy\\tests\\test_polygon.py -> build\\lib.win-amd64-cpython-39\\cartopy\\tests\n",
      "  copying lib\\cartopy\\tests\\test_shapereader.py -> build\\lib.win-amd64-cpython-39\\cartopy\\tests\n",
      "  copying lib\\cartopy\\tests\\test_util.py -> build\\lib.win-amd64-cpython-39\\cartopy\\tests\n",
      "  copying lib\\cartopy\\tests\\test_vector_transform.py -> build\\lib.win-amd64-cpython-39\\cartopy\\tests\n",
      "  copying lib\\cartopy\\tests\\__init__.py -> build\\lib.win-amd64-cpython-39\\cartopy\\tests\n",
      "  creating build\\lib.win-amd64-cpython-39\\cartopy\\tests\\crs\n",
      "  copying lib\\cartopy\\tests\\crs\\helpers.py -> build\\lib.win-amd64-cpython-39\\cartopy\\tests\\crs\n",
      "  copying lib\\cartopy\\tests\\crs\\test_albers_equal_area.py -> build\\lib.win-amd64-cpython-39\\cartopy\\tests\\crs\n",
      "  copying lib\\cartopy\\tests\\crs\\test_azimuthal_equidistant.py -> build\\lib.win-amd64-cpython-39\\cartopy\\tests\\crs\n",
      "  copying lib\\cartopy\\tests\\crs\\test_eckert.py -> build\\lib.win-amd64-cpython-39\\cartopy\\tests\\crs\n",
      "  copying lib\\cartopy\\tests\\crs\\test_equal_earth.py -> build\\lib.win-amd64-cpython-39\\cartopy\\tests\\crs\n",
      "  copying lib\\cartopy\\tests\\crs\\test_equidistant_conic.py -> build\\lib.win-amd64-cpython-39\\cartopy\\tests\\crs\n",
      "  copying lib\\cartopy\\tests\\crs\\test_geostationary.py -> build\\lib.win-amd64-cpython-39\\cartopy\\tests\\crs\n",
      "  copying lib\\cartopy\\tests\\crs\\test_gnomonic.py -> build\\lib.win-amd64-cpython-39\\cartopy\\tests\\crs\n",
      "  copying lib\\cartopy\\tests\\crs\\test_interrupted_goode_homolosine.py -> build\\lib.win-amd64-cpython-39\\cartopy\\tests\\crs\n",
      "  copying lib\\cartopy\\tests\\crs\\test_lambert_azimuthal_equal_area.py -> build\\lib.win-amd64-cpython-39\\cartopy\\tests\\crs\n",
      "  copying lib\\cartopy\\tests\\crs\\test_lambert_conformal.py -> build\\lib.win-amd64-cpython-39\\cartopy\\tests\\crs\n",
      "  copying lib\\cartopy\\tests\\crs\\test_mercator.py -> build\\lib.win-amd64-cpython-39\\cartopy\\tests\\crs\n",
      "  copying lib\\cartopy\\tests\\crs\\test_miller.py -> build\\lib.win-amd64-cpython-39\\cartopy\\tests\\crs\n",
      "  copying lib\\cartopy\\tests\\crs\\test_mollweide.py -> build\\lib.win-amd64-cpython-39\\cartopy\\tests\\crs\n",
      "  copying lib\\cartopy\\tests\\crs\\test_nearside_perspective.py -> build\\lib.win-amd64-cpython-39\\cartopy\\tests\\crs\n",
      "  copying lib\\cartopy\\tests\\crs\\test_orthographic.py -> build\\lib.win-amd64-cpython-39\\cartopy\\tests\\crs\n",
      "  copying lib\\cartopy\\tests\\crs\\test_robinson.py -> build\\lib.win-amd64-cpython-39\\cartopy\\tests\\crs\n",
      "  copying lib\\cartopy\\tests\\crs\\test_rotated_geodetic.py -> build\\lib.win-amd64-cpython-39\\cartopy\\tests\\crs\n",
      "  copying lib\\cartopy\\tests\\crs\\test_rotated_pole.py -> build\\lib.win-amd64-cpython-39\\cartopy\\tests\\crs\n",
      "  copying lib\\cartopy\\tests\\crs\\test_sinusoidal.py -> build\\lib.win-amd64-cpython-39\\cartopy\\tests\\crs\n",
      "  copying lib\\cartopy\\tests\\crs\\test_stereographic.py -> build\\lib.win-amd64-cpython-39\\cartopy\\tests\\crs\n",
      "  copying lib\\cartopy\\tests\\crs\\test_transverse_mercator.py -> build\\lib.win-amd64-cpython-39\\cartopy\\tests\\crs\n",
      "  copying lib\\cartopy\\tests\\crs\\test_utm.py -> build\\lib.win-amd64-cpython-39\\cartopy\\tests\\crs\n",
      "  copying lib\\cartopy\\tests\\crs\\__init__.py -> build\\lib.win-amd64-cpython-39\\cartopy\\tests\\crs\n",
      "  creating build\\lib.win-amd64-cpython-39\\cartopy\\tests\\feature\n",
      "  copying lib\\cartopy\\tests\\feature\\test_nightshade.py -> build\\lib.win-amd64-cpython-39\\cartopy\\tests\\feature\n",
      "  copying lib\\cartopy\\tests\\feature\\__init__.py -> build\\lib.win-amd64-cpython-39\\cartopy\\tests\\feature\n",
      "  creating build\\lib.win-amd64-cpython-39\\cartopy\\tests\\io\n",
      "  copying lib\\cartopy\\tests\\io\\test_downloaders.py -> build\\lib.win-amd64-cpython-39\\cartopy\\tests\\io\n",
      "  copying lib\\cartopy\\tests\\io\\test_ogc_clients.py -> build\\lib.win-amd64-cpython-39\\cartopy\\tests\\io\n",
      "  copying lib\\cartopy\\tests\\io\\test_srtm.py -> build\\lib.win-amd64-cpython-39\\cartopy\\tests\\io\n",
      "  copying lib\\cartopy\\tests\\io\\__init__.py -> build\\lib.win-amd64-cpython-39\\cartopy\\tests\\io\n",
      "  creating build\\lib.win-amd64-cpython-39\\cartopy\\tests\\mpl\n",
      "  copying lib\\cartopy\\tests\\mpl\\conftest.py -> build\\lib.win-amd64-cpython-39\\cartopy\\tests\\mpl\n",
      "  copying lib\\cartopy\\tests\\mpl\\test_axes.py -> build\\lib.win-amd64-cpython-39\\cartopy\\tests\\mpl\n",
      "  copying lib\\cartopy\\tests\\mpl\\test_caching.py -> build\\lib.win-amd64-cpython-39\\cartopy\\tests\\mpl\n",
      "  copying lib\\cartopy\\tests\\mpl\\test_contour.py -> build\\lib.win-amd64-cpython-39\\cartopy\\tests\\mpl\n",
      "  copying lib\\cartopy\\tests\\mpl\\test_crs.py -> build\\lib.win-amd64-cpython-39\\cartopy\\tests\\mpl\n",
      "  copying lib\\cartopy\\tests\\mpl\\test_examples.py -> build\\lib.win-amd64-cpython-39\\cartopy\\tests\\mpl\n",
      "  copying lib\\cartopy\\tests\\mpl\\test_features.py -> build\\lib.win-amd64-cpython-39\\cartopy\\tests\\mpl\n",
      "  copying lib\\cartopy\\tests\\mpl\\test_feature_artist.py -> build\\lib.win-amd64-cpython-39\\cartopy\\tests\\mpl\n",
      "  copying lib\\cartopy\\tests\\mpl\\test_gridliner.py -> build\\lib.win-amd64-cpython-39\\cartopy\\tests\\mpl\n",
      "  copying lib\\cartopy\\tests\\mpl\\test_images.py -> build\\lib.win-amd64-cpython-39\\cartopy\\tests\\mpl\n",
      "  copying lib\\cartopy\\tests\\mpl\\test_img_transform.py -> build\\lib.win-amd64-cpython-39\\cartopy\\tests\\mpl\n",
      "  copying lib\\cartopy\\tests\\mpl\\test_mpl_integration.py -> build\\lib.win-amd64-cpython-39\\cartopy\\tests\\mpl\n",
      "  copying lib\\cartopy\\tests\\mpl\\test_nightshade.py -> build\\lib.win-amd64-cpython-39\\cartopy\\tests\\mpl\n",
      "  copying lib\\cartopy\\tests\\mpl\\test_patch.py -> build\\lib.win-amd64-cpython-39\\cartopy\\tests\\mpl\n",
      "  copying lib\\cartopy\\tests\\mpl\\test_plots.py -> build\\lib.win-amd64-cpython-39\\cartopy\\tests\\mpl\n",
      "  copying lib\\cartopy\\tests\\mpl\\test_pseudo_color.py -> build\\lib.win-amd64-cpython-39\\cartopy\\tests\\mpl\n",
      "  copying lib\\cartopy\\tests\\mpl\\test_quiver.py -> build\\lib.win-amd64-cpython-39\\cartopy\\tests\\mpl\n",
      "  copying lib\\cartopy\\tests\\mpl\\test_set_extent.py -> build\\lib.win-amd64-cpython-39\\cartopy\\tests\\mpl\n",
      "  copying lib\\cartopy\\tests\\mpl\\test_shapely_to_mpl.py -> build\\lib.win-amd64-cpython-39\\cartopy\\tests\\mpl\n",
      "  copying lib\\cartopy\\tests\\mpl\\test_style.py -> build\\lib.win-amd64-cpython-39\\cartopy\\tests\\mpl\n",
      "  copying lib\\cartopy\\tests\\mpl\\test_ticker.py -> build\\lib.win-amd64-cpython-39\\cartopy\\tests\\mpl\n",
      "  copying lib\\cartopy\\tests\\mpl\\test_ticks.py -> build\\lib.win-amd64-cpython-39\\cartopy\\tests\\mpl\n",
      "  copying lib\\cartopy\\tests\\mpl\\test_web_services.py -> build\\lib.win-amd64-cpython-39\\cartopy\\tests\\mpl\n",
      "  copying lib\\cartopy\\tests\\mpl\\__init__.py -> build\\lib.win-amd64-cpython-39\\cartopy\\tests\\mpl\n",
      "  creating build\\lib.win-amd64-cpython-39\\cartopy\\tests\\mpl\\baseline_images\n",
      "  creating build\\lib.win-amd64-cpython-39\\cartopy\\tests\\mpl\\baseline_images\\mpl\n",
      "  creating build\\lib.win-amd64-cpython-39\\cartopy\\tests\\mpl\\baseline_images\\mpl\\test_axes\n",
      "  copying lib\\cartopy\\tests\\mpl\\baseline_images\\mpl\\test_axes\\geoaxes_set_boundary_clipping.png -> build\\lib.win-amd64-cpython-39\\cartopy\\tests\\mpl\\baseline_images\\mpl\\test_axes\n",
      "  copying lib\\cartopy\\tests\\mpl\\baseline_images\\mpl\\test_axes\\geoaxes_subslice.png -> build\\lib.win-amd64-cpython-39\\cartopy\\tests\\mpl\\baseline_images\\mpl\\test_axes\n",
      "  creating build\\lib.win-amd64-cpython-39\\cartopy\\tests\\mpl\\baseline_images\\mpl\\test_crs\n",
      "  copying lib\\cartopy\\tests\\mpl\\baseline_images\\mpl\\test_crs\\igh_land.png -> build\\lib.win-amd64-cpython-39\\cartopy\\tests\\mpl\\baseline_images\\mpl\\test_crs\n",
      "  copying lib\\cartopy\\tests\\mpl\\baseline_images\\mpl\\test_crs\\igh_ocean.png -> build\\lib.win-amd64-cpython-39\\cartopy\\tests\\mpl\\baseline_images\\mpl\\test_crs\n",
      "  copying lib\\cartopy\\tests\\mpl\\baseline_images\\mpl\\test_crs\\lambert_conformal_south.png -> build\\lib.win-amd64-cpython-39\\cartopy\\tests\\mpl\\baseline_images\\mpl\\test_crs\n",
      "  creating build\\lib.win-amd64-cpython-39\\cartopy\\tests\\mpl\\baseline_images\\mpl\\test_examples\n",
      "  copying lib\\cartopy\\tests\\mpl\\baseline_images\\mpl\\test_examples\\contour_label.png -> build\\lib.win-amd64-cpython-39\\cartopy\\tests\\mpl\\baseline_images\\mpl\\test_examples\n",
      "  copying lib\\cartopy\\tests\\mpl\\baseline_images\\mpl\\test_examples\\global_map.png -> build\\lib.win-amd64-cpython-39\\cartopy\\tests\\mpl\\baseline_images\\mpl\\test_examples\n",
      "  creating build\\lib.win-amd64-cpython-39\\cartopy\\tests\\mpl\\baseline_images\\mpl\\test_features\n",
      "  copying lib\\cartopy\\tests\\mpl\\baseline_images\\mpl\\test_features\\gshhs_coastlines.png -> build\\lib.win-amd64-cpython-39\\cartopy\\tests\\mpl\\baseline_images\\mpl\\test_features\n",
      "  copying lib\\cartopy\\tests\\mpl\\baseline_images\\mpl\\test_features\\natural_earth.png -> build\\lib.win-amd64-cpython-39\\cartopy\\tests\\mpl\\baseline_images\\mpl\\test_features\n",
      "  copying lib\\cartopy\\tests\\mpl\\baseline_images\\mpl\\test_features\\natural_earth_custom.png -> build\\lib.win-amd64-cpython-39\\cartopy\\tests\\mpl\\baseline_images\\mpl\\test_features\n",
      "  copying lib\\cartopy\\tests\\mpl\\baseline_images\\mpl\\test_features\\wfs.png -> build\\lib.win-amd64-cpython-39\\cartopy\\tests\\mpl\\baseline_images\\mpl\\test_features\n",
      "  creating build\\lib.win-amd64-cpython-39\\cartopy\\tests\\mpl\\baseline_images\\mpl\\test_gridliner\n",
      "  copying lib\\cartopy\\tests\\mpl\\baseline_images\\mpl\\test_gridliner\\gridliner1.png -> build\\lib.win-amd64-cpython-39\\cartopy\\tests\\mpl\\baseline_images\\mpl\\test_gridliner\n",
      "  copying lib\\cartopy\\tests\\mpl\\baseline_images\\mpl\\test_gridliner\\gridliner_labels.png -> build\\lib.win-amd64-cpython-39\\cartopy\\tests\\mpl\\baseline_images\\mpl\\test_gridliner\n",
      "  copying lib\\cartopy\\tests\\mpl\\baseline_images\\mpl\\test_gridliner\\gridliner_labels_bbox_style.png -> build\\lib.win-amd64-cpython-39\\cartopy\\tests\\mpl\\baseline_images\\mpl\\test_gridliner\n",
      "  copying lib\\cartopy\\tests\\mpl\\baseline_images\\mpl\\test_gridliner\\gridliner_labels_tight.png -> build\\lib.win-amd64-cpython-39\\cartopy\\tests\\mpl\\baseline_images\\mpl\\test_gridliner\n",
      "  copying lib\\cartopy\\tests\\mpl\\baseline_images\\mpl\\test_gridliner\\test_grid_labels_inline_AlbersEqualArea.png -> build\\lib.win-amd64-cpython-39\\cartopy\\tests\\mpl\\baseline_images\\mpl\\test_gridliner\n",
      "  copying lib\\cartopy\\tests\\mpl\\baseline_images\\mpl\\test_gridliner\\test_grid_labels_inline_AzimuthalEquidistant.png -> build\\lib.win-amd64-cpython-39\\cartopy\\tests\\mpl\\baseline_images\\mpl\\test_gridliner\n",
      "  copying lib\\cartopy\\tests\\mpl\\baseline_images\\mpl\\test_gridliner\\test_grid_labels_inline_EuroPP.png -> build\\lib.win-amd64-cpython-39\\cartopy\\tests\\mpl\\baseline_images\\mpl\\test_gridliner\n",
      "  copying lib\\cartopy\\tests\\mpl\\baseline_images\\mpl\\test_gridliner\\test_grid_labels_inline_Geostationary.png -> build\\lib.win-amd64-cpython-39\\cartopy\\tests\\mpl\\baseline_images\\mpl\\test_gridliner\n",
      "  copying lib\\cartopy\\tests\\mpl\\baseline_images\\mpl\\test_gridliner\\test_grid_labels_inline_Gnomonic.png -> build\\lib.win-amd64-cpython-39\\cartopy\\tests\\mpl\\baseline_images\\mpl\\test_gridliner\n",
      "  copying lib\\cartopy\\tests\\mpl\\baseline_images\\mpl\\test_gridliner\\test_grid_labels_inline_InterruptedGoodeHomolosine.png -> build\\lib.win-amd64-cpython-39\\cartopy\\tests\\mpl\\baseline_images\\mpl\\test_gridliner\n",
      "  copying lib\\cartopy\\tests\\mpl\\baseline_images\\mpl\\test_gridliner\\test_grid_labels_inline_LambertAzimuthalEqualArea.png -> build\\lib.win-amd64-cpython-39\\cartopy\\tests\\mpl\\baseline_images\\mpl\\test_gridliner\n",
      "  copying lib\\cartopy\\tests\\mpl\\baseline_images\\mpl\\test_gridliner\\test_grid_labels_inline_LambertConformal.png -> build\\lib.win-amd64-cpython-39\\cartopy\\tests\\mpl\\baseline_images\\mpl\\test_gridliner\n",
      "  copying lib\\cartopy\\tests\\mpl\\baseline_images\\mpl\\test_gridliner\\test_grid_labels_inline_LambertCylindrical.png -> build\\lib.win-amd64-cpython-39\\cartopy\\tests\\mpl\\baseline_images\\mpl\\test_gridliner\n",
      "  copying lib\\cartopy\\tests\\mpl\\baseline_images\\mpl\\test_gridliner\\test_grid_labels_inline_Mercator.png -> build\\lib.win-amd64-cpython-39\\cartopy\\tests\\mpl\\baseline_images\\mpl\\test_gridliner\n",
      "  copying lib\\cartopy\\tests\\mpl\\baseline_images\\mpl\\test_gridliner\\test_grid_labels_inline_Miller.png -> build\\lib.win-amd64-cpython-39\\cartopy\\tests\\mpl\\baseline_images\\mpl\\test_gridliner\n",
      "  copying lib\\cartopy\\tests\\mpl\\baseline_images\\mpl\\test_gridliner\\test_grid_labels_inline_Mollweide.png -> build\\lib.win-amd64-cpython-39\\cartopy\\tests\\mpl\\baseline_images\\mpl\\test_gridliner\n",
      "  copying lib\\cartopy\\tests\\mpl\\baseline_images\\mpl\\test_gridliner\\test_grid_labels_inline_NearsidePerspective.png -> build\\lib.win-amd64-cpython-39\\cartopy\\tests\\mpl\\baseline_images\\mpl\\test_gridliner\n",
      "  copying lib\\cartopy\\tests\\mpl\\baseline_images\\mpl\\test_gridliner\\test_grid_labels_inline_NorthPolarStereo.png -> build\\lib.win-amd64-cpython-39\\cartopy\\tests\\mpl\\baseline_images\\mpl\\test_gridliner\n",
      "  copying lib\\cartopy\\tests\\mpl\\baseline_images\\mpl\\test_gridliner\\test_grid_labels_inline_Orthographic.png -> build\\lib.win-amd64-cpython-39\\cartopy\\tests\\mpl\\baseline_images\\mpl\\test_gridliner\n",
      "  copying lib\\cartopy\\tests\\mpl\\baseline_images\\mpl\\test_gridliner\\test_grid_labels_inline_OSGB.png -> build\\lib.win-amd64-cpython-39\\cartopy\\tests\\mpl\\baseline_images\\mpl\\test_gridliner\n",
      "  copying lib\\cartopy\\tests\\mpl\\baseline_images\\mpl\\test_gridliner\\test_grid_labels_inline_OSNI.png -> build\\lib.win-amd64-cpython-39\\cartopy\\tests\\mpl\\baseline_images\\mpl\\test_gridliner\n",
      "  copying lib\\cartopy\\tests\\mpl\\baseline_images\\mpl\\test_gridliner\\test_grid_labels_inline_PlateCarree.png -> build\\lib.win-amd64-cpython-39\\cartopy\\tests\\mpl\\baseline_images\\mpl\\test_gridliner\n",
      "  copying lib\\cartopy\\tests\\mpl\\baseline_images\\mpl\\test_gridliner\\test_grid_labels_inline_Robinson.png -> build\\lib.win-amd64-cpython-39\\cartopy\\tests\\mpl\\baseline_images\\mpl\\test_gridliner\n",
      "  copying lib\\cartopy\\tests\\mpl\\baseline_images\\mpl\\test_gridliner\\test_grid_labels_inline_RotatedPole.png -> build\\lib.win-amd64-cpython-39\\cartopy\\tests\\mpl\\baseline_images\\mpl\\test_gridliner\n",
      "  copying lib\\cartopy\\tests\\mpl\\baseline_images\\mpl\\test_gridliner\\test_grid_labels_inline_Sinusoidal.png -> build\\lib.win-amd64-cpython-39\\cartopy\\tests\\mpl\\baseline_images\\mpl\\test_gridliner\n",
      "  copying lib\\cartopy\\tests\\mpl\\baseline_images\\mpl\\test_gridliner\\test_grid_labels_inline_SouthPolarStereo.png -> build\\lib.win-amd64-cpython-39\\cartopy\\tests\\mpl\\baseline_images\\mpl\\test_gridliner\n",
      "  copying lib\\cartopy\\tests\\mpl\\baseline_images\\mpl\\test_gridliner\\test_grid_labels_inline_Stereographic.png -> build\\lib.win-amd64-cpython-39\\cartopy\\tests\\mpl\\baseline_images\\mpl\\test_gridliner\n",
      "  copying lib\\cartopy\\tests\\mpl\\baseline_images\\mpl\\test_gridliner\\test_grid_labels_inline_usa_AlbersEqualArea.png -> build\\lib.win-amd64-cpython-39\\cartopy\\tests\\mpl\\baseline_images\\mpl\\test_gridliner\n",
      "  copying lib\\cartopy\\tests\\mpl\\baseline_images\\mpl\\test_gridliner\\test_grid_labels_inline_usa_AzimuthalEquidistant.png -> build\\lib.win-amd64-cpython-39\\cartopy\\tests\\mpl\\baseline_images\\mpl\\test_gridliner\n",
      "  copying lib\\cartopy\\tests\\mpl\\baseline_images\\mpl\\test_gridliner\\test_grid_labels_inline_usa_Geostationary.png -> build\\lib.win-amd64-cpython-39\\cartopy\\tests\\mpl\\baseline_images\\mpl\\test_gridliner\n",
      "  copying lib\\cartopy\\tests\\mpl\\baseline_images\\mpl\\test_gridliner\\test_grid_labels_inline_usa_Gnomonic.png -> build\\lib.win-amd64-cpython-39\\cartopy\\tests\\mpl\\baseline_images\\mpl\\test_gridliner\n",
      "  copying lib\\cartopy\\tests\\mpl\\baseline_images\\mpl\\test_gridliner\\test_grid_labels_inline_usa_InterruptedGoodeHomolosine.png -> build\\lib.win-amd64-cpython-39\\cartopy\\tests\\mpl\\baseline_images\\mpl\\test_gridliner\n",
      "  copying lib\\cartopy\\tests\\mpl\\baseline_images\\mpl\\test_gridliner\\test_grid_labels_inline_usa_LambertAzimuthalEqualArea.png -> build\\lib.win-amd64-cpython-39\\cartopy\\tests\\mpl\\baseline_images\\mpl\\test_gridliner\n",
      "  copying lib\\cartopy\\tests\\mpl\\baseline_images\\mpl\\test_gridliner\\test_grid_labels_inline_usa_LambertConformal.png -> build\\lib.win-amd64-cpython-39\\cartopy\\tests\\mpl\\baseline_images\\mpl\\test_gridliner\n",
      "  copying lib\\cartopy\\tests\\mpl\\baseline_images\\mpl\\test_gridliner\\test_grid_labels_inline_usa_LambertCylindrical.png -> build\\lib.win-amd64-cpython-39\\cartopy\\tests\\mpl\\baseline_images\\mpl\\test_gridliner\n",
      "  copying lib\\cartopy\\tests\\mpl\\baseline_images\\mpl\\test_gridliner\\test_grid_labels_inline_usa_Mercator.png -> build\\lib.win-amd64-cpython-39\\cartopy\\tests\\mpl\\baseline_images\\mpl\\test_gridliner\n",
      "  copying lib\\cartopy\\tests\\mpl\\baseline_images\\mpl\\test_gridliner\\test_grid_labels_inline_usa_Miller.png -> build\\lib.win-amd64-cpython-39\\cartopy\\tests\\mpl\\baseline_images\\mpl\\test_gridliner\n",
      "  copying lib\\cartopy\\tests\\mpl\\baseline_images\\mpl\\test_gridliner\\test_grid_labels_inline_usa_Mollweide.png -> build\\lib.win-amd64-cpython-39\\cartopy\\tests\\mpl\\baseline_images\\mpl\\test_gridliner\n",
      "  copying lib\\cartopy\\tests\\mpl\\baseline_images\\mpl\\test_gridliner\\test_grid_labels_inline_usa_NearsidePerspective.png -> build\\lib.win-amd64-cpython-39\\cartopy\\tests\\mpl\\baseline_images\\mpl\\test_gridliner\n",
      "  copying lib\\cartopy\\tests\\mpl\\baseline_images\\mpl\\test_gridliner\\test_grid_labels_inline_usa_NorthPolarStereo.png -> build\\lib.win-amd64-cpython-39\\cartopy\\tests\\mpl\\baseline_images\\mpl\\test_gridliner\n",
      "  copying lib\\cartopy\\tests\\mpl\\baseline_images\\mpl\\test_gridliner\\test_grid_labels_inline_usa_Orthographic.png -> build\\lib.win-amd64-cpython-39\\cartopy\\tests\\mpl\\baseline_images\\mpl\\test_gridliner\n",
      "  copying lib\\cartopy\\tests\\mpl\\baseline_images\\mpl\\test_gridliner\\test_grid_labels_inline_usa_PlateCarree.png -> build\\lib.win-amd64-cpython-39\\cartopy\\tests\\mpl\\baseline_images\\mpl\\test_gridliner\n",
      "  copying lib\\cartopy\\tests\\mpl\\baseline_images\\mpl\\test_gridliner\\test_grid_labels_inline_usa_Robinson.png -> build\\lib.win-amd64-cpython-39\\cartopy\\tests\\mpl\\baseline_images\\mpl\\test_gridliner\n",
      "  copying lib\\cartopy\\tests\\mpl\\baseline_images\\mpl\\test_gridliner\\test_grid_labels_inline_usa_RotatedPole.png -> build\\lib.win-amd64-cpython-39\\cartopy\\tests\\mpl\\baseline_images\\mpl\\test_gridliner\n",
      "  copying lib\\cartopy\\tests\\mpl\\baseline_images\\mpl\\test_gridliner\\test_grid_labels_inline_usa_Sinusoidal.png -> build\\lib.win-amd64-cpython-39\\cartopy\\tests\\mpl\\baseline_images\\mpl\\test_gridliner\n",
      "  copying lib\\cartopy\\tests\\mpl\\baseline_images\\mpl\\test_gridliner\\test_grid_labels_inline_usa_SouthPolarStereo.png -> build\\lib.win-amd64-cpython-39\\cartopy\\tests\\mpl\\baseline_images\\mpl\\test_gridliner\n",
      "  copying lib\\cartopy\\tests\\mpl\\baseline_images\\mpl\\test_gridliner\\test_grid_labels_inline_usa_Stereographic.png -> build\\lib.win-amd64-cpython-39\\cartopy\\tests\\mpl\\baseline_images\\mpl\\test_gridliner\n",
      "  creating build\\lib.win-amd64-cpython-39\\cartopy\\tests\\mpl\\baseline_images\\mpl\\test_images\n",
      "  copying lib\\cartopy\\tests\\mpl\\baseline_images\\mpl\\test_images\\image_merge.png -> build\\lib.win-amd64-cpython-39\\cartopy\\tests\\mpl\\baseline_images\\mpl\\test_images\n",
      "  copying lib\\cartopy\\tests\\mpl\\baseline_images\\mpl\\test_images\\image_nest.png -> build\\lib.win-amd64-cpython-39\\cartopy\\tests\\mpl\\baseline_images\\mpl\\test_images\n",
      "  copying lib\\cartopy\\tests\\mpl\\baseline_images\\mpl\\test_images\\imshow_natural_earth_ortho.png -> build\\lib.win-amd64-cpython-39\\cartopy\\tests\\mpl\\baseline_images\\mpl\\test_images\n",
      "  copying lib\\cartopy\\tests\\mpl\\baseline_images\\mpl\\test_images\\imshow_regional_projected.png -> build\\lib.win-amd64-cpython-39\\cartopy\\tests\\mpl\\baseline_images\\mpl\\test_images\n",
      "  copying lib\\cartopy\\tests\\mpl\\baseline_images\\mpl\\test_images\\web_tiles.png -> build\\lib.win-amd64-cpython-39\\cartopy\\tests\\mpl\\baseline_images\\mpl\\test_images\n",
      "  creating build\\lib.win-amd64-cpython-39\\cartopy\\tests\\mpl\\baseline_images\\mpl\\test_img_tiles2\n",
      "  copying lib\\cartopy\\tests\\mpl\\baseline_images\\mpl\\test_img_tiles2\\web_tiles.png -> build\\lib.win-amd64-cpython-39\\cartopy\\tests\\mpl\\baseline_images\\mpl\\test_img_tiles2\n",
      "  creating build\\lib.win-amd64-cpython-39\\cartopy\\tests\\mpl\\baseline_images\\mpl\\test_img_transform\n",
      "  copying lib\\cartopy\\tests\\mpl\\baseline_images\\mpl\\test_img_transform\\regrid_image.png -> build\\lib.win-amd64-cpython-39\\cartopy\\tests\\mpl\\baseline_images\\mpl\\test_img_transform\n",
      "  creating build\\lib.win-amd64-cpython-39\\cartopy\\tests\\mpl\\baseline_images\\mpl\\test_mpl_integration\n",
      "  copying lib\\cartopy\\tests\\mpl\\baseline_images\\mpl\\test_mpl_integration\\barbs_1d.png -> build\\lib.win-amd64-cpython-39\\cartopy\\tests\\mpl\\baseline_images\\mpl\\test_mpl_integration\n",
      "  copying lib\\cartopy\\tests\\mpl\\baseline_images\\mpl\\test_mpl_integration\\barbs_1d_transformed.png -> build\\lib.win-amd64-cpython-39\\cartopy\\tests\\mpl\\baseline_images\\mpl\\test_mpl_integration\n",
      "  copying lib\\cartopy\\tests\\mpl\\baseline_images\\mpl\\test_mpl_integration\\barbs_plate_carree.png -> build\\lib.win-amd64-cpython-39\\cartopy\\tests\\mpl\\baseline_images\\mpl\\test_mpl_integration\n",
      "  copying lib\\cartopy\\tests\\mpl\\baseline_images\\mpl\\test_mpl_integration\\barbs_regrid.png -> build\\lib.win-amd64-cpython-39\\cartopy\\tests\\mpl\\baseline_images\\mpl\\test_mpl_integration\n",
      "  copying lib\\cartopy\\tests\\mpl\\baseline_images\\mpl\\test_mpl_integration\\barbs_regrid_with_extent.png -> build\\lib.win-amd64-cpython-39\\cartopy\\tests\\mpl\\baseline_images\\mpl\\test_mpl_integration\n",
      "  copying lib\\cartopy\\tests\\mpl\\baseline_images\\mpl\\test_mpl_integration\\global_contourf_wrap.png -> build\\lib.win-amd64-cpython-39\\cartopy\\tests\\mpl\\baseline_images\\mpl\\test_mpl_integration\n",
      "  copying lib\\cartopy\\tests\\mpl\\baseline_images\\mpl\\test_mpl_integration\\global_contour_wrap.png -> build\\lib.win-amd64-cpython-39\\cartopy\\tests\\mpl\\baseline_images\\mpl\\test_mpl_integration\n",
      "  copying lib\\cartopy\\tests\\mpl\\baseline_images\\mpl\\test_mpl_integration\\global_hexbin_wrap.png -> build\\lib.win-amd64-cpython-39\\cartopy\\tests\\mpl\\baseline_images\\mpl\\test_mpl_integration\n",
      "  copying lib\\cartopy\\tests\\mpl\\baseline_images\\mpl\\test_mpl_integration\\global_pcolor_wrap.png -> build\\lib.win-amd64-cpython-39\\cartopy\\tests\\mpl\\baseline_images\\mpl\\test_mpl_integration\n",
      "  copying lib\\cartopy\\tests\\mpl\\baseline_images\\mpl\\test_mpl_integration\\global_scatter_wrap.png -> build\\lib.win-amd64-cpython-39\\cartopy\\tests\\mpl\\baseline_images\\mpl\\test_mpl_integration\n",
      "  copying lib\\cartopy\\tests\\mpl\\baseline_images\\mpl\\test_mpl_integration\\pcolormesh_global_wrap1.png -> build\\lib.win-amd64-cpython-39\\cartopy\\tests\\mpl\\baseline_images\\mpl\\test_mpl_integration\n",
      "  copying lib\\cartopy\\tests\\mpl\\baseline_images\\mpl\\test_mpl_integration\\pcolormesh_global_wrap2.png -> build\\lib.win-amd64-cpython-39\\cartopy\\tests\\mpl\\baseline_images\\mpl\\test_mpl_integration\n",
      "  copying lib\\cartopy\\tests\\mpl\\baseline_images\\mpl\\test_mpl_integration\\pcolormesh_global_wrap3.png -> build\\lib.win-amd64-cpython-39\\cartopy\\tests\\mpl\\baseline_images\\mpl\\test_mpl_integration\n",
      "  copying lib\\cartopy\\tests\\mpl\\baseline_images\\mpl\\test_mpl_integration\\pcolormesh_goode_wrap.png -> build\\lib.win-amd64-cpython-39\\cartopy\\tests\\mpl\\baseline_images\\mpl\\test_mpl_integration\n",
      "  copying lib\\cartopy\\tests\\mpl\\baseline_images\\mpl\\test_mpl_integration\\pcolormesh_limited_area_wrap.png -> build\\lib.win-amd64-cpython-39\\cartopy\\tests\\mpl\\baseline_images\\mpl\\test_mpl_integration\n",
      "  copying lib\\cartopy\\tests\\mpl\\baseline_images\\mpl\\test_mpl_integration\\pcolormesh_mercator_wrap.png -> build\\lib.win-amd64-cpython-39\\cartopy\\tests\\mpl\\baseline_images\\mpl\\test_mpl_integration\n",
      "  copying lib\\cartopy\\tests\\mpl\\baseline_images\\mpl\\test_mpl_integration\\pcolormesh_single_column_wrap.png -> build\\lib.win-amd64-cpython-39\\cartopy\\tests\\mpl\\baseline_images\\mpl\\test_mpl_integration\n",
      "  copying lib\\cartopy\\tests\\mpl\\baseline_images\\mpl\\test_mpl_integration\\quiver_plate_carree.png -> build\\lib.win-amd64-cpython-39\\cartopy\\tests\\mpl\\baseline_images\\mpl\\test_mpl_integration\n",
      "  copying lib\\cartopy\\tests\\mpl\\baseline_images\\mpl\\test_mpl_integration\\quiver_regrid.png -> build\\lib.win-amd64-cpython-39\\cartopy\\tests\\mpl\\baseline_images\\mpl\\test_mpl_integration\n",
      "  copying lib\\cartopy\\tests\\mpl\\baseline_images\\mpl\\test_mpl_integration\\quiver_regrid_with_extent.png -> build\\lib.win-amd64-cpython-39\\cartopy\\tests\\mpl\\baseline_images\\mpl\\test_mpl_integration\n",
      "  copying lib\\cartopy\\tests\\mpl\\baseline_images\\mpl\\test_mpl_integration\\quiver_rotated_pole.png -> build\\lib.win-amd64-cpython-39\\cartopy\\tests\\mpl\\baseline_images\\mpl\\test_mpl_integration\n",
      "  copying lib\\cartopy\\tests\\mpl\\baseline_images\\mpl\\test_mpl_integration\\simple_global.png -> build\\lib.win-amd64-cpython-39\\cartopy\\tests\\mpl\\baseline_images\\mpl\\test_mpl_integration\n",
      "  copying lib\\cartopy\\tests\\mpl\\baseline_images\\mpl\\test_mpl_integration\\streamplot.png -> build\\lib.win-amd64-cpython-39\\cartopy\\tests\\mpl\\baseline_images\\mpl\\test_mpl_integration\n",
      "  copying lib\\cartopy\\tests\\mpl\\baseline_images\\mpl\\test_mpl_integration\\test_annotate.png -> build\\lib.win-amd64-cpython-39\\cartopy\\tests\\mpl\\baseline_images\\mpl\\test_mpl_integration\n",
      "  copying lib\\cartopy\\tests\\mpl\\baseline_images\\mpl\\test_mpl_integration\\test_global_map_EckertI.png -> build\\lib.win-amd64-cpython-39\\cartopy\\tests\\mpl\\baseline_images\\mpl\\test_mpl_integration\n",
      "  copying lib\\cartopy\\tests\\mpl\\baseline_images\\mpl\\test_mpl_integration\\test_global_map_EckertII.png -> build\\lib.win-amd64-cpython-39\\cartopy\\tests\\mpl\\baseline_images\\mpl\\test_mpl_integration\n",
      "  copying lib\\cartopy\\tests\\mpl\\baseline_images\\mpl\\test_mpl_integration\\test_global_map_EckertIII.png -> build\\lib.win-amd64-cpython-39\\cartopy\\tests\\mpl\\baseline_images\\mpl\\test_mpl_integration\n",
      "  copying lib\\cartopy\\tests\\mpl\\baseline_images\\mpl\\test_mpl_integration\\test_global_map_EckertIV.png -> build\\lib.win-amd64-cpython-39\\cartopy\\tests\\mpl\\baseline_images\\mpl\\test_mpl_integration\n",
      "  copying lib\\cartopy\\tests\\mpl\\baseline_images\\mpl\\test_mpl_integration\\test_global_map_EckertV.png -> build\\lib.win-amd64-cpython-39\\cartopy\\tests\\mpl\\baseline_images\\mpl\\test_mpl_integration\n",
      "  copying lib\\cartopy\\tests\\mpl\\baseline_images\\mpl\\test_mpl_integration\\test_global_map_EckertVI.png -> build\\lib.win-amd64-cpython-39\\cartopy\\tests\\mpl\\baseline_images\\mpl\\test_mpl_integration\n",
      "  copying lib\\cartopy\\tests\\mpl\\baseline_images\\mpl\\test_mpl_integration\\test_global_map_EqualEarth.png -> build\\lib.win-amd64-cpython-39\\cartopy\\tests\\mpl\\baseline_images\\mpl\\test_mpl_integration\n",
      "  copying lib\\cartopy\\tests\\mpl\\baseline_images\\mpl\\test_mpl_integration\\test_global_map_Gnomonic.png -> build\\lib.win-amd64-cpython-39\\cartopy\\tests\\mpl\\baseline_images\\mpl\\test_mpl_integration\n",
      "  copying lib\\cartopy\\tests\\mpl\\baseline_images\\mpl\\test_mpl_integration\\test_global_map_InterruptedGoodeHomolosine.png -> build\\lib.win-amd64-cpython-39\\cartopy\\tests\\mpl\\baseline_images\\mpl\\test_mpl_integration\n",
      "  copying lib\\cartopy\\tests\\mpl\\baseline_images\\mpl\\test_mpl_integration\\test_global_map_LambertCylindrical.png -> build\\lib.win-amd64-cpython-39\\cartopy\\tests\\mpl\\baseline_images\\mpl\\test_mpl_integration\n",
      "  copying lib\\cartopy\\tests\\mpl\\baseline_images\\mpl\\test_mpl_integration\\test_global_map_Mercator.png -> build\\lib.win-amd64-cpython-39\\cartopy\\tests\\mpl\\baseline_images\\mpl\\test_mpl_integration\n",
      "  copying lib\\cartopy\\tests\\mpl\\baseline_images\\mpl\\test_mpl_integration\\test_global_map_Miller.png -> build\\lib.win-amd64-cpython-39\\cartopy\\tests\\mpl\\baseline_images\\mpl\\test_mpl_integration\n",
      "  copying lib\\cartopy\\tests\\mpl\\baseline_images\\mpl\\test_mpl_integration\\test_global_map_Mollweide.png -> build\\lib.win-amd64-cpython-39\\cartopy\\tests\\mpl\\baseline_images\\mpl\\test_mpl_integration\n",
      "  copying lib\\cartopy\\tests\\mpl\\baseline_images\\mpl\\test_mpl_integration\\test_global_map_NorthPolarStereo.png -> build\\lib.win-amd64-cpython-39\\cartopy\\tests\\mpl\\baseline_images\\mpl\\test_mpl_integration\n",
      "  copying lib\\cartopy\\tests\\mpl\\baseline_images\\mpl\\test_mpl_integration\\test_global_map_Orthographic.png -> build\\lib.win-amd64-cpython-39\\cartopy\\tests\\mpl\\baseline_images\\mpl\\test_mpl_integration\n",
      "  copying lib\\cartopy\\tests\\mpl\\baseline_images\\mpl\\test_mpl_integration\\test_global_map_OSGB.png -> build\\lib.win-amd64-cpython-39\\cartopy\\tests\\mpl\\baseline_images\\mpl\\test_mpl_integration\n",
      "  copying lib\\cartopy\\tests\\mpl\\baseline_images\\mpl\\test_mpl_integration\\test_global_map_PlateCarree.png -> build\\lib.win-amd64-cpython-39\\cartopy\\tests\\mpl\\baseline_images\\mpl\\test_mpl_integration\n",
      "  copying lib\\cartopy\\tests\\mpl\\baseline_images\\mpl\\test_mpl_integration\\test_global_map_Robinson.png -> build\\lib.win-amd64-cpython-39\\cartopy\\tests\\mpl\\baseline_images\\mpl\\test_mpl_integration\n",
      "  copying lib\\cartopy\\tests\\mpl\\baseline_images\\mpl\\test_mpl_integration\\test_global_map_RotatedPole.png -> build\\lib.win-amd64-cpython-39\\cartopy\\tests\\mpl\\baseline_images\\mpl\\test_mpl_integration\n",
      "  copying lib\\cartopy\\tests\\mpl\\baseline_images\\mpl\\test_mpl_integration\\test_global_map_SouthPolarStereo.png -> build\\lib.win-amd64-cpython-39\\cartopy\\tests\\mpl\\baseline_images\\mpl\\test_mpl_integration\n",
      "  copying lib\\cartopy\\tests\\mpl\\baseline_images\\mpl\\test_mpl_integration\\test_global_map_Stereographic.png -> build\\lib.win-amd64-cpython-39\\cartopy\\tests\\mpl\\baseline_images\\mpl\\test_mpl_integration\n",
      "  copying lib\\cartopy\\tests\\mpl\\baseline_images\\mpl\\test_mpl_integration\\test_global_map_TransverseMercator.png -> build\\lib.win-amd64-cpython-39\\cartopy\\tests\\mpl\\baseline_images\\mpl\\test_mpl_integration\n",
      "  creating build\\lib.win-amd64-cpython-39\\cartopy\\tests\\mpl\\baseline_images\\mpl\\test_nightshade\n",
      "  copying lib\\cartopy\\tests\\mpl\\baseline_images\\mpl\\test_nightshade\\nightshade_platecarree.png -> build\\lib.win-amd64-cpython-39\\cartopy\\tests\\mpl\\baseline_images\\mpl\\test_nightshade\n",
      "  creating build\\lib.win-amd64-cpython-39\\cartopy\\tests\\mpl\\baseline_images\\mpl\\test_shapely_to_mpl\n",
      "  copying lib\\cartopy\\tests\\mpl\\baseline_images\\mpl\\test_shapely_to_mpl\\contour_with_interiors.png -> build\\lib.win-amd64-cpython-39\\cartopy\\tests\\mpl\\baseline_images\\mpl\\test_shapely_to_mpl\n",
      "  copying lib\\cartopy\\tests\\mpl\\baseline_images\\mpl\\test_shapely_to_mpl\\poly_interiors.png -> build\\lib.win-amd64-cpython-39\\cartopy\\tests\\mpl\\baseline_images\\mpl\\test_shapely_to_mpl\n",
      "  creating build\\lib.win-amd64-cpython-39\\cartopy\\tests\\mpl\\baseline_images\\mpl\\test_ticks\n",
      "  copying lib\\cartopy\\tests\\mpl\\baseline_images\\mpl\\test_ticks\\xticks_cylindrical.png -> build\\lib.win-amd64-cpython-39\\cartopy\\tests\\mpl\\baseline_images\\mpl\\test_ticks\n",
      "  copying lib\\cartopy\\tests\\mpl\\baseline_images\\mpl\\test_ticks\\xticks_no_transform.png -> build\\lib.win-amd64-cpython-39\\cartopy\\tests\\mpl\\baseline_images\\mpl\\test_ticks\n",
      "  copying lib\\cartopy\\tests\\mpl\\baseline_images\\mpl\\test_ticks\\xyticks.png -> build\\lib.win-amd64-cpython-39\\cartopy\\tests\\mpl\\baseline_images\\mpl\\test_ticks\n",
      "  copying lib\\cartopy\\tests\\mpl\\baseline_images\\mpl\\test_ticks\\yticks_cylindrical.png -> build\\lib.win-amd64-cpython-39\\cartopy\\tests\\mpl\\baseline_images\\mpl\\test_ticks\n",
      "  copying lib\\cartopy\\tests\\mpl\\baseline_images\\mpl\\test_ticks\\yticks_no_transform.png -> build\\lib.win-amd64-cpython-39\\cartopy\\tests\\mpl\\baseline_images\\mpl\\test_ticks\n",
      "  creating build\\lib.win-amd64-cpython-39\\cartopy\\tests\\mpl\\baseline_images\\mpl\\test_web_services\n",
      "  copying lib\\cartopy\\tests\\mpl\\baseline_images\\mpl\\test_web_services\\wms.png -> build\\lib.win-amd64-cpython-39\\cartopy\\tests\\mpl\\baseline_images\\mpl\\test_web_services\n",
      "  copying lib\\cartopy\\tests\\mpl\\baseline_images\\mpl\\test_web_services\\wmts.png -> build\\lib.win-amd64-cpython-39\\cartopy\\tests\\mpl\\baseline_images\\mpl\\test_web_services\n",
      "  creating build\\lib.win-amd64-cpython-39\\cartopy\\data\n",
      "  creating build\\lib.win-amd64-cpython-39\\cartopy\\data\\raster\n",
      "  creating build\\lib.win-amd64-cpython-39\\cartopy\\data\\raster\\natural_earth\n",
      "  copying lib\\cartopy\\data\\raster\\natural_earth\\50-natural-earth-1-downsampled.png -> build\\lib.win-amd64-cpython-39\\cartopy\\data\\raster\\natural_earth\n",
      "  copying lib\\cartopy\\data\\raster\\natural_earth\\images.json -> build\\lib.win-amd64-cpython-39\\cartopy\\data\\raster\\natural_earth\n",
      "  creating build\\lib.win-amd64-cpython-39\\cartopy\\data\\raster\\sample\n",
      "  copying lib\\cartopy\\data\\raster\\sample\\Miriam.A2012270.2050.2km.jpg -> build\\lib.win-amd64-cpython-39\\cartopy\\data\\raster\\sample\n",
      "  copying lib\\cartopy\\data\\raster\\sample\\Miriam.A2012270.2050.2km.README.txt -> build\\lib.win-amd64-cpython-39\\cartopy\\data\\raster\\sample\n",
      "  creating build\\lib.win-amd64-cpython-39\\cartopy\\data\\netcdf\n",
      "  copying lib\\cartopy\\data\\netcdf\\HadISST1_SST_update.nc -> build\\lib.win-amd64-cpython-39\\cartopy\\data\\netcdf\n",
      "  copying lib\\cartopy\\data\\netcdf\\HadISST1_SST_update.README.txt -> build\\lib.win-amd64-cpython-39\\cartopy\\data\\netcdf\n",
      "  creating build\\lib.win-amd64-cpython-39\\cartopy\\data\\shapefiles\n",
      "  creating build\\lib.win-amd64-cpython-39\\cartopy\\data\\shapefiles\\gshhs\n",
      "  copying lib\\cartopy\\data\\shapefiles\\gshhs\\README.TXT -> build\\lib.win-amd64-cpython-39\\cartopy\\data\\shapefiles\\gshhs\n",
      "  creating build\\lib.win-amd64-cpython-39\\cartopy\\data\\shapefiles\\gshhs\\c\n",
      "  copying lib\\cartopy\\data\\shapefiles\\gshhs\\c\\GSHHS_c_L1.dbf -> build\\lib.win-amd64-cpython-39\\cartopy\\data\\shapefiles\\gshhs\\c\n",
      "  copying lib\\cartopy\\data\\shapefiles\\gshhs\\c\\GSHHS_c_L1.shp -> build\\lib.win-amd64-cpython-39\\cartopy\\data\\shapefiles\\gshhs\\c\n",
      "  copying lib\\cartopy\\data\\shapefiles\\gshhs\\c\\GSHHS_c_L1.shx -> build\\lib.win-amd64-cpython-39\\cartopy\\data\\shapefiles\\gshhs\\c\n",
      "  creating build\\lib.win-amd64-cpython-39\\cartopy\\data\\shapefiles\\gshhs\\l\n",
      "  copying lib\\cartopy\\data\\shapefiles\\gshhs\\l\\GSHHS_l_L2.dbf -> build\\lib.win-amd64-cpython-39\\cartopy\\data\\shapefiles\\gshhs\\l\n",
      "  copying lib\\cartopy\\data\\shapefiles\\gshhs\\l\\GSHHS_l_L2.shp -> build\\lib.win-amd64-cpython-39\\cartopy\\data\\shapefiles\\gshhs\\l\n",
      "  copying lib\\cartopy\\data\\shapefiles\\gshhs\\l\\GSHHS_l_L2.shx -> build\\lib.win-amd64-cpython-39\\cartopy\\data\\shapefiles\\gshhs\\l\n",
      "  creating build\\lib.win-amd64-cpython-39\\cartopy\\tests\\lakes_shapefile\n",
      "  copying lib\\cartopy\\tests\\lakes_shapefile\\ne_110m_lakes.dbf -> build\\lib.win-amd64-cpython-39\\cartopy\\tests\\lakes_shapefile\n",
      "  copying lib\\cartopy\\tests\\lakes_shapefile\\ne_110m_lakes.shp -> build\\lib.win-amd64-cpython-39\\cartopy\\tests\\lakes_shapefile\n",
      "  copying lib\\cartopy\\tests\\lakes_shapefile\\ne_110m_lakes.shx -> build\\lib.win-amd64-cpython-39\\cartopy\\tests\\lakes_shapefile\n",
      "  copying lib\\cartopy\\io\\srtm.npz -> build\\lib.win-amd64-cpython-39\\cartopy\\io\n",
      "  running build_ext\n",
      "  building 'cartopy.trace' extension\n",
      "  error: Microsoft Visual C++ 14.0 or greater is required. Get it with \"Microsoft C++ Build Tools\": https://visualstudio.microsoft.com/visual-cpp-build-tools/\n",
      "  [end of output]\n",
      "  \n",
      "  note: This error originates from a subprocess, and is likely not a problem with pip.\n",
      "  ERROR: Failed building wheel for cartopy\n",
      "ERROR: Could not build wheels for cartopy, which is required to install pyproject.toml-based projects\n"
     ]
    }
   ],
   "source": [
    "pip install geoplot"
   ]
  },
  {
   "cell_type": "code",
   "execution_count": 10,
   "id": "5f3aa8de",
   "metadata": {},
   "outputs": [
    {
     "name": "stdout",
     "output_type": "stream",
     "text": [
      "Requirement already satisfied: pandas in c:\\users\\atanu\\anaconda3\\lib\\site-packages (1.4.4)\n",
      "Requirement already satisfied: plotly in c:\\users\\atanu\\anaconda3\\lib\\site-packages (5.9.0)\n",
      "Requirement already satisfied: folium in c:\\users\\atanu\\anaconda3\\lib\\site-packages (0.14.0)\n",
      "Requirement already satisfied: pytz>=2020.1 in c:\\users\\atanu\\anaconda3\\lib\\site-packages (from pandas) (2022.1)\n",
      "Requirement already satisfied: numpy>=1.18.5 in c:\\users\\atanu\\anaconda3\\lib\\site-packages (from pandas) (1.21.5)\n",
      "Requirement already satisfied: python-dateutil>=2.8.1 in c:\\users\\atanu\\anaconda3\\lib\\site-packages (from pandas) (2.8.2)\n",
      "Requirement already satisfied: tenacity>=6.2.0 in c:\\users\\atanu\\anaconda3\\lib\\site-packages (from plotly) (8.0.1)\n",
      "Requirement already satisfied: branca>=0.6.0 in c:\\users\\atanu\\anaconda3\\lib\\site-packages (from folium) (0.6.0)\n",
      "Requirement already satisfied: requests in c:\\users\\atanu\\anaconda3\\lib\\site-packages (from folium) (2.28.1)\n",
      "Requirement already satisfied: jinja2>=2.9 in c:\\users\\atanu\\anaconda3\\lib\\site-packages (from folium) (2.11.3)\n",
      "Requirement already satisfied: MarkupSafe>=0.23 in c:\\users\\atanu\\anaconda3\\lib\\site-packages (from jinja2>=2.9->folium) (2.0.1)\n",
      "Requirement already satisfied: six>=1.5 in c:\\users\\atanu\\anaconda3\\lib\\site-packages (from python-dateutil>=2.8.1->pandas) (1.16.0)\n",
      "Requirement already satisfied: charset-normalizer<3,>=2 in c:\\users\\atanu\\anaconda3\\lib\\site-packages (from requests->folium) (2.0.4)\n",
      "Requirement already satisfied: urllib3<1.27,>=1.21.1 in c:\\users\\atanu\\anaconda3\\lib\\site-packages (from requests->folium) (1.26.11)\n",
      "Requirement already satisfied: certifi>=2017.4.17 in c:\\users\\atanu\\anaconda3\\lib\\site-packages (from requests->folium) (2022.9.14)\n",
      "Requirement already satisfied: idna<4,>=2.5 in c:\\users\\atanu\\anaconda3\\lib\\site-packages (from requests->folium) (3.3)\n",
      "Note: you may need to restart the kernel to use updated packages.\n"
     ]
    }
   ],
   "source": [
    "pip install pandas plotly folium"
   ]
  },
  {
   "cell_type": "code",
   "execution_count": 11,
   "id": "f6fd9ad2",
   "metadata": {},
   "outputs": [],
   "source": [
    "import pandas as pd\n",
    "import plotly.express as px\n",
    "import folium"
   ]
  },
  {
   "cell_type": "code",
   "execution_count": 22,
   "id": "b963fa0b",
   "metadata": {},
   "outputs": [
    {
     "data": {
      "text/html": [
       "<div>\n",
       "<style scoped>\n",
       "    .dataframe tbody tr th:only-of-type {\n",
       "        vertical-align: middle;\n",
       "    }\n",
       "\n",
       "    .dataframe tbody tr th {\n",
       "        vertical-align: top;\n",
       "    }\n",
       "\n",
       "    .dataframe thead th {\n",
       "        text-align: right;\n",
       "    }\n",
       "</style>\n",
       "<table border=\"1\" class=\"dataframe\">\n",
       "  <thead>\n",
       "    <tr style=\"text-align: right;\">\n",
       "      <th></th>\n",
       "      <th>State</th>\n",
       "      <th>count</th>\n",
       "    </tr>\n",
       "  </thead>\n",
       "  <tbody>\n",
       "    <tr>\n",
       "      <th>0</th>\n",
       "      <td>Alabama</td>\n",
       "      <td>3</td>\n",
       "    </tr>\n",
       "    <tr>\n",
       "      <th>1</th>\n",
       "      <td>Alaska</td>\n",
       "      <td>3</td>\n",
       "    </tr>\n",
       "    <tr>\n",
       "      <th>2</th>\n",
       "      <td>Arizona</td>\n",
       "      <td>17</td>\n",
       "    </tr>\n",
       "    <tr>\n",
       "      <th>3</th>\n",
       "      <td>California</td>\n",
       "      <td>115</td>\n",
       "    </tr>\n",
       "    <tr>\n",
       "      <th>4</th>\n",
       "      <td>Colorado</td>\n",
       "      <td>12</td>\n",
       "    </tr>\n",
       "    <tr>\n",
       "      <th>5</th>\n",
       "      <td>Connecticut</td>\n",
       "      <td>5</td>\n",
       "    </tr>\n",
       "    <tr>\n",
       "      <th>6</th>\n",
       "      <td>Delaware</td>\n",
       "      <td>1</td>\n",
       "    </tr>\n",
       "    <tr>\n",
       "      <th>7</th>\n",
       "      <td>Florida</td>\n",
       "      <td>21</td>\n",
       "    </tr>\n",
       "    <tr>\n",
       "      <th>8</th>\n",
       "      <td>Georgia</td>\n",
       "      <td>9</td>\n",
       "    </tr>\n",
       "    <tr>\n",
       "      <th>9</th>\n",
       "      <td>Hawaii</td>\n",
       "      <td>7</td>\n",
       "    </tr>\n",
       "    <tr>\n",
       "      <th>10</th>\n",
       "      <td>Idaho</td>\n",
       "      <td>5</td>\n",
       "    </tr>\n",
       "    <tr>\n",
       "      <th>11</th>\n",
       "      <td>Illinois</td>\n",
       "      <td>16</td>\n",
       "    </tr>\n",
       "    <tr>\n",
       "      <th>12</th>\n",
       "      <td>Indiana</td>\n",
       "      <td>3</td>\n",
       "    </tr>\n",
       "    <tr>\n",
       "      <th>13</th>\n",
       "      <td>Iowa</td>\n",
       "      <td>1</td>\n",
       "    </tr>\n",
       "    <tr>\n",
       "      <th>14</th>\n",
       "      <td>Kansas</td>\n",
       "      <td>2</td>\n",
       "    </tr>\n",
       "    <tr>\n",
       "      <th>15</th>\n",
       "      <td>Kentucky</td>\n",
       "      <td>1</td>\n",
       "    </tr>\n",
       "    <tr>\n",
       "      <th>16</th>\n",
       "      <td>Maryland</td>\n",
       "      <td>9</td>\n",
       "    </tr>\n",
       "    <tr>\n",
       "      <th>17</th>\n",
       "      <td>Massachusetts</td>\n",
       "      <td>6</td>\n",
       "    </tr>\n",
       "    <tr>\n",
       "      <th>18</th>\n",
       "      <td>Michigan</td>\n",
       "      <td>11</td>\n",
       "    </tr>\n",
       "    <tr>\n",
       "      <th>19</th>\n",
       "      <td>Minnesota</td>\n",
       "      <td>6</td>\n",
       "    </tr>\n",
       "    <tr>\n",
       "      <th>20</th>\n",
       "      <td>Missouri</td>\n",
       "      <td>5</td>\n",
       "    </tr>\n",
       "    <tr>\n",
       "      <th>21</th>\n",
       "      <td>Montana</td>\n",
       "      <td>5</td>\n",
       "    </tr>\n",
       "    <tr>\n",
       "      <th>22</th>\n",
       "      <td>Nebraska</td>\n",
       "      <td>1</td>\n",
       "    </tr>\n",
       "    <tr>\n",
       "      <th>23</th>\n",
       "      <td>Nevada</td>\n",
       "      <td>7</td>\n",
       "    </tr>\n",
       "    <tr>\n",
       "      <th>24</th>\n",
       "      <td>New Hampshire</td>\n",
       "      <td>1</td>\n",
       "    </tr>\n",
       "    <tr>\n",
       "      <th>25</th>\n",
       "      <td>New Jersey</td>\n",
       "      <td>12</td>\n",
       "    </tr>\n",
       "    <tr>\n",
       "      <th>26</th>\n",
       "      <td>New Mexico</td>\n",
       "      <td>3</td>\n",
       "    </tr>\n",
       "    <tr>\n",
       "      <th>27</th>\n",
       "      <td>New York</td>\n",
       "      <td>15</td>\n",
       "    </tr>\n",
       "    <tr>\n",
       "      <th>28</th>\n",
       "      <td>North Carolina</td>\n",
       "      <td>7</td>\n",
       "    </tr>\n",
       "    <tr>\n",
       "      <th>29</th>\n",
       "      <td>Ohio</td>\n",
       "      <td>7</td>\n",
       "    </tr>\n",
       "    <tr>\n",
       "      <th>30</th>\n",
       "      <td>Oregon</td>\n",
       "      <td>13</td>\n",
       "    </tr>\n",
       "    <tr>\n",
       "      <th>31</th>\n",
       "      <td>Pennsylvania</td>\n",
       "      <td>7</td>\n",
       "    </tr>\n",
       "    <tr>\n",
       "      <th>32</th>\n",
       "      <td>South Carolina</td>\n",
       "      <td>4</td>\n",
       "    </tr>\n",
       "    <tr>\n",
       "      <th>33</th>\n",
       "      <td>Tennessee</td>\n",
       "      <td>4</td>\n",
       "    </tr>\n",
       "    <tr>\n",
       "      <th>34</th>\n",
       "      <td>Texas</td>\n",
       "      <td>16</td>\n",
       "    </tr>\n",
       "    <tr>\n",
       "      <th>35</th>\n",
       "      <td>Utah</td>\n",
       "      <td>9</td>\n",
       "    </tr>\n",
       "    <tr>\n",
       "      <th>36</th>\n",
       "      <td>Vermont</td>\n",
       "      <td>1</td>\n",
       "    </tr>\n",
       "    <tr>\n",
       "      <th>37</th>\n",
       "      <td>Virginia</td>\n",
       "      <td>15</td>\n",
       "    </tr>\n",
       "    <tr>\n",
       "      <th>38</th>\n",
       "      <td>Washington</td>\n",
       "      <td>30</td>\n",
       "    </tr>\n",
       "    <tr>\n",
       "      <th>39</th>\n",
       "      <td>Wisconsin</td>\n",
       "      <td>2</td>\n",
       "    </tr>\n",
       "  </tbody>\n",
       "</table>\n",
       "</div>"
      ],
      "text/plain": [
       "             State  count\n",
       "0          Alabama      3\n",
       "1           Alaska      3\n",
       "2          Arizona     17\n",
       "3       California    115\n",
       "4         Colorado     12\n",
       "5      Connecticut      5\n",
       "6         Delaware      1\n",
       "7          Florida     21\n",
       "8          Georgia      9\n",
       "9           Hawaii      7\n",
       "10           Idaho      5\n",
       "11        Illinois     16\n",
       "12         Indiana      3\n",
       "13            Iowa      1\n",
       "14          Kansas      2\n",
       "15        Kentucky      1\n",
       "16        Maryland      9\n",
       "17   Massachusetts      6\n",
       "18        Michigan     11\n",
       "19       Minnesota      6\n",
       "20        Missouri      5\n",
       "21         Montana      5\n",
       "22        Nebraska      1\n",
       "23          Nevada      7\n",
       "24   New Hampshire      1\n",
       "25      New Jersey     12\n",
       "26      New Mexico      3\n",
       "27        New York     15\n",
       "28  North Carolina      7\n",
       "29            Ohio      7\n",
       "30          Oregon     13\n",
       "31    Pennsylvania      7\n",
       "32  South Carolina      4\n",
       "33       Tennessee      4\n",
       "34           Texas     16\n",
       "35            Utah      9\n",
       "36         Vermont      1\n",
       "37        Virginia     15\n",
       "38      Washington     30\n",
       "39       Wisconsin      2"
      ]
     },
     "metadata": {},
     "output_type": "display_data"
    }
   ],
   "source": [
    "cos_st = cos.groupby(cos['State'])['State'].count().reset_index(name='count')\n",
    "display(cos_st)"
   ]
  },
  {
   "cell_type": "code",
   "execution_count": 13,
   "id": "2fdd5a31",
   "metadata": {},
   "outputs": [],
   "source": [
    "url = (\n",
    "    \"https://raw.githubusercontent.com/python-visualization/folium/main/examples/data\"\n",
    ")\n",
    "state_geo = f\"{url}/us-states.json\""
   ]
  },
  {
   "cell_type": "code",
   "execution_count": 14,
   "id": "2d6f916f",
   "metadata": {},
   "outputs": [
    {
     "data": {
      "text/html": [
       "<div style=\"width:100%;\"><div style=\"position:relative;width:100%;height:0;padding-bottom:60%;\"><span style=\"color:#565656\">Make this Notebook Trusted to load map: File -> Trust Notebook</span><iframe srcdoc=\"&lt;!DOCTYPE html&gt;\n",
       "&lt;html&gt;\n",
       "&lt;head&gt;\n",
       "    \n",
       "    &lt;meta http-equiv=&quot;content-type&quot; content=&quot;text/html; charset=UTF-8&quot; /&gt;\n",
       "    \n",
       "        &lt;script&gt;\n",
       "            L_NO_TOUCH = false;\n",
       "            L_DISABLE_3D = false;\n",
       "        &lt;/script&gt;\n",
       "    \n",
       "    &lt;style&gt;html, body {width: 100%;height: 100%;margin: 0;padding: 0;}&lt;/style&gt;\n",
       "    &lt;style&gt;#map {position:absolute;top:0;bottom:0;right:0;left:0;}&lt;/style&gt;\n",
       "    &lt;script src=&quot;https://cdn.jsdelivr.net/npm/leaflet@1.9.3/dist/leaflet.js&quot;&gt;&lt;/script&gt;\n",
       "    &lt;script src=&quot;https://code.jquery.com/jquery-1.12.4.min.js&quot;&gt;&lt;/script&gt;\n",
       "    &lt;script src=&quot;https://cdn.jsdelivr.net/npm/bootstrap@5.2.2/dist/js/bootstrap.bundle.min.js&quot;&gt;&lt;/script&gt;\n",
       "    &lt;script src=&quot;https://cdnjs.cloudflare.com/ajax/libs/Leaflet.awesome-markers/2.0.2/leaflet.awesome-markers.js&quot;&gt;&lt;/script&gt;\n",
       "    &lt;link rel=&quot;stylesheet&quot; href=&quot;https://cdn.jsdelivr.net/npm/leaflet@1.9.3/dist/leaflet.css&quot;/&gt;\n",
       "    &lt;link rel=&quot;stylesheet&quot; href=&quot;https://cdn.jsdelivr.net/npm/bootstrap@5.2.2/dist/css/bootstrap.min.css&quot;/&gt;\n",
       "    &lt;link rel=&quot;stylesheet&quot; href=&quot;https://netdna.bootstrapcdn.com/bootstrap/3.0.0/css/bootstrap.min.css&quot;/&gt;\n",
       "    &lt;link rel=&quot;stylesheet&quot; href=&quot;https://cdn.jsdelivr.net/npm/@fortawesome/fontawesome-free@6.2.0/css/all.min.css&quot;/&gt;\n",
       "    &lt;link rel=&quot;stylesheet&quot; href=&quot;https://cdnjs.cloudflare.com/ajax/libs/Leaflet.awesome-markers/2.0.2/leaflet.awesome-markers.css&quot;/&gt;\n",
       "    &lt;link rel=&quot;stylesheet&quot; href=&quot;https://cdn.jsdelivr.net/gh/python-visualization/folium/folium/templates/leaflet.awesome.rotate.min.css&quot;/&gt;\n",
       "    \n",
       "            &lt;meta name=&quot;viewport&quot; content=&quot;width=device-width,\n",
       "                initial-scale=1.0, maximum-scale=1.0, user-scalable=no&quot; /&gt;\n",
       "            &lt;style&gt;\n",
       "                #map_d11dc7fbd62c356ba057362226555a12 {\n",
       "                    position: relative;\n",
       "                    width: 100.0%;\n",
       "                    height: 100.0%;\n",
       "                    left: 0.0%;\n",
       "                    top: 0.0%;\n",
       "                }\n",
       "                .leaflet-container { font-size: 1rem; }\n",
       "            &lt;/style&gt;\n",
       "        \n",
       "&lt;/head&gt;\n",
       "&lt;body&gt;\n",
       "    \n",
       "    \n",
       "            &lt;div class=&quot;folium-map&quot; id=&quot;map_d11dc7fbd62c356ba057362226555a12&quot; &gt;&lt;/div&gt;\n",
       "        \n",
       "&lt;/body&gt;\n",
       "&lt;script&gt;\n",
       "    \n",
       "    \n",
       "            var map_d11dc7fbd62c356ba057362226555a12 = L.map(\n",
       "                &quot;map_d11dc7fbd62c356ba057362226555a12&quot;,\n",
       "                {\n",
       "                    center: [40.0, -95.0],\n",
       "                    crs: L.CRS.EPSG3857,\n",
       "                    zoom: 4,\n",
       "                    zoomControl: true,\n",
       "                    preferCanvas: false,\n",
       "                }\n",
       "            );\n",
       "\n",
       "            \n",
       "\n",
       "        \n",
       "    \n",
       "            var tile_layer_7d4a32da54d27532bd504c3359ef578e = L.tileLayer(\n",
       "                &quot;https://{s}.tile.openstreetmap.org/{z}/{x}/{y}.png&quot;,\n",
       "                {&quot;attribution&quot;: &quot;Data by \\u0026copy; \\u003ca target=\\&quot;_blank\\&quot; href=\\&quot;http://openstreetmap.org\\&quot;\\u003eOpenStreetMap\\u003c/a\\u003e, under \\u003ca target=\\&quot;_blank\\&quot; href=\\&quot;http://www.openstreetmap.org/copyright\\&quot;\\u003eODbL\\u003c/a\\u003e.&quot;, &quot;detectRetina&quot;: false, &quot;maxNativeZoom&quot;: 18, &quot;maxZoom&quot;: 18, &quot;minZoom&quot;: 0, &quot;noWrap&quot;: false, &quot;opacity&quot;: 1, &quot;subdomains&quot;: &quot;abc&quot;, &quot;tms&quot;: false}\n",
       "            ).addTo(map_d11dc7fbd62c356ba057362226555a12);\n",
       "        \n",
       "&lt;/script&gt;\n",
       "&lt;/html&gt;\" style=\"position:absolute;width:100%;height:100%;left:0;top:0;border:none !important;\" allowfullscreen webkitallowfullscreen mozallowfullscreen></iframe></div></div>"
      ],
      "text/plain": [
       "<folium.folium.Map at 0x1ad4785e8b0>"
      ]
     },
     "execution_count": 14,
     "metadata": {},
     "output_type": "execute_result"
    }
   ],
   "source": [
    "import folium\n",
    "\n",
    "# initialize the map and store it in a m object\n",
    "m = folium.Map(location=[40, -95], zoom_start=4)\n",
    "\n",
    "# show the map\n",
    "m\n"
   ]
  },
  {
   "cell_type": "code",
   "execution_count": 15,
   "id": "87550611",
   "metadata": {},
   "outputs": [
    {
     "data": {
      "text/html": [
       "<div style=\"width:100%;\"><div style=\"position:relative;width:100%;height:0;padding-bottom:60%;\"><span style=\"color:#565656\">Make this Notebook Trusted to load map: File -> Trust Notebook</span><iframe srcdoc=\"&lt;!DOCTYPE html&gt;\n",
       "&lt;html&gt;\n",
       "&lt;head&gt;\n",
       "    \n",
       "    &lt;meta http-equiv=&quot;content-type&quot; content=&quot;text/html; charset=UTF-8&quot; /&gt;\n",
       "    \n",
       "        &lt;script&gt;\n",
       "            L_NO_TOUCH = false;\n",
       "            L_DISABLE_3D = false;\n",
       "        &lt;/script&gt;\n",
       "    \n",
       "    &lt;style&gt;html, body {width: 100%;height: 100%;margin: 0;padding: 0;}&lt;/style&gt;\n",
       "    &lt;style&gt;#map {position:absolute;top:0;bottom:0;right:0;left:0;}&lt;/style&gt;\n",
       "    &lt;script src=&quot;https://cdn.jsdelivr.net/npm/leaflet@1.9.3/dist/leaflet.js&quot;&gt;&lt;/script&gt;\n",
       "    &lt;script src=&quot;https://code.jquery.com/jquery-1.12.4.min.js&quot;&gt;&lt;/script&gt;\n",
       "    &lt;script src=&quot;https://cdn.jsdelivr.net/npm/bootstrap@5.2.2/dist/js/bootstrap.bundle.min.js&quot;&gt;&lt;/script&gt;\n",
       "    &lt;script src=&quot;https://cdnjs.cloudflare.com/ajax/libs/Leaflet.awesome-markers/2.0.2/leaflet.awesome-markers.js&quot;&gt;&lt;/script&gt;\n",
       "    &lt;link rel=&quot;stylesheet&quot; href=&quot;https://cdn.jsdelivr.net/npm/leaflet@1.9.3/dist/leaflet.css&quot;/&gt;\n",
       "    &lt;link rel=&quot;stylesheet&quot; href=&quot;https://cdn.jsdelivr.net/npm/bootstrap@5.2.2/dist/css/bootstrap.min.css&quot;/&gt;\n",
       "    &lt;link rel=&quot;stylesheet&quot; href=&quot;https://netdna.bootstrapcdn.com/bootstrap/3.0.0/css/bootstrap.min.css&quot;/&gt;\n",
       "    &lt;link rel=&quot;stylesheet&quot; href=&quot;https://cdn.jsdelivr.net/npm/@fortawesome/fontawesome-free@6.2.0/css/all.min.css&quot;/&gt;\n",
       "    &lt;link rel=&quot;stylesheet&quot; href=&quot;https://cdnjs.cloudflare.com/ajax/libs/Leaflet.awesome-markers/2.0.2/leaflet.awesome-markers.css&quot;/&gt;\n",
       "    &lt;link rel=&quot;stylesheet&quot; href=&quot;https://cdn.jsdelivr.net/gh/python-visualization/folium/folium/templates/leaflet.awesome.rotate.min.css&quot;/&gt;\n",
       "    \n",
       "            &lt;meta name=&quot;viewport&quot; content=&quot;width=device-width,\n",
       "                initial-scale=1.0, maximum-scale=1.0, user-scalable=no&quot; /&gt;\n",
       "            &lt;style&gt;\n",
       "                #map_d11dc7fbd62c356ba057362226555a12 {\n",
       "                    position: relative;\n",
       "                    width: 100.0%;\n",
       "                    height: 100.0%;\n",
       "                    left: 0.0%;\n",
       "                    top: 0.0%;\n",
       "                }\n",
       "                .leaflet-container { font-size: 1rem; }\n",
       "            &lt;/style&gt;\n",
       "        \n",
       "    &lt;script src=&quot;https://cdnjs.cloudflare.com/ajax/libs/d3/3.5.5/d3.min.js&quot;&gt;&lt;/script&gt;\n",
       "&lt;/head&gt;\n",
       "&lt;body&gt;\n",
       "    \n",
       "    \n",
       "            &lt;div class=&quot;folium-map&quot; id=&quot;map_d11dc7fbd62c356ba057362226555a12&quot; &gt;&lt;/div&gt;\n",
       "        \n",
       "&lt;/body&gt;\n",
       "&lt;script&gt;\n",
       "    \n",
       "    \n",
       "            var map_d11dc7fbd62c356ba057362226555a12 = L.map(\n",
       "                &quot;map_d11dc7fbd62c356ba057362226555a12&quot;,\n",
       "                {\n",
       "                    center: [40.0, -95.0],\n",
       "                    crs: L.CRS.EPSG3857,\n",
       "                    zoom: 4,\n",
       "                    zoomControl: true,\n",
       "                    preferCanvas: false,\n",
       "                }\n",
       "            );\n",
       "\n",
       "            \n",
       "\n",
       "        \n",
       "    \n",
       "            var tile_layer_7d4a32da54d27532bd504c3359ef578e = L.tileLayer(\n",
       "                &quot;https://{s}.tile.openstreetmap.org/{z}/{x}/{y}.png&quot;,\n",
       "                {&quot;attribution&quot;: &quot;Data by \\u0026copy; \\u003ca target=\\&quot;_blank\\&quot; href=\\&quot;http://openstreetmap.org\\&quot;\\u003eOpenStreetMap\\u003c/a\\u003e, under \\u003ca target=\\&quot;_blank\\&quot; href=\\&quot;http://www.openstreetmap.org/copyright\\&quot;\\u003eODbL\\u003c/a\\u003e.&quot;, &quot;detectRetina&quot;: false, &quot;maxNativeZoom&quot;: 18, &quot;maxZoom&quot;: 18, &quot;minZoom&quot;: 0, &quot;noWrap&quot;: false, &quot;opacity&quot;: 1, &quot;subdomains&quot;: &quot;abc&quot;, &quot;tms&quot;: false}\n",
       "            ).addTo(map_d11dc7fbd62c356ba057362226555a12);\n",
       "        \n",
       "    \n",
       "            var choropleth_1e4480487c8f3906feef88c7171885fd = L.featureGroup(\n",
       "                {}\n",
       "            ).addTo(map_d11dc7fbd62c356ba057362226555a12);\n",
       "        \n",
       "    \n",
       "        function geo_json_7d27a84b5729e301cb2f7dcd07e9a80a_styler(feature) {\n",
       "            switch(feature.id) {\n",
       "                default:\n",
       "                    return {&quot;color&quot;: &quot;black&quot;, &quot;fillColor&quot;: &quot;black&quot;, &quot;fillOpacity&quot;: 0.7, &quot;opacity&quot;: 0.1, &quot;weight&quot;: 1};\n",
       "            }\n",
       "        }\n",
       "\n",
       "        function geo_json_7d27a84b5729e301cb2f7dcd07e9a80a_onEachFeature(feature, layer) {\n",
       "            layer.on({\n",
       "            });\n",
       "        };\n",
       "        var geo_json_7d27a84b5729e301cb2f7dcd07e9a80a = L.geoJson(null, {\n",
       "                onEachFeature: geo_json_7d27a84b5729e301cb2f7dcd07e9a80a_onEachFeature,\n",
       "            \n",
       "                style: geo_json_7d27a84b5729e301cb2f7dcd07e9a80a_styler,\n",
       "        });\n",
       "\n",
       "        function geo_json_7d27a84b5729e301cb2f7dcd07e9a80a_add (data) {\n",
       "            geo_json_7d27a84b5729e301cb2f7dcd07e9a80a\n",
       "                .addData(data)\n",
       "                .addTo(choropleth_1e4480487c8f3906feef88c7171885fd);\n",
       "        }\n",
       "            geo_json_7d27a84b5729e301cb2f7dcd07e9a80a_add({&quot;features&quot;: [{&quot;geometry&quot;: {&quot;coordinates&quot;: [[[-87.359296, 35.00118], [-85.606675, 34.984749], [-85.431413, 34.124869], [-85.184951, 32.859696], [-85.069935, 32.580372], [-84.960397, 32.421541], [-85.004212, 32.322956], [-84.889196, 32.262709], [-85.058981, 32.13674], [-85.053504, 32.01077], [-85.141136, 31.840985], [-85.042551, 31.539753], [-85.113751, 31.27686], [-85.004212, 31.003013], [-85.497137, 30.997536], [-87.600282, 30.997536], [-87.633143, 30.86609], [-87.408589, 30.674397], [-87.446927, 30.510088], [-87.37025, 30.427934], [-87.518128, 30.280057], [-87.655051, 30.247195], [-87.90699, 30.411504], [-87.934375, 30.657966], [-88.011052, 30.685351], [-88.10416, 30.499135], [-88.137022, 30.318396], [-88.394438, 30.367688], [-88.471115, 31.895754], [-88.241084, 33.796253], [-88.098683, 34.891641], [-88.202745, 34.995703], [-87.359296, 35.00118]]], &quot;type&quot;: &quot;Polygon&quot;}, &quot;id&quot;: &quot;AL&quot;, &quot;properties&quot;: {&quot;name&quot;: &quot;Alabama&quot;}, &quot;type&quot;: &quot;Feature&quot;}, {&quot;geometry&quot;: {&quot;coordinates&quot;: [[[[-131.602021, 55.117982], [-131.569159, 55.28229], [-131.355558, 55.183705], [-131.38842, 55.01392], [-131.645836, 55.035827], [-131.602021, 55.117982]]], [[[-131.832052, 55.42469], [-131.645836, 55.304197], [-131.749898, 55.128935], [-131.832052, 55.189182], [-131.832052, 55.42469]]], [[[-132.976733, 56.437924], [-132.735747, 56.459832], [-132.631685, 56.421493], [-132.664547, 56.273616], [-132.878148, 56.240754], [-133.069841, 56.333862], [-132.976733, 56.437924]]], [[[-133.595627, 56.350293], [-133.162949, 56.317431], [-133.05341, 56.125739], [-132.620732, 55.912138], [-132.472854, 55.780691], [-132.4619, 55.671152], [-132.357838, 55.649245], [-132.341408, 55.506844], [-132.166146, 55.364444], [-132.144238, 55.238474], [-132.029222, 55.276813], [-131.97993, 55.178228], [-131.958022, 54.789365], [-132.029222, 54.701734], [-132.308546, 54.718165], [-132.385223, 54.915335], [-132.483808, 54.898904], [-132.686455, 55.046781], [-132.746701, 54.997489], [-132.916486, 55.046781], [-132.889102, 54.898904], [-132.73027, 54.937242], [-132.626209, 54.882473], [-132.675501, 54.679826], [-132.867194, 54.701734], [-133.157472, 54.95915], [-133.239626, 55.090597], [-133.223195, 55.22752], [-133.453227, 55.216566], [-133.453227, 55.320628], [-133.277964, 55.331582], [-133.102702, 55.42469], [-133.17938, 55.588998], [-133.387503, 55.62186], [-133.420365, 55.884753], [-133.497042, 56.0162], [-133.639442, 55.923092], [-133.694212, 56.070969], [-133.546335, 56.142169], [-133.666827, 56.311955], [-133.595627, 56.350293]]], [[[-133.738027, 55.556137], [-133.546335, 55.490413], [-133.414888, 55.572568], [-133.283441, 55.534229], [-133.420365, 55.386352], [-133.633966, 55.430167], [-133.738027, 55.556137]]], [[[-133.907813, 56.930849], [-134.050213, 57.029434], [-133.885905, 57.095157], [-133.343688, 57.002049], [-133.102702, 57.007526], [-132.932917, 56.82131], [-132.620732, 56.667956], [-132.653593, 56.55294], [-132.817901, 56.492694], [-133.042456, 56.520078], [-133.201287, 56.448878], [-133.420365, 56.492694], [-133.66135, 56.448878], [-133.710643, 56.684386], [-133.688735, 56.837741], [-133.869474, 56.843218], [-133.907813, 56.930849]]], [[[-134.115936, 56.48174], [-134.25286, 56.558417], [-134.400737, 56.722725], [-134.417168, 56.848695], [-134.296675, 56.908941], [-134.170706, 56.848695], [-134.143321, 56.952757], [-133.748981, 56.772017], [-133.710643, 56.596755], [-133.847566, 56.574848], [-133.935197, 56.377678], [-133.836612, 56.322908], [-133.957105, 56.092877], [-134.110459, 56.142169], [-134.132367, 55.999769], [-134.230952, 56.070969], [-134.291198, 56.350293], [-134.115936, 56.48174]]], [[[-134.636246, 56.28457], [-134.669107, 56.169554], [-134.806031, 56.235277], [-135.178463, 56.67891], [-135.413971, 56.810356], [-135.331817, 56.914418], [-135.424925, 57.166357], [-135.687818, 57.369004], [-135.419448, 57.566174], [-135.298955, 57.48402], [-135.063447, 57.418296], [-134.849846, 57.407343], [-134.844369, 57.248511], [-134.636246, 56.728202], [-134.636246, 56.28457]]], [[[-134.712923, 58.223407], [-134.373353, 58.14673], [-134.176183, 58.157683], [-134.187137, 58.081006], [-133.902336, 57.807159], [-134.099505, 57.850975], [-134.148798, 57.757867], [-133.935197, 57.615466], [-133.869474, 57.363527], [-134.083075, 57.297804], [-134.154275, 57.210173], [-134.499322, 57.029434], [-134.603384, 57.034911], [-134.6472, 57.226604], [-134.575999, 57.341619], [-134.608861, 57.511404], [-134.729354, 57.719528], [-134.707446, 57.829067], [-134.784123, 58.097437], [-134.91557, 58.212453], [-134.953908, 58.409623], [-134.712923, 58.223407]]], [[[-135.857603, 57.330665], [-135.715203, 57.330665], [-135.567326, 57.149926], [-135.633049, 57.023957], [-135.857603, 56.996572], [-135.824742, 57.193742], [-135.857603, 57.330665]]], [[[-136.279328, 58.206976], [-135.978096, 58.201499], [-135.780926, 58.28913], [-135.496125, 58.168637], [-135.64948, 58.037191], [-135.59471, 57.987898], [-135.45231, 58.135776], [-135.107263, 58.086483], [-134.91557, 57.976944], [-135.025108, 57.779775], [-134.937477, 57.763344], [-134.822462, 57.500451], [-135.085355, 57.462112], [-135.572802, 57.675713], [-135.556372, 57.456635], [-135.709726, 57.369004], [-135.890465, 57.407343], [-136.000004, 57.544266], [-136.208128, 57.637374], [-136.366959, 57.829067], [-136.569606, 57.916698], [-136.558652, 58.075529], [-136.421728, 58.130299], [-136.377913, 58.267222], [-136.279328, 58.206976]]], [[[-147.079854, 60.200582], [-147.501579, 59.948643], [-147.53444, 59.850058], [-147.874011, 59.784335], [-147.80281, 59.937689], [-147.435855, 60.09652], [-147.205824, 60.271782], [-147.079854, 60.200582]]], [[[-147.561825, 60.578491], [-147.616594, 60.370367], [-147.758995, 60.156767], [-147.956165, 60.227967], [-147.791856, 60.474429], [-147.561825, 60.578491]]], [[[-147.786379, 70.245291], [-147.682318, 70.201475], [-147.162008, 70.15766], [-146.888161, 70.185044], [-146.510252, 70.185044], [-146.099482, 70.146706], [-145.858496, 70.168614], [-145.622988, 70.08646], [-145.195787, 69.993352], [-144.620708, 69.971444], [-144.461877, 70.026213], [-144.078491, 70.059075], [-143.914183, 70.130275], [-143.497935, 70.141229], [-143.503412, 70.091936], [-143.25695, 70.119321], [-142.747594, 70.042644], [-142.402547, 69.916674], [-142.079408, 69.856428], [-142.008207, 69.801659], [-141.712453, 69.790705], [-141.433129, 69.697597], [-141.378359, 69.63735], [-141.208574, 69.686643], [-141.00045, 69.648304], [-141.00045, 60.304644], [-140.53491, 60.22249], [-140.474664, 60.310121], [-139.987216, 60.184151], [-139.696939, 60.342983], [-139.088998, 60.359413], [-139.198537, 60.091043], [-139.045183, 59.997935], [-138.700135, 59.910304], [-138.623458, 59.767904], [-137.604747, 59.242118], [-137.445916, 58.908024], [-137.265177, 59.001132], [-136.827022, 59.159963], [-136.580559, 59.16544], [-136.465544, 59.285933], [-136.476498, 59.466672], [-136.301236, 59.466672], [-136.25742, 59.625503], [-135.945234, 59.663842], [-135.479694, 59.800766], [-135.025108, 59.565257], [-135.068924, 59.422857], [-134.959385, 59.280456], [-134.701969, 59.247595], [-134.378829, 59.033994], [-134.400737, 58.973748], [-134.25286, 58.858732], [-133.842089, 58.727285], [-133.173903, 58.152206], [-133.075318, 57.998852], [-132.867194, 57.845498], [-132.560485, 57.505928], [-132.253777, 57.21565], [-132.368792, 57.095157], [-132.05113, 57.051341], [-132.127807, 56.876079], [-131.870391, 56.804879], [-131.837529, 56.602232], [-131.580113, 56.613186], [-131.087188, 56.405062], [-130.78048, 56.366724], [-130.621648, 56.268139], [-130.468294, 56.240754], [-130.424478, 56.142169], [-130.101339, 56.114785], [-130.002754, 55.994292], [-130.150631, 55.769737], [-130.128724, 55.583521], [-129.986323, 55.276813], [-130.095862, 55.200136], [-130.336847, 54.920812], [-130.687372, 54.718165], [-130.785957, 54.822227], [-130.917403, 54.789365], [-131.010511, 54.997489], [-130.983126, 55.08512], [-131.092665, 55.189182], [-130.862634, 55.298721], [-130.928357, 55.337059], [-131.158389, 55.200136], [-131.284358, 55.287767], [-131.426759, 55.238474], [-131.843006, 55.457552], [-131.700606, 55.698537], [-131.963499, 55.616383], [-131.974453, 55.49589], [-132.182576, 55.588998], [-132.226392, 55.704014], [-132.083991, 55.829984], [-132.127807, 55.955953], [-132.324977, 55.851892], [-132.522147, 56.076446], [-132.642639, 56.032631], [-132.719317, 56.218847], [-132.527624, 56.339339], [-132.341408, 56.339339], [-132.396177, 56.487217], [-132.297592, 56.67891], [-132.450946, 56.673433], [-132.768609, 56.837741], [-132.993164, 57.034911], [-133.51895, 57.177311], [-133.507996, 57.577128], [-133.677781, 57.62642], [-133.639442, 57.790728], [-133.814705, 57.834544], [-134.072121, 58.053622], [-134.143321, 58.168637], [-134.586953, 58.206976], [-135.074401, 58.502731], [-135.282525, 59.192825], [-135.38111, 59.033994], [-135.337294, 58.891593], [-135.140124, 58.617746], [-135.189417, 58.573931], [-135.05797, 58.349376], [-135.085355, 58.201499], [-135.277048, 58.234361], [-135.430402, 58.398669], [-135.633049, 58.426053], [-135.91785, 58.382238], [-135.912373, 58.617746], [-136.087635, 58.814916], [-136.246466, 58.75467], [-136.876314, 58.962794], [-136.931084, 58.902547], [-136.586036, 58.836824], [-136.317666, 58.672516], [-136.213604, 58.667039], [-136.180743, 58.535592], [-136.043819, 58.382238], [-136.388867, 58.294607], [-136.591513, 58.349376], [-136.59699, 58.212453], [-136.859883, 58.316515], [-136.947514, 58.393192], [-137.111823, 58.393192], [-137.566409, 58.590362], [-137.900502, 58.765624], [-137.933364, 58.869686], [-138.11958, 59.02304], [-138.634412, 59.132579], [-138.919213, 59.247595], [-139.417615, 59.379041], [-139.746231, 59.505011], [-139.718846, 59.641934], [-139.625738, 59.598119], [-139.5162, 59.68575], [-139.625738, 59.88292], [-139.488815, 59.992458], [-139.554538, 60.041751], [-139.801, 59.833627], [-140.315833, 59.696704], [-140.92925, 59.745996], [-141.444083, 59.871966], [-141.46599, 59.970551], [-141.706976, 59.948643], [-141.964392, 60.019843], [-142.539471, 60.085566], [-142.873564, 60.091043], [-143.623905, 60.036274], [-143.892275, 59.997935], [-144.231845, 60.140336], [-144.65357, 60.206059], [-144.785016, 60.29369], [-144.834309, 60.441568], [-145.124586, 60.430614], [-145.223171, 60.299167], [-145.738004, 60.474429], [-145.820158, 60.551106], [-146.351421, 60.408706], [-146.608837, 60.238921], [-146.718376, 60.397752], [-146.608837, 60.485383], [-146.455483, 60.463475], [-145.951604, 60.578491], [-146.017328, 60.666122], [-146.252836, 60.622307], [-146.345944, 60.737322], [-146.565022, 60.753753], [-146.784099, 61.044031], [-146.866253, 60.972831], [-147.172962, 60.934492], [-147.271547, 60.972831], [-147.375609, 60.879723], [-147.758995, 60.912584], [-147.775426, 60.808523], [-148.032842, 60.781138], [-148.153334, 60.819476], [-148.065703, 61.005692], [-148.175242, 61.000215], [-148.350504, 60.803046], [-148.109519, 60.737322], [-148.087611, 60.594922], [-147.939734, 60.441568], [-148.027365, 60.277259], [-148.219058, 60.332029], [-148.273827, 60.249875], [-148.087611, 60.217013], [-147.983549, 59.997935], [-148.251919, 59.95412], [-148.399797, 59.997935], [-148.635305, 59.937689], [-148.755798, 59.986981], [-149.067984, 59.981505], [-149.05703, 60.063659], [-149.204907, 60.008889], [-149.287061, 59.904827], [-149.418508, 59.997935], [-149.582816, 59.866489], [-149.511616, 59.806242], [-149.741647, 59.729565], [-149.949771, 59.718611], [-150.031925, 59.61455], [-150.25648, 59.521442], [-150.409834, 59.554303], [-150.579619, 59.444764], [-150.716543, 59.450241], [-151.001343, 59.225687], [-151.308052, 59.209256], [-151.406637, 59.280456], [-151.592853, 59.159963], [-151.976239, 59.253071], [-151.888608, 59.422857], [-151.636669, 59.483103], [-151.47236, 59.472149], [-151.423068, 59.537872], [-151.127313, 59.669319], [-151.116359, 59.778858], [-151.505222, 59.63098], [-151.828361, 59.718611], [-151.8667, 59.778858], [-151.702392, 60.030797], [-151.423068, 60.211536], [-151.379252, 60.359413], [-151.297098, 60.386798], [-151.264237, 60.545629], [-151.406637, 60.720892], [-151.06159, 60.786615], [-150.404357, 61.038554], [-150.245526, 60.939969], [-150.042879, 60.912584], [-149.741647, 61.016646], [-150.075741, 61.15357], [-150.207187, 61.257632], [-150.47008, 61.246678], [-150.656296, 61.29597], [-150.711066, 61.252155], [-151.023251, 61.180954], [-151.165652, 61.044031], [-151.477837, 61.011169], [-151.800977, 60.852338], [-151.833838, 60.748276], [-152.080301, 60.693507], [-152.13507, 60.578491], [-152.310332, 60.507291], [-152.392486, 60.304644], [-152.732057, 60.173197], [-152.567748, 60.069136], [-152.704672, 59.915781], [-153.022334, 59.888397], [-153.049719, 59.691227], [-153.345474, 59.620026], [-153.438582, 59.702181], [-153.586459, 59.548826], [-153.761721, 59.543349], [-153.72886, 59.433811], [-154.117723, 59.368087], [-154.1944, 59.066856], [-153.750768, 59.050425], [-153.400243, 58.968271], [-153.301658, 58.869686], [-153.444059, 58.710854], [-153.679567, 58.612269], [-153.898645, 58.606793], [-153.920553, 58.519161], [-154.062953, 58.4863], [-153.99723, 58.376761], [-154.145107, 58.212453], [-154.46277, 58.059098], [-154.643509, 58.059098], [-154.818771, 58.004329], [-154.988556, 58.015283], [-155.120003, 57.955037], [-155.081664, 57.872883], [-155.328126, 57.829067], [-155.377419, 57.708574], [-155.547204, 57.785251], [-155.73342, 57.549743], [-156.045606, 57.566174], [-156.023698, 57.440204], [-156.209914, 57.473066], [-156.34136, 57.418296], [-156.34136, 57.248511], [-156.549484, 56.985618], [-156.883577, 56.952757], [-157.157424, 56.832264], [-157.20124, 56.766541], [-157.376502, 56.859649], [-157.672257, 56.607709], [-157.754411, 56.67891], [-157.918719, 56.657002], [-157.957058, 56.514601], [-158.126843, 56.459832], [-158.32949, 56.48174], [-158.488321, 56.339339], [-158.208997, 56.295524], [-158.510229, 55.977861], [-159.375585, 55.873799], [-159.616571, 55.594475], [-159.676817, 55.654722], [-159.643955, 55.829984], [-159.813741, 55.857368], [-160.027341, 55.791645], [-160.060203, 55.720445], [-160.394296, 55.605429], [-160.536697, 55.473983], [-160.580512, 55.567091], [-160.668143, 55.457552], [-160.865313, 55.528752], [-161.232268, 55.358967], [-161.506115, 55.364444], [-161.467776, 55.49589], [-161.588269, 55.62186], [-161.697808, 55.517798], [-161.686854, 55.408259], [-162.053809, 55.074166], [-162.179779, 55.15632], [-162.218117, 55.03035], [-162.470057, 55.052258], [-162.508395, 55.249428], [-162.661749, 55.293244], [-162.716519, 55.222043], [-162.579595, 55.134412], [-162.645319, 54.997489], [-162.847965, 54.926289], [-163.00132, 55.079643], [-163.187536, 55.090597], [-163.220397, 55.03035], [-163.034181, 54.942719], [-163.373752, 54.800319], [-163.14372, 54.76198], [-163.138243, 54.696257], [-163.329936, 54.74555], [-163.587352, 54.614103], [-164.085754, 54.61958], [-164.332216, 54.531949], [-164.354124, 54.466226], [-164.638925, 54.389548], [-164.847049, 54.416933], [-164.918249, 54.603149], [-164.710125, 54.663395], [-164.551294, 54.88795], [-164.34317, 54.893427], [-163.894061, 55.041304], [-163.532583, 55.046781], [-163.39566, 54.904381], [-163.291598, 55.008443], [-163.313505, 55.128935], [-163.105382, 55.183705], [-162.880827, 55.183705], [-162.579595, 55.446598], [-162.245502, 55.682106], [-161.807347, 55.89023], [-161.292514, 55.983338], [-161.078914, 55.939523], [-160.87079, 55.999769], [-160.816021, 55.912138], [-160.931036, 55.813553], [-160.805067, 55.736876], [-160.766728, 55.857368], [-160.509312, 55.868322], [-160.438112, 55.791645], [-160.27928, 55.76426], [-160.273803, 55.857368], [-160.536697, 55.939523], [-160.558604, 55.994292], [-160.383342, 56.251708], [-160.147834, 56.399586], [-159.830171, 56.541986], [-159.326293, 56.667956], [-158.959338, 56.848695], [-158.784076, 56.782971], [-158.641675, 56.810356], [-158.701922, 56.925372], [-158.658106, 57.034911], [-158.378782, 57.264942], [-157.995396, 57.41282], [-157.688688, 57.609989], [-157.705118, 57.719528], [-157.458656, 58.497254], [-157.07527, 58.705377], [-157.119086, 58.869686], [-158.039212, 58.634177], [-158.32949, 58.661562], [-158.40069, 58.760147], [-158.564998, 58.803962], [-158.619768, 58.913501], [-158.767645, 58.864209], [-158.860753, 58.694424], [-158.701922, 58.480823], [-158.893615, 58.387715], [-159.0634, 58.420577], [-159.392016, 58.760147], [-159.616571, 58.929932], [-159.731586, 58.929932], [-159.808264, 58.803962], [-159.906848, 58.782055], [-160.054726, 58.886116], [-160.235465, 58.902547], [-160.317619, 59.072332], [-160.854359, 58.88064], [-161.33633, 58.743716], [-161.374669, 58.667039], [-161.752577, 58.552023], [-161.938793, 58.656085], [-161.769008, 58.776578], [-161.829255, 59.061379], [-161.955224, 59.36261], [-161.703285, 59.48858], [-161.911409, 59.740519], [-162.092148, 59.88292], [-162.234548, 60.091043], [-162.448149, 60.178674], [-162.502918, 59.997935], [-162.760334, 59.959597], [-163.171105, 59.844581], [-163.66403, 59.795289], [-163.9324, 59.806242], [-164.162431, 59.866489], [-164.189816, 60.02532], [-164.386986, 60.074613], [-164.699171, 60.29369], [-164.962064, 60.337506], [-165.268773, 60.578491], [-165.060649, 60.68803], [-165.016834, 60.890677], [-165.175665, 60.846861], [-165.197573, 60.972831], [-165.120896, 61.076893], [-165.323543, 61.170001], [-165.34545, 61.071416], [-165.591913, 61.109754], [-165.624774, 61.279539], [-165.816467, 61.301447], [-165.920529, 61.416463], [-165.915052, 61.558863], [-166.106745, 61.49314], [-166.139607, 61.630064], [-165.904098, 61.662925], [-166.095791, 61.81628], [-165.756221, 61.827233], [-165.756221, 62.013449], [-165.674067, 62.139419], [-165.044219, 62.539236], [-164.912772, 62.659728], [-164.819664, 62.637821], [-164.874433, 62.807606], [-164.633448, 63.097884], [-164.425324, 63.212899], [-164.036462, 63.262192], [-163.73523, 63.212899], [-163.313505, 63.037637], [-163.039658, 63.059545], [-162.661749, 63.22933], [-162.272887, 63.486746], [-162.075717, 63.514131], [-162.026424, 63.448408], [-161.555408, 63.448408], [-161.13916, 63.503177], [-160.766728, 63.771547], [-160.766728, 63.837271], [-160.952944, 64.08921], [-160.974852, 64.237087], [-161.26513, 64.395918], [-161.374669, 64.532842], [-161.078914, 64.494503], [-160.79959, 64.609519], [-160.783159, 64.719058], [-161.144637, 64.921705], [-161.413007, 64.762873], [-161.664946, 64.790258], [-161.900455, 64.702627], [-162.168825, 64.680719], [-162.234548, 64.620473], [-162.541257, 64.532842], [-162.634365, 64.384965], [-162.787719, 64.324718], [-162.858919, 64.49998], [-163.045135, 64.538319], [-163.176582, 64.401395], [-163.253259, 64.467119], [-163.598306, 64.565704], [-164.304832, 64.560227], [-164.80871, 64.450688], [-165.000403, 64.434257], [-165.411174, 64.49998], [-166.188899, 64.576658], [-166.391546, 64.636904], [-166.484654, 64.735489], [-166.413454, 64.872412], [-166.692778, 64.987428], [-166.638008, 65.113398], [-166.462746, 65.179121], [-166.517516, 65.337952], [-166.796839, 65.337952], [-167.026871, 65.381768], [-167.47598, 65.414629], [-167.711489, 65.496784], [-168.072967, 65.578938], [-168.105828, 65.682999], [-167.541703, 65.819923], [-166.829701, 66.049954], [-166.3313, 66.186878], [-166.046499, 66.110201], [-165.756221, 66.09377], [-165.690498, 66.203309], [-165.86576, 66.21974], [-165.88219, 66.312848], [-165.186619, 66.466202], [-164.403417, 66.581218], [-163.981692, 66.592172], [-163.751661, 66.553833], [-163.872153, 66.389525], [-163.828338, 66.274509], [-163.915969, 66.192355], [-163.768091, 66.060908], [-163.494244, 66.082816], [-163.149197, 66.060908], [-162.749381, 66.088293], [-162.634365, 66.039001], [-162.371472, 66.028047], [-162.14144, 66.077339], [-161.840208, 66.02257], [-161.549931, 66.241647], [-161.341807, 66.252601], [-161.199406, 66.208786], [-161.128206, 66.334755], [-161.528023, 66.395002], [-161.911409, 66.345709], [-161.87307, 66.510017], [-162.174302, 66.68528], [-162.502918, 66.740049], [-162.601503, 66.89888], [-162.344087, 66.937219], [-162.015471, 66.778388], [-162.075717, 66.652418], [-161.916886, 66.553833], [-161.571838, 66.438817], [-161.489684, 66.55931], [-161.884024, 66.718141], [-161.714239, 67.002942], [-161.851162, 67.052235], [-162.240025, 66.991988], [-162.639842, 67.008419], [-162.700088, 67.057712], [-162.902735, 67.008419], [-163.740707, 67.128912], [-163.757138, 67.254881], [-164.009077, 67.534205], [-164.211724, 67.638267], [-164.534863, 67.725898], [-165.192096, 67.966884], [-165.493328, 68.059992], [-165.794559, 68.081899], [-166.243668, 68.246208], [-166.681824, 68.339316], [-166.703731, 68.372177], [-166.375115, 68.42147], [-166.227238, 68.574824], [-166.216284, 68.881533], [-165.329019, 68.859625], [-164.255539, 68.930825], [-163.976215, 68.985595], [-163.532583, 69.138949], [-163.110859, 69.374457], [-163.023228, 69.609966], [-162.842489, 69.812613], [-162.470057, 69.982398], [-162.311225, 70.108367], [-161.851162, 70.311014], [-161.779962, 70.256245], [-161.396576, 70.239814], [-160.837928, 70.343876], [-160.487404, 70.453415], [-159.649432, 70.792985], [-159.33177, 70.809416], [-159.298908, 70.760123], [-158.975769, 70.798462], [-158.658106, 70.787508], [-158.033735, 70.831323], [-157.420318, 70.979201], [-156.812377, 71.285909], [-156.565915, 71.351633], [-156.522099, 71.296863], [-155.585543, 71.170894], [-155.508865, 71.083263], [-155.832005, 70.968247], [-155.979882, 70.96277], [-155.974405, 70.809416], [-155.503388, 70.858708], [-155.476004, 70.940862], [-155.262403, 71.017539], [-155.191203, 70.973724], [-155.032372, 71.148986], [-154.566832, 70.990155], [-154.643509, 70.869662], [-154.353231, 70.8368], [-154.183446, 70.7656], [-153.931507, 70.880616], [-153.487874, 70.886093], [-153.235935, 70.924431], [-152.589656, 70.886093], [-152.26104, 70.842277], [-152.419871, 70.606769], [-151.817408, 70.546523], [-151.773592, 70.486276], [-151.187559, 70.382214], [-151.182082, 70.431507], [-150.760358, 70.49723], [-150.355064, 70.491753], [-150.349588, 70.436984], [-150.114079, 70.431507], [-149.867617, 70.508184], [-149.462323, 70.519138], [-149.177522, 70.486276], [-148.78866, 70.404122], [-148.607921, 70.420553], [-148.350504, 70.305537], [-148.202627, 70.349353], [-147.961642, 70.316491], [-147.786379, 70.245291]]], [[[-152.94018, 58.026237], [-152.945657, 57.982421], [-153.290705, 58.048145], [-153.044242, 58.305561], [-152.819688, 58.327469], [-152.666333, 58.562977], [-152.496548, 58.354853], [-152.354148, 58.426053], [-152.080301, 58.311038], [-152.080301, 58.152206], [-152.480117, 58.130299], [-152.655379, 58.059098], [-152.94018, 58.026237]]], [[[-153.958891, 57.538789], [-153.67409, 57.670236], [-153.931507, 57.69762], [-153.936983, 57.812636], [-153.723383, 57.889313], [-153.570028, 57.834544], [-153.548121, 57.719528], [-153.46049, 57.796205], [-153.455013, 57.96599], [-153.268797, 57.889313], [-153.235935, 57.998852], [-153.071627, 57.933129], [-152.874457, 57.933129], [-152.721103, 57.993375], [-152.469163, 57.889313], [-152.469163, 57.599035], [-152.151501, 57.620943], [-152.359625, 57.42925], [-152.74301, 57.505928], [-152.60061, 57.379958], [-152.710149, 57.275896], [-152.907319, 57.325188], [-152.912796, 57.128019], [-153.214027, 57.073249], [-153.312612, 56.991095], [-153.498828, 57.067772], [-153.695998, 56.859649], [-153.849352, 56.837741], [-154.013661, 56.744633], [-154.073907, 56.969187], [-154.303938, 56.848695], [-154.314892, 56.919895], [-154.523016, 56.991095], [-154.539447, 57.193742], [-154.742094, 57.275896], [-154.627078, 57.511404], [-154.227261, 57.659282], [-153.980799, 57.648328], [-153.958891, 57.538789]]], [[[-154.53397, 56.602232], [-154.742094, 56.399586], [-154.807817, 56.432447], [-154.53397, 56.602232]]], [[[-155.634835, 55.923092], [-155.476004, 55.912138], [-155.530773, 55.704014], [-155.793666, 55.731399], [-155.837482, 55.802599], [-155.634835, 55.923092]]], [[[-159.890418, 55.28229], [-159.950664, 55.068689], [-160.257373, 54.893427], [-160.109495, 55.161797], [-160.005433, 55.134412], [-159.890418, 55.28229]]], [[[-160.520266, 55.358967], [-160.33405, 55.358967], [-160.339527, 55.249428], [-160.525743, 55.128935], [-160.690051, 55.211089], [-160.794113, 55.134412], [-160.854359, 55.320628], [-160.79959, 55.380875], [-160.520266, 55.358967]]], [[[-162.256456, 54.981058], [-162.234548, 54.893427], [-162.349564, 54.838658], [-162.437195, 54.931766], [-162.256456, 54.981058]]], [[[-162.415287, 63.634624], [-162.563165, 63.536039], [-162.612457, 63.62367], [-162.415287, 63.634624]]], [[[-162.80415, 54.488133], [-162.590549, 54.449795], [-162.612457, 54.367641], [-162.782242, 54.373118], [-162.80415, 54.488133]]], [[[-165.548097, 54.29644], [-165.476897, 54.181425], [-165.630251, 54.132132], [-165.685021, 54.252625], [-165.548097, 54.29644]]], [[[-165.73979, 54.15404], [-166.046499, 54.044501], [-166.112222, 54.121178], [-165.980775, 54.219763], [-165.73979, 54.15404]]], [[[-166.364161, 60.359413], [-166.13413, 60.397752], [-166.084837, 60.326552], [-165.88219, 60.342983], [-165.685021, 60.277259], [-165.646682, 59.992458], [-165.750744, 59.89935], [-166.00816, 59.844581], [-166.062929, 59.745996], [-166.440838, 59.855535], [-166.6161, 59.850058], [-166.994009, 59.992458], [-167.125456, 59.992458], [-167.344534, 60.074613], [-167.421211, 60.206059], [-167.311672, 60.238921], [-166.93924, 60.206059], [-166.763978, 60.310121], [-166.577762, 60.321075], [-166.495608, 60.392275], [-166.364161, 60.359413]]], [[[-166.375115, 54.01164], [-166.210807, 53.934962], [-166.5449, 53.748746], [-166.539423, 53.715885], [-166.117699, 53.852808], [-166.112222, 53.776131], [-166.282007, 53.683023], [-166.555854, 53.622777], [-166.583239, 53.529669], [-166.878994, 53.431084], [-167.13641, 53.425607], [-167.306195, 53.332499], [-167.623857, 53.250345], [-167.793643, 53.337976], [-167.459549, 53.442038], [-167.355487, 53.425607], [-167.103548, 53.513238], [-167.163794, 53.611823], [-167.021394, 53.715885], [-166.807793, 53.666592], [-166.785886, 53.732316], [-167.015917, 53.754223], [-167.141887, 53.825424], [-167.032348, 53.945916], [-166.643485, 54.017116], [-166.561331, 53.880193], [-166.375115, 54.01164]]], [[[-168.790446, 53.157237], [-168.40706, 53.34893], [-168.385152, 53.431084], [-168.237275, 53.524192], [-168.007243, 53.568007], [-167.886751, 53.518715], [-167.842935, 53.387268], [-168.270136, 53.244868], [-168.500168, 53.036744], [-168.686384, 52.965544], [-168.790446, 53.157237]]], [[[-169.74891, 52.894344], [-169.705095, 52.795759], [-169.962511, 52.790282], [-169.989896, 52.856005], [-169.74891, 52.894344]]], [[[-170.148727, 57.221127], [-170.28565, 57.128019], [-170.313035, 57.221127], [-170.148727, 57.221127]]], [[[-170.669036, 52.697174], [-170.603313, 52.604066], [-170.789529, 52.538343], [-170.816914, 52.636928], [-170.669036, 52.697174]]], [[[-171.742517, 63.716778], [-170.94836, 63.5689], [-170.488297, 63.69487], [-170.280174, 63.683916], [-170.093958, 63.612716], [-170.044665, 63.492223], [-169.644848, 63.4265], [-169.518879, 63.366254], [-168.99857, 63.338869], [-168.686384, 63.295053], [-168.856169, 63.147176], [-169.108108, 63.180038], [-169.376478, 63.152653], [-169.513402, 63.08693], [-169.639372, 62.939052], [-169.831064, 63.075976], [-170.055619, 63.169084], [-170.263743, 63.180038], [-170.362328, 63.2841], [-170.866206, 63.415546], [-171.101715, 63.421023], [-171.463193, 63.306007], [-171.73704, 63.366254], [-171.852055, 63.486746], [-171.742517, 63.716778]]], [[[-172.432611, 52.390465], [-172.41618, 52.275449], [-172.607873, 52.253542], [-172.569535, 52.352127], [-172.432611, 52.390465]]], [[[-173.626584, 52.14948], [-173.495138, 52.105664], [-173.122706, 52.111141], [-173.106275, 52.07828], [-173.549907, 52.028987], [-173.626584, 52.14948]]], [[[-174.322156, 52.280926], [-174.327632, 52.379511], [-174.185232, 52.41785], [-173.982585, 52.319265], [-174.059262, 52.226157], [-174.179755, 52.231634], [-174.141417, 52.127572], [-174.333109, 52.116618], [-174.738403, 52.007079], [-174.968435, 52.039941], [-174.902711, 52.116618], [-174.656249, 52.105664], [-174.322156, 52.280926]]], [[[-176.469116, 51.853725], [-176.288377, 51.870156], [-176.288377, 51.744186], [-176.518409, 51.760617], [-176.80321, 51.61274], [-176.912748, 51.80991], [-176.792256, 51.815386], [-176.775825, 51.963264], [-176.627947, 51.968741], [-176.627947, 51.859202], [-176.469116, 51.853725]]], [[[-177.153734, 51.946833], [-177.044195, 51.897541], [-177.120872, 51.727755], [-177.274226, 51.678463], [-177.279703, 51.782525], [-177.153734, 51.946833]]], [[[-178.123152, 51.919448], [-177.953367, 51.913971], [-177.800013, 51.793479], [-177.964321, 51.651078], [-178.123152, 51.919448]]], [[[173.107557, 52.992929], [173.293773, 52.927205], [173.304726, 52.823143], [172.90491, 52.762897], [172.642017, 52.927205], [172.642017, 53.003883], [173.107557, 52.992929]]]], &quot;type&quot;: &quot;MultiPolygon&quot;}, &quot;id&quot;: &quot;AK&quot;, &quot;properties&quot;: {&quot;name&quot;: &quot;Alaska&quot;}, &quot;type&quot;: &quot;Feature&quot;}, {&quot;geometry&quot;: {&quot;coordinates&quot;: [[[-109.042503, 37.000263], [-109.04798, 31.331629], [-111.074448, 31.331629], [-112.246513, 31.704061], [-114.815198, 32.492741], [-114.72209, 32.717295], [-114.524921, 32.755634], [-114.470151, 32.843265], [-114.524921, 33.029481], [-114.661844, 33.034958], [-114.727567, 33.40739], [-114.524921, 33.54979], [-114.497536, 33.697668], [-114.535874, 33.933176], [-114.415382, 34.108438], [-114.256551, 34.174162], [-114.136058, 34.305608], [-114.333228, 34.448009], [-114.470151, 34.710902], [-114.634459, 34.87521], [-114.634459, 35.00118], [-114.574213, 35.138103], [-114.596121, 35.324319], [-114.678275, 35.516012], [-114.738521, 36.102045], [-114.371566, 36.140383], [-114.251074, 36.01989], [-114.152489, 36.025367], [-114.048427, 36.195153], [-114.048427, 37.000263], [-110.499369, 37.00574], [-109.042503, 37.000263]]], &quot;type&quot;: &quot;Polygon&quot;}, &quot;id&quot;: &quot;AZ&quot;, &quot;properties&quot;: {&quot;name&quot;: &quot;Arizona&quot;}, &quot;type&quot;: &quot;Feature&quot;}, {&quot;geometry&quot;: {&quot;coordinates&quot;: [[[-94.473842, 36.501861], [-90.152536, 36.496384], [-90.064905, 36.304691], [-90.218259, 36.184199], [-90.377091, 35.997983], [-89.730812, 35.997983], [-89.763673, 35.811767], [-89.911551, 35.756997], [-89.944412, 35.603643], [-90.130628, 35.439335], [-90.114197, 35.198349], [-90.212782, 35.023087], [-90.311367, 34.995703], [-90.251121, 34.908072], [-90.409952, 34.831394], [-90.481152, 34.661609], [-90.585214, 34.617794], [-90.568783, 34.420624], [-90.749522, 34.365854], [-90.744046, 34.300131], [-90.952169, 34.135823], [-90.891923, 34.026284], [-91.072662, 33.867453], [-91.231493, 33.560744], [-91.056231, 33.429298], [-91.143862, 33.347144], [-91.089093, 33.13902], [-91.16577, 33.002096], [-93.608485, 33.018527], [-94.041164, 33.018527], [-94.041164, 33.54979], [-94.183564, 33.593606], [-94.380734, 33.544313], [-94.484796, 33.637421], [-94.430026, 35.395519], [-94.616242, 36.501861], [-94.473842, 36.501861]]], &quot;type&quot;: &quot;Polygon&quot;}, &quot;id&quot;: &quot;AR&quot;, &quot;properties&quot;: {&quot;name&quot;: &quot;Arkansas&quot;}, &quot;type&quot;: &quot;Feature&quot;}, {&quot;geometry&quot;: {&quot;coordinates&quot;: [[[-123.233256, 42.006186], [-122.378853, 42.011663], [-121.037003, 41.995232], [-120.001861, 41.995232], [-119.996384, 40.264519], [-120.001861, 38.999346], [-118.71478, 38.101128], [-117.498899, 37.21934], [-116.540435, 36.501861], [-115.85034, 35.970598], [-114.634459, 35.00118], [-114.634459, 34.87521], [-114.470151, 34.710902], [-114.333228, 34.448009], [-114.136058, 34.305608], [-114.256551, 34.174162], [-114.415382, 34.108438], [-114.535874, 33.933176], [-114.497536, 33.697668], [-114.524921, 33.54979], [-114.727567, 33.40739], [-114.661844, 33.034958], [-114.524921, 33.029481], [-114.470151, 32.843265], [-114.524921, 32.755634], [-114.72209, 32.717295], [-116.04751, 32.624187], [-117.126467, 32.536556], [-117.24696, 32.668003], [-117.252437, 32.876127], [-117.329114, 33.122589], [-117.471515, 33.297851], [-117.7837, 33.538836], [-118.183517, 33.763391], [-118.260194, 33.703145], [-118.413548, 33.741483], [-118.391641, 33.840068], [-118.566903, 34.042715], [-118.802411, 33.998899], [-119.218659, 34.146777], [-119.278905, 34.26727], [-119.558229, 34.415147], [-119.875891, 34.40967], [-120.138784, 34.475393], [-120.472878, 34.448009], [-120.64814, 34.579455], [-120.609801, 34.858779], [-120.670048, 34.902595], [-120.631709, 35.099764], [-120.894602, 35.247642], [-120.905556, 35.450289], [-121.004141, 35.461243], [-121.168449, 35.636505], [-121.283465, 35.674843], [-121.332757, 35.784382], [-121.716143, 36.195153], [-121.896882, 36.315645], [-121.935221, 36.638785], [-121.858544, 36.6114], [-121.787344, 36.803093], [-121.929744, 36.978355], [-122.105006, 36.956447], [-122.335038, 37.115279], [-122.417192, 37.241248], [-122.400761, 37.361741], [-122.515777, 37.520572], [-122.515777, 37.783465], [-122.329561, 37.783465], [-122.406238, 38.15042], [-122.488392, 38.112082], [-122.504823, 37.931343], [-122.701993, 37.893004], [-122.937501, 38.029928], [-122.97584, 38.265436], [-123.129194, 38.451652], [-123.331841, 38.566668], [-123.44138, 38.698114], [-123.737134, 38.95553], [-123.687842, 39.032208], [-123.824765, 39.366301], [-123.764519, 39.552517], [-123.85215, 39.831841], [-124.109566, 40.105688], [-124.361506, 40.259042], [-124.410798, 40.439781], [-124.158859, 40.877937], [-124.109566, 41.025814], [-124.158859, 41.14083], [-124.065751, 41.442061], [-124.147905, 41.715908], [-124.257444, 41.781632], [-124.213628, 42.000709], [-123.233256, 42.006186]]], &quot;type&quot;: &quot;Polygon&quot;}, &quot;id&quot;: &quot;CA&quot;, &quot;properties&quot;: {&quot;name&quot;: &quot;California&quot;}, &quot;type&quot;: &quot;Feature&quot;}, {&quot;geometry&quot;: {&quot;coordinates&quot;: [[[-107.919731, 41.003906], [-105.728954, 40.998429], [-104.053011, 41.003906], [-102.053927, 41.003906], [-102.053927, 40.001626], [-102.042974, 36.994786], [-103.001438, 37.000263], [-104.337812, 36.994786], [-106.868158, 36.994786], [-107.421329, 37.000263], [-109.042503, 37.000263], [-109.042503, 38.166851], [-109.058934, 38.27639], [-109.053457, 39.125316], [-109.04798, 40.998429], [-107.919731, 41.003906]]], &quot;type&quot;: &quot;Polygon&quot;}, &quot;id&quot;: &quot;CO&quot;, &quot;properties&quot;: {&quot;name&quot;: &quot;Colorado&quot;}, &quot;type&quot;: &quot;Feature&quot;}, {&quot;geometry&quot;: {&quot;coordinates&quot;: [[[-73.053528, 42.039048], [-71.799309, 42.022617], [-71.799309, 42.006186], [-71.799309, 41.414677], [-71.859555, 41.321569], [-71.947186, 41.338], [-72.385341, 41.261322], [-72.905651, 41.28323], [-73.130205, 41.146307], [-73.371191, 41.102491], [-73.655992, 40.987475], [-73.727192, 41.102491], [-73.48073, 41.21203], [-73.55193, 41.294184], [-73.486206, 42.050002], [-73.053528, 42.039048]]], &quot;type&quot;: &quot;Polygon&quot;}, &quot;id&quot;: &quot;CT&quot;, &quot;properties&quot;: {&quot;name&quot;: &quot;Connecticut&quot;}, &quot;type&quot;: &quot;Feature&quot;}, {&quot;geometry&quot;: {&quot;coordinates&quot;: [[[-75.414089, 39.804456], [-75.507197, 39.683964], [-75.611259, 39.61824], [-75.589352, 39.459409], [-75.441474, 39.311532], [-75.403136, 39.065069], [-75.189535, 38.807653], [-75.09095, 38.796699], [-75.047134, 38.451652], [-75.693413, 38.462606], [-75.786521, 39.722302], [-75.616736, 39.831841], [-75.414089, 39.804456]]], &quot;type&quot;: &quot;Polygon&quot;}, &quot;id&quot;: &quot;DE&quot;, &quot;properties&quot;: {&quot;name&quot;: &quot;Delaware&quot;}, &quot;type&quot;: &quot;Feature&quot;}, {&quot;geometry&quot;: {&quot;coordinates&quot;: [[[-85.497137, 30.997536], [-85.004212, 31.003013], [-84.867289, 30.712735], [-83.498053, 30.647012], [-82.216449, 30.570335], [-82.167157, 30.356734], [-82.046664, 30.362211], [-82.002849, 30.564858], [-82.041187, 30.751074], [-81.948079, 30.827751], [-81.718048, 30.745597], [-81.444201, 30.707258], [-81.383954, 30.27458], [-81.257985, 29.787132], [-80.967707, 29.14633], [-80.524075, 28.461713], [-80.589798, 28.41242], [-80.56789, 28.094758], [-80.381674, 27.738757], [-80.091397, 27.021277], [-80.03115, 26.796723], [-80.036627, 26.566691], [-80.146166, 25.739673], [-80.239274, 25.723243], [-80.337859, 25.465826], [-80.304997, 25.383672], [-80.49669, 25.197456], [-80.573367, 25.241272], [-80.759583, 25.164595], [-81.077246, 25.120779], [-81.170354, 25.224841], [-81.126538, 25.378195], [-81.351093, 25.821827], [-81.526355, 25.903982], [-81.679709, 25.843735], [-81.800202, 26.090198], [-81.833064, 26.292844], [-82.041187, 26.517399], [-82.09048, 26.665276], [-82.057618, 26.878877], [-82.172634, 26.917216], [-82.145249, 26.791246], [-82.249311, 26.758384], [-82.566974, 27.300601], [-82.692943, 27.437525], [-82.391711, 27.837342], [-82.588881, 27.815434], [-82.720328, 27.689464], [-82.851774, 27.886634], [-82.676512, 28.434328], [-82.643651, 28.888914], [-82.764143, 28.998453], [-82.802482, 29.14633], [-82.994175, 29.179192], [-83.218729, 29.420177], [-83.399469, 29.518762], [-83.410422, 29.66664], [-83.536392, 29.721409], [-83.640454, 29.885717], [-84.02384, 30.104795], [-84.357933, 30.055502], [-84.341502, 29.902148], [-84.451041, 29.929533], [-84.867289, 29.743317], [-85.310921, 29.699501], [-85.299967, 29.80904], [-85.404029, 29.940487], [-85.924338, 30.236241], [-86.29677, 30.362211], [-86.630863, 30.395073], [-86.910187, 30.373165], [-87.518128, 30.280057], [-87.37025, 30.427934], [-87.446927, 30.510088], [-87.408589, 30.674397], [-87.633143, 30.86609], [-87.600282, 30.997536], [-85.497137, 30.997536]]], &quot;type&quot;: &quot;Polygon&quot;}, &quot;id&quot;: &quot;FL&quot;, &quot;properties&quot;: {&quot;name&quot;: &quot;Florida&quot;}, &quot;type&quot;: &quot;Feature&quot;}, {&quot;geometry&quot;: {&quot;coordinates&quot;: [[[-83.109191, 35.00118], [-83.322791, 34.787579], [-83.339222, 34.683517], [-83.005129, 34.469916], [-82.901067, 34.486347], [-82.747713, 34.26727], [-82.714851, 34.152254], [-82.55602, 33.94413], [-82.325988, 33.81816], [-82.194542, 33.631944], [-81.926172, 33.462159], [-81.937125, 33.347144], [-81.761863, 33.160928], [-81.493493, 33.007573], [-81.42777, 32.843265], [-81.416816, 32.629664], [-81.279893, 32.558464], [-81.121061, 32.290094], [-81.115584, 32.120309], [-80.885553, 32.032678], [-81.132015, 31.693108], [-81.175831, 31.517845], [-81.279893, 31.364491], [-81.290846, 31.20566], [-81.400385, 31.13446], [-81.444201, 30.707258], [-81.718048, 30.745597], [-81.948079, 30.827751], [-82.041187, 30.751074], [-82.002849, 30.564858], [-82.046664, 30.362211], [-82.167157, 30.356734], [-82.216449, 30.570335], [-83.498053, 30.647012], [-84.867289, 30.712735], [-85.004212, 31.003013], [-85.113751, 31.27686], [-85.042551, 31.539753], [-85.141136, 31.840985], [-85.053504, 32.01077], [-85.058981, 32.13674], [-84.889196, 32.262709], [-85.004212, 32.322956], [-84.960397, 32.421541], [-85.069935, 32.580372], [-85.184951, 32.859696], [-85.431413, 34.124869], [-85.606675, 34.984749], [-84.319594, 34.990226], [-83.618546, 34.984749], [-83.109191, 35.00118]]], &quot;type&quot;: &quot;Polygon&quot;}, &quot;id&quot;: &quot;GA&quot;, &quot;properties&quot;: {&quot;name&quot;: &quot;Georgia&quot;}, &quot;type&quot;: &quot;Feature&quot;}, {&quot;geometry&quot;: {&quot;coordinates&quot;: [[[[-155.634835, 18.948267], [-155.881297, 19.035898], [-155.919636, 19.123529], [-155.886774, 19.348084], [-156.062036, 19.73147], [-155.925113, 19.857439], [-155.826528, 20.032702], [-155.897728, 20.147717], [-155.87582, 20.26821], [-155.596496, 20.12581], [-155.284311, 20.021748], [-155.092618, 19.868393], [-155.092618, 19.736947], [-154.807817, 19.523346], [-154.983079, 19.348084], [-155.295265, 19.26593], [-155.514342, 19.134483], [-155.634835, 18.948267]]], [[[-156.587823, 21.029505], [-156.472807, 20.892581], [-156.324929, 20.952827], [-156.00179, 20.793996], [-156.051082, 20.651596], [-156.379699, 20.580396], [-156.445422, 20.60778], [-156.461853, 20.783042], [-156.631638, 20.821381], [-156.697361, 20.919966], [-156.587823, 21.029505]]], [[[-156.982162, 21.210244], [-157.080747, 21.106182], [-157.310779, 21.106182], [-157.239579, 21.221198], [-156.982162, 21.210244]]], [[[-157.951581, 21.697691], [-157.842042, 21.462183], [-157.896811, 21.325259], [-158.110412, 21.303352], [-158.252813, 21.582676], [-158.126843, 21.588153], [-157.951581, 21.697691]]], [[[-159.468693, 22.228955], [-159.353678, 22.218001], [-159.298908, 22.113939], [-159.33177, 21.966061], [-159.446786, 21.872953], [-159.764448, 21.987969], [-159.726109, 22.152277], [-159.468693, 22.228955]]]], &quot;type&quot;: &quot;MultiPolygon&quot;}, &quot;id&quot;: &quot;HI&quot;, &quot;properties&quot;: {&quot;name&quot;: &quot;Hawaii&quot;}, &quot;type&quot;: &quot;Feature&quot;}, {&quot;geometry&quot;: {&quot;coordinates&quot;: [[[-116.04751, 49.000239], [-116.04751, 47.976051], [-115.724371, 47.696727], [-115.718894, 47.42288], [-115.527201, 47.302388], [-115.324554, 47.258572], [-115.302646, 47.187372], [-114.930214, 46.919002], [-114.886399, 46.809463], [-114.623506, 46.705401], [-114.612552, 46.639678], [-114.322274, 46.645155], [-114.464674, 46.272723], [-114.492059, 46.037214], [-114.387997, 45.88386], [-114.568736, 45.774321], [-114.497536, 45.670259], [-114.546828, 45.560721], [-114.333228, 45.456659], [-114.086765, 45.593582], [-113.98818, 45.703121], [-113.807441, 45.604536], [-113.834826, 45.522382], [-113.736241, 45.330689], [-113.571933, 45.128042], [-113.45144, 45.056842], [-113.456917, 44.865149], [-113.341901, 44.782995], [-113.133778, 44.772041], [-113.002331, 44.448902], [-112.887315, 44.394132], [-112.783254, 44.48724], [-112.471068, 44.481763], [-112.241036, 44.569394], [-112.104113, 44.520102], [-111.868605, 44.563917], [-111.819312, 44.509148], [-111.616665, 44.547487], [-111.386634, 44.75561], [-111.227803, 44.580348], [-111.047063, 44.476286], [-111.047063, 42.000709], [-112.164359, 41.995232], [-114.04295, 41.995232], [-117.027882, 42.000709], [-117.027882, 43.830007], [-116.896436, 44.158624], [-116.97859, 44.240778], [-117.170283, 44.257209], [-117.241483, 44.394132], [-117.038836, 44.750133], [-116.934774, 44.782995], [-116.830713, 44.930872], [-116.847143, 45.02398], [-116.732128, 45.144473], [-116.671881, 45.319735], [-116.463758, 45.61549], [-116.545912, 45.752413], [-116.78142, 45.823614], [-116.918344, 45.993399], [-116.92382, 46.168661], [-117.055267, 46.343923], [-117.038836, 46.426077], [-117.044313, 47.762451], [-117.033359, 49.000239], [-116.04751, 49.000239]]], &quot;type&quot;: &quot;Polygon&quot;}, &quot;id&quot;: &quot;ID&quot;, &quot;properties&quot;: {&quot;name&quot;: &quot;Idaho&quot;}, &quot;type&quot;: &quot;Feature&quot;}, {&quot;geometry&quot;: {&quot;coordinates&quot;: [[[-90.639984, 42.510065], [-88.788778, 42.493634], [-87.802929, 42.493634], [-87.83579, 42.301941], [-87.682436, 42.077386], [-87.523605, 41.710431], [-87.529082, 39.34987], [-87.63862, 39.169131], [-87.512651, 38.95553], [-87.49622, 38.780268], [-87.62219, 38.637868], [-87.655051, 38.506421], [-87.83579, 38.292821], [-87.950806, 38.27639], [-87.923421, 38.15042], [-88.000098, 38.101128], [-88.060345, 37.865619], [-88.027483, 37.799896], [-88.15893, 37.657496], [-88.065822, 37.482234], [-88.476592, 37.389126], [-88.514931, 37.285064], [-88.421823, 37.153617], [-88.547792, 37.071463], [-88.914747, 37.224817], [-89.029763, 37.213863], [-89.183118, 37.038601], [-89.133825, 36.983832], [-89.292656, 36.994786], [-89.517211, 37.279587], [-89.435057, 37.34531], [-89.517211, 37.537003], [-89.517211, 37.690357], [-89.84035, 37.903958], [-89.949889, 37.88205], [-90.059428, 38.013497], [-90.355183, 38.216144], [-90.349706, 38.374975], [-90.179921, 38.632391], [-90.207305, 38.725499], [-90.10872, 38.845992], [-90.251121, 38.917192], [-90.470199, 38.961007], [-90.585214, 38.867899], [-90.661891, 38.928146], [-90.727615, 39.256762], [-91.061708, 39.470363], [-91.368417, 39.727779], [-91.494386, 40.034488], [-91.50534, 40.237135], [-91.417709, 40.379535], [-91.401278, 40.560274], [-91.121954, 40.669813], [-91.09457, 40.823167], [-90.963123, 40.921752], [-90.946692, 41.097014], [-91.111001, 41.239415], [-91.045277, 41.414677], [-90.656414, 41.463969], [-90.344229, 41.589939], [-90.311367, 41.743293], [-90.179921, 41.809016], [-90.141582, 42.000709], [-90.168967, 42.126679], [-90.393521, 42.225264], [-90.420906, 42.329326], [-90.639984, 42.510065]]], &quot;type&quot;: &quot;Polygon&quot;}, &quot;id&quot;: &quot;IL&quot;, &quot;properties&quot;: {&quot;name&quot;: &quot;Illinois&quot;}, &quot;type&quot;: &quot;Feature&quot;}, {&quot;geometry&quot;: {&quot;coordinates&quot;: [[[-85.990061, 41.759724], [-84.807042, 41.759724], [-84.807042, 41.694001], [-84.801565, 40.500028], [-84.817996, 39.103408], [-84.894673, 39.059592], [-84.812519, 38.785745], [-84.987781, 38.780268], [-85.173997, 38.68716], [-85.431413, 38.730976], [-85.42046, 38.533806], [-85.590245, 38.451652], [-85.655968, 38.325682], [-85.83123, 38.27639], [-85.924338, 38.024451], [-86.039354, 37.958727], [-86.263908, 38.051835], [-86.302247, 38.166851], [-86.521325, 38.040881], [-86.504894, 37.931343], [-86.729448, 37.893004], [-86.795172, 37.991589], [-87.047111, 37.893004], [-87.129265, 37.788942], [-87.381204, 37.93682], [-87.512651, 37.903958], [-87.600282, 37.975158], [-87.682436, 37.903958], [-87.934375, 37.893004], [-88.027483, 37.799896], [-88.060345, 37.865619], [-88.000098, 38.101128], [-87.923421, 38.15042], [-87.950806, 38.27639], [-87.83579, 38.292821], [-87.655051, 38.506421], [-87.62219, 38.637868], [-87.49622, 38.780268], [-87.512651, 38.95553], [-87.63862, 39.169131], [-87.529082, 39.34987], [-87.523605, 41.710431], [-87.42502, 41.644708], [-87.118311, 41.644708], [-86.822556, 41.759724], [-85.990061, 41.759724]]], &quot;type&quot;: &quot;Polygon&quot;}, &quot;id&quot;: &quot;IN&quot;, &quot;properties&quot;: {&quot;name&quot;: &quot;Indiana&quot;}, &quot;type&quot;: &quot;Feature&quot;}, {&quot;geometry&quot;: {&quot;coordinates&quot;: [[[-91.368417, 43.501391], [-91.215062, 43.501391], [-91.204109, 43.353514], [-91.056231, 43.254929], [-91.176724, 43.134436], [-91.143862, 42.909881], [-91.067185, 42.75105], [-90.711184, 42.636034], [-90.639984, 42.510065], [-90.420906, 42.329326], [-90.393521, 42.225264], [-90.168967, 42.126679], [-90.141582, 42.000709], [-90.179921, 41.809016], [-90.311367, 41.743293], [-90.344229, 41.589939], [-90.656414, 41.463969], [-91.045277, 41.414677], [-91.111001, 41.239415], [-90.946692, 41.097014], [-90.963123, 40.921752], [-91.09457, 40.823167], [-91.121954, 40.669813], [-91.401278, 40.560274], [-91.417709, 40.379535], [-91.527248, 40.412397], [-91.729895, 40.615043], [-91.833957, 40.609566], [-93.257961, 40.582182], [-94.632673, 40.571228], [-95.7664, 40.587659], [-95.881416, 40.719105], [-95.826646, 40.976521], [-95.925231, 41.201076], [-95.919754, 41.453015], [-96.095016, 41.540646], [-96.122401, 41.67757], [-96.062155, 41.798063], [-96.127878, 41.973325], [-96.264801, 42.039048], [-96.44554, 42.488157], [-96.631756, 42.707235], [-96.544125, 42.855112], [-96.511264, 43.052282], [-96.434587, 43.123482], [-96.560556, 43.222067], [-96.527695, 43.397329], [-96.582464, 43.479483], [-96.451017, 43.501391], [-91.368417, 43.501391]]], &quot;type&quot;: &quot;Polygon&quot;}, &quot;id&quot;: &quot;IA&quot;, &quot;properties&quot;: {&quot;name&quot;: &quot;Iowa&quot;}, &quot;type&quot;: &quot;Feature&quot;}, {&quot;geometry&quot;: {&quot;coordinates&quot;: [[[-101.90605, 40.001626], [-95.306337, 40.001626], [-95.207752, 39.908518], [-94.884612, 39.831841], [-95.109167, 39.541563], [-94.983197, 39.442978], [-94.824366, 39.20747], [-94.610765, 39.158177], [-94.616242, 37.000263], [-100.087706, 37.000263], [-102.042974, 36.994786], [-102.053927, 40.001626], [-101.90605, 40.001626]]], &quot;type&quot;: &quot;Polygon&quot;}, &quot;id&quot;: &quot;KS&quot;, &quot;properties&quot;: {&quot;name&quot;: &quot;Kansas&quot;}, &quot;type&quot;: &quot;Feature&quot;}, {&quot;geometry&quot;: {&quot;coordinates&quot;: [[[-83.903347, 38.769315], [-83.678792, 38.632391], [-83.519961, 38.703591], [-83.142052, 38.626914], [-83.032514, 38.725499], [-82.890113, 38.758361], [-82.846298, 38.588575], [-82.731282, 38.561191], [-82.594358, 38.424267], [-82.621743, 38.123036], [-82.50125, 37.931343], [-82.342419, 37.783465], [-82.293127, 37.668449], [-82.101434, 37.553434], [-81.969987, 37.537003], [-82.353373, 37.268633], [-82.720328, 37.120755], [-82.720328, 37.044078], [-82.868205, 36.978355], [-82.879159, 36.890724], [-83.070852, 36.852385], [-83.136575, 36.742847], [-83.673316, 36.600446], [-83.689746, 36.584015], [-84.544149, 36.594969], [-85.289013, 36.627831], [-85.486183, 36.616877], [-86.592525, 36.655216], [-87.852221, 36.633308], [-88.071299, 36.677123], [-88.054868, 36.496384], [-89.298133, 36.507338], [-89.418626, 36.496384], [-89.363857, 36.622354], [-89.215979, 36.578538], [-89.133825, 36.983832], [-89.183118, 37.038601], [-89.029763, 37.213863], [-88.914747, 37.224817], [-88.547792, 37.071463], [-88.421823, 37.153617], [-88.514931, 37.285064], [-88.476592, 37.389126], [-88.065822, 37.482234], [-88.15893, 37.657496], [-88.027483, 37.799896], [-87.934375, 37.893004], [-87.682436, 37.903958], [-87.600282, 37.975158], [-87.512651, 37.903958], [-87.381204, 37.93682], [-87.129265, 37.788942], [-87.047111, 37.893004], [-86.795172, 37.991589], [-86.729448, 37.893004], [-86.504894, 37.931343], [-86.521325, 38.040881], [-86.302247, 38.166851], [-86.263908, 38.051835], [-86.039354, 37.958727], [-85.924338, 38.024451], [-85.83123, 38.27639], [-85.655968, 38.325682], [-85.590245, 38.451652], [-85.42046, 38.533806], [-85.431413, 38.730976], [-85.173997, 38.68716], [-84.987781, 38.780268], [-84.812519, 38.785745], [-84.894673, 39.059592], [-84.817996, 39.103408], [-84.43461, 39.103408], [-84.231963, 38.895284], [-84.215533, 38.807653], [-83.903347, 38.769315]]], &quot;type&quot;: &quot;Polygon&quot;}, &quot;id&quot;: &quot;KY&quot;, &quot;properties&quot;: {&quot;name&quot;: &quot;Kentucky&quot;}, &quot;type&quot;: &quot;Feature&quot;}, {&quot;geometry&quot;: {&quot;coordinates&quot;: [[[-93.608485, 33.018527], [-91.16577, 33.002096], [-91.072662, 32.887081], [-91.143862, 32.843265], [-91.154816, 32.640618], [-91.006939, 32.514649], [-90.985031, 32.218894], [-91.105524, 31.988862], [-91.341032, 31.846462], [-91.401278, 31.621907], [-91.499863, 31.643815], [-91.516294, 31.27686], [-91.636787, 31.265906], [-91.565587, 31.068736], [-91.636787, 30.997536], [-89.747242, 30.997536], [-89.845827, 30.66892], [-89.681519, 30.449842], [-89.643181, 30.285534], [-89.522688, 30.181472], [-89.818443, 30.044549], [-89.84035, 29.945964], [-89.599365, 29.88024], [-89.495303, 30.039072], [-89.287179, 29.88024], [-89.30361, 29.754271], [-89.424103, 29.699501], [-89.648657, 29.748794], [-89.621273, 29.655686], [-89.69795, 29.513285], [-89.506257, 29.387316], [-89.199548, 29.348977], [-89.09001, 29.2011], [-89.002379, 29.179192], [-89.16121, 29.009407], [-89.336472, 29.042268], [-89.484349, 29.217531], [-89.851304, 29.310638], [-89.851304, 29.480424], [-90.032043, 29.425654], [-90.021089, 29.283254], [-90.103244, 29.151807], [-90.23469, 29.129899], [-90.333275, 29.277777], [-90.563307, 29.283254], [-90.645461, 29.129899], [-90.798815, 29.086084], [-90.963123, 29.179192], [-91.09457, 29.190146], [-91.220539, 29.436608], [-91.445094, 29.546147], [-91.532725, 29.529716], [-91.620356, 29.73784], [-91.883249, 29.710455], [-91.888726, 29.836425], [-92.146142, 29.715932], [-92.113281, 29.622824], [-92.31045, 29.535193], [-92.617159, 29.579009], [-92.97316, 29.715932], [-93.2251, 29.776178], [-93.767317, 29.726886], [-93.838517, 29.688547], [-93.926148, 29.787132], [-93.690639, 30.143133], [-93.767317, 30.334826], [-93.696116, 30.438888], [-93.728978, 30.575812], [-93.630393, 30.679874], [-93.526331, 30.93729], [-93.542762, 31.15089], [-93.816609, 31.556184], [-93.822086, 31.775262], [-94.041164, 31.994339], [-94.041164, 33.018527], [-93.608485, 33.018527]]], &quot;type&quot;: &quot;Polygon&quot;}, &quot;id&quot;: &quot;LA&quot;, &quot;properties&quot;: {&quot;name&quot;: &quot;Louisiana&quot;}, &quot;type&quot;: &quot;Feature&quot;}, {&quot;geometry&quot;: {&quot;coordinates&quot;: [[[-70.703921, 43.057759], [-70.824413, 43.128959], [-70.807983, 43.227544], [-70.966814, 43.34256], [-71.032537, 44.657025], [-71.08183, 45.303304], [-70.649151, 45.440228], [-70.720352, 45.511428], [-70.556043, 45.664782], [-70.386258, 45.735983], [-70.41912, 45.796229], [-70.260289, 45.889337], [-70.309581, 46.064599], [-70.210996, 46.327492], [-70.057642, 46.415123], [-69.997395, 46.694447], [-69.225147, 47.461219], [-69.044408, 47.428357], [-69.033454, 47.242141], [-68.902007, 47.176418], [-68.578868, 47.285957], [-68.376221, 47.285957], [-68.233821, 47.357157], [-67.954497, 47.198326], [-67.790188, 47.066879], [-67.779235, 45.944106], [-67.801142, 45.675736], [-67.456095, 45.604536], [-67.505388, 45.48952], [-67.417757, 45.379982], [-67.488957, 45.281397], [-67.346556, 45.128042], [-67.16034, 45.160904], [-66.979601, 44.804903], [-67.187725, 44.646072], [-67.308218, 44.706318], [-67.406803, 44.596779], [-67.549203, 44.624164], [-67.565634, 44.531056], [-67.75185, 44.54201], [-68.047605, 44.328409], [-68.118805, 44.476286], [-68.222867, 44.48724], [-68.173574, 44.328409], [-68.403606, 44.251732], [-68.458375, 44.377701], [-68.567914, 44.311978], [-68.82533, 44.311978], [-68.830807, 44.459856], [-68.984161, 44.426994], [-68.956777, 44.322932], [-69.099177, 44.103854], [-69.071793, 44.043608], [-69.258008, 43.923115], [-69.444224, 43.966931], [-69.553763, 43.840961], [-69.707118, 43.82453], [-69.833087, 43.720469], [-69.986442, 43.742376], [-70.030257, 43.851915], [-70.254812, 43.676653], [-70.194565, 43.567114], [-70.358873, 43.528776], [-70.369827, 43.435668], [-70.556043, 43.320652], [-70.703921, 43.057759]]], &quot;type&quot;: &quot;Polygon&quot;}, &quot;id&quot;: &quot;ME&quot;, &quot;properties&quot;: {&quot;name&quot;: &quot;Maine&quot;}, &quot;type&quot;: &quot;Feature&quot;}, {&quot;geometry&quot;: {&quot;coordinates&quot;: [[[[-75.994645, 37.95325], [-76.016553, 37.95325], [-76.043938, 37.95325], [-75.994645, 37.95325]]], [[[-79.477979, 39.722302], [-75.786521, 39.722302], [-75.693413, 38.462606], [-75.047134, 38.451652], [-75.244304, 38.029928], [-75.397659, 38.013497], [-75.671506, 37.95325], [-75.885106, 37.909435], [-75.879629, 38.073743], [-75.961783, 38.139466], [-75.846768, 38.210667], [-76.000122, 38.374975], [-76.049415, 38.303775], [-76.257538, 38.320205], [-76.328738, 38.500944], [-76.263015, 38.500944], [-76.257538, 38.736453], [-76.191815, 38.829561], [-76.279446, 39.147223], [-76.169907, 39.333439], [-76.000122, 39.366301], [-75.972737, 39.557994], [-76.098707, 39.536086], [-76.104184, 39.437501], [-76.367077, 39.311532], [-76.443754, 39.196516], [-76.460185, 38.906238], [-76.55877, 38.769315], [-76.514954, 38.539283], [-76.383508, 38.380452], [-76.399939, 38.259959], [-76.317785, 38.139466], [-76.3616, 38.057312], [-76.591632, 38.216144], [-76.920248, 38.292821], [-77.018833, 38.446175], [-77.205049, 38.358544], [-77.276249, 38.479037], [-77.128372, 38.632391], [-77.040741, 38.791222], [-76.909294, 38.895284], [-77.035264, 38.993869], [-77.117418, 38.933623], [-77.248864, 39.026731], [-77.456988, 39.076023], [-77.456988, 39.223901], [-77.566527, 39.306055], [-77.719881, 39.322485], [-77.834897, 39.601809], [-78.004682, 39.601809], [-78.174467, 39.694917], [-78.267575, 39.61824], [-78.431884, 39.623717], [-78.470222, 39.514178], [-78.765977, 39.585379], [-78.963147, 39.437501], [-79.094593, 39.470363], [-79.291763, 39.300578], [-79.488933, 39.20747], [-79.477979, 39.722302]]]], &quot;type&quot;: &quot;MultiPolygon&quot;}, &quot;id&quot;: &quot;MD&quot;, &quot;properties&quot;: {&quot;name&quot;: &quot;Maryland&quot;}, &quot;type&quot;: &quot;Feature&quot;}, {&quot;geometry&quot;: {&quot;coordinates&quot;: [[[-70.917521, 42.887974], [-70.818936, 42.871543], [-70.780598, 42.696281], [-70.824413, 42.55388], [-70.983245, 42.422434], [-70.988722, 42.269079], [-70.769644, 42.247172], [-70.638197, 42.08834], [-70.660105, 41.962371], [-70.550566, 41.929509], [-70.539613, 41.814493], [-70.260289, 41.715908], [-69.937149, 41.809016], [-70.008349, 41.672093], [-70.484843, 41.5516], [-70.660105, 41.546123], [-70.764167, 41.639231], [-70.928475, 41.611847], [-70.933952, 41.540646], [-71.120168, 41.496831], [-71.196845, 41.67757], [-71.22423, 41.710431], [-71.328292, 41.781632], [-71.383061, 42.01714], [-71.530939, 42.01714], [-71.799309, 42.006186], [-71.799309, 42.022617], [-73.053528, 42.039048], [-73.486206, 42.050002], [-73.508114, 42.08834], [-73.267129, 42.745573], [-72.456542, 42.729142], [-71.29543, 42.696281], [-71.185891, 42.789389], [-70.917521, 42.887974]]], &quot;type&quot;: &quot;Polygon&quot;}, &quot;id&quot;: &quot;MA&quot;, &quot;properties&quot;: {&quot;name&quot;: &quot;Massachusetts&quot;}, &quot;type&quot;: &quot;Feature&quot;}, {&quot;geometry&quot;: {&quot;coordinates&quot;: [[[[-83.454238, 41.732339], [-84.807042, 41.694001], [-84.807042, 41.759724], [-85.990061, 41.759724], [-86.822556, 41.759724], [-86.619909, 41.891171], [-86.482986, 42.115725], [-86.357016, 42.252649], [-86.263908, 42.444341], [-86.209139, 42.718189], [-86.231047, 43.013943], [-86.526801, 43.594499], [-86.433693, 43.813577], [-86.499417, 44.07647], [-86.269385, 44.34484], [-86.220093, 44.569394], [-86.252954, 44.689887], [-86.088646, 44.73918], [-86.066738, 44.903488], [-85.809322, 44.947303], [-85.612152, 45.128042], [-85.628583, 44.766564], [-85.524521, 44.750133], [-85.393075, 44.930872], [-85.387598, 45.237581], [-85.305444, 45.314258], [-85.031597, 45.363551], [-85.119228, 45.577151], [-84.938489, 45.75789], [-84.713934, 45.768844], [-84.461995, 45.653829], [-84.215533, 45.637398], [-84.09504, 45.494997], [-83.908824, 45.484043], [-83.596638, 45.352597], [-83.4871, 45.358074], [-83.317314, 45.144473], [-83.454238, 45.029457], [-83.322791, 44.88158], [-83.273499, 44.711795], [-83.333745, 44.339363], [-83.536392, 44.246255], [-83.585684, 44.054562], [-83.82667, 43.988839], [-83.958116, 43.758807], [-83.908824, 43.671176], [-83.667839, 43.589022], [-83.481623, 43.714992], [-83.262545, 43.972408], [-82.917498, 44.070993], [-82.747713, 43.994316], [-82.643651, 43.851915], [-82.539589, 43.435668], [-82.523158, 43.227544], [-82.413619, 42.975605], [-82.517681, 42.614127], [-82.681989, 42.559357], [-82.687466, 42.690804], [-82.797005, 42.652465], [-82.922975, 42.351234], [-83.125621, 42.236218], [-83.185868, 42.006186], [-83.437807, 41.814493], [-83.454238, 41.732339]]], [[[-85.508091, 45.730506], [-85.49166, 45.610013], [-85.623106, 45.588105], [-85.568337, 45.75789], [-85.508091, 45.730506]]], [[[-87.589328, 45.095181], [-87.742682, 45.199243], [-87.649574, 45.341643], [-87.885083, 45.363551], [-87.791975, 45.500474], [-87.781021, 45.675736], [-87.989145, 45.796229], [-88.10416, 45.922199], [-88.531362, 46.020784], [-88.662808, 45.987922], [-89.09001, 46.135799], [-90.119674, 46.338446], [-90.229213, 46.508231], [-90.415429, 46.568478], [-90.026566, 46.672539], [-89.851304, 46.793032], [-89.413149, 46.842325], [-89.128348, 46.990202], [-88.996902, 46.995679], [-88.887363, 47.099741], [-88.575177, 47.247618], [-88.416346, 47.373588], [-88.180837, 47.455742], [-87.956283, 47.384542], [-88.350623, 47.077833], [-88.443731, 46.973771], [-88.438254, 46.787555], [-88.246561, 46.929956], [-87.901513, 46.908048], [-87.633143, 46.809463], [-87.392158, 46.535616], [-87.260711, 46.486323], [-87.008772, 46.530139], [-86.948526, 46.469893], [-86.696587, 46.437031], [-86.159846, 46.667063], [-85.880522, 46.68897], [-85.508091, 46.678016], [-85.256151, 46.754694], [-85.064458, 46.760171], [-85.02612, 46.480847], [-84.82895, 46.442508], [-84.63178, 46.486323], [-84.549626, 46.4206], [-84.418179, 46.502754], [-84.127902, 46.530139], [-84.122425, 46.179615], [-83.990978, 46.031737], [-83.793808, 45.993399], [-83.7719, 46.091984], [-83.580208, 46.091984], [-83.476146, 45.987922], [-83.563777, 45.911245], [-84.111471, 45.976968], [-84.374364, 45.933153], [-84.659165, 46.053645], [-84.741319, 45.944106], [-84.70298, 45.850998], [-84.82895, 45.872906], [-85.015166, 46.00983], [-85.338305, 46.091984], [-85.502614, 46.097461], [-85.661445, 45.966014], [-85.924338, 45.933153], [-86.209139, 45.960537], [-86.324155, 45.905768], [-86.351539, 45.796229], [-86.663725, 45.703121], [-86.647294, 45.834568], [-86.784218, 45.861952], [-86.838987, 45.725029], [-87.069019, 45.719552], [-87.17308, 45.659305], [-87.326435, 45.423797], [-87.611236, 45.122565], [-87.589328, 45.095181]]], [[[-88.805209, 47.976051], [-89.057148, 47.850082], [-89.188594, 47.833651], [-89.177641, 47.937713], [-88.547792, 48.173221], [-88.668285, 48.008913], [-88.805209, 47.976051]]]], &quot;type&quot;: &quot;MultiPolygon&quot;}, &quot;id&quot;: &quot;MI&quot;, &quot;properties&quot;: {&quot;name&quot;: &quot;Michigan&quot;}, &quot;type&quot;: &quot;Feature&quot;}, {&quot;geometry&quot;: {&quot;coordinates&quot;: [[[-92.014696, 46.705401], [-92.091373, 46.749217], [-92.29402, 46.667063], [-92.29402, 46.075553], [-92.354266, 46.015307], [-92.639067, 45.933153], [-92.869098, 45.719552], [-92.885529, 45.577151], [-92.770513, 45.566198], [-92.644544, 45.440228], [-92.75956, 45.286874], [-92.737652, 45.117088], [-92.808852, 44.750133], [-92.545959, 44.569394], [-92.337835, 44.552964], [-92.233773, 44.443425], [-91.927065, 44.333886], [-91.877772, 44.202439], [-91.592971, 44.032654], [-91.43414, 43.994316], [-91.242447, 43.775238], [-91.269832, 43.616407], [-91.215062, 43.501391], [-91.368417, 43.501391], [-96.451017, 43.501391], [-96.451017, 45.297827], [-96.681049, 45.412843], [-96.856311, 45.604536], [-96.582464, 45.818137], [-96.560556, 45.933153], [-96.598895, 46.332969], [-96.719387, 46.437031], [-96.801542, 46.656109], [-96.785111, 46.924479], [-96.823449, 46.968294], [-96.856311, 47.609096], [-97.053481, 47.948667], [-97.130158, 48.140359], [-97.16302, 48.545653], [-97.097296, 48.682577], [-97.228743, 49.000239], [-95.152983, 49.000239], [-95.152983, 49.383625], [-94.955813, 49.372671], [-94.824366, 49.295994], [-94.69292, 48.775685], [-94.588858, 48.715438], [-94.260241, 48.699007], [-94.221903, 48.649715], [-93.838517, 48.627807], [-93.794701, 48.518268], [-93.466085, 48.545653], [-93.466085, 48.589469], [-93.208669, 48.644238], [-92.984114, 48.62233], [-92.726698, 48.540176], [-92.655498, 48.436114], [-92.50762, 48.447068], [-92.370697, 48.222514], [-92.304974, 48.315622], [-92.053034, 48.359437], [-92.009219, 48.266329], [-91.713464, 48.200606], [-91.713464, 48.112975], [-91.565587, 48.041775], [-91.264355, 48.080113], [-91.083616, 48.178698], [-90.837154, 48.238944], [-90.749522, 48.091067], [-90.579737, 48.123929], [-90.377091, 48.091067], [-90.141582, 48.112975], [-89.873212, 47.987005], [-89.615796, 48.008913], [-89.637704, 47.954144], [-89.971797, 47.828174], [-90.437337, 47.729589], [-90.738569, 47.625527], [-91.171247, 47.368111], [-91.357463, 47.20928], [-91.642264, 47.028541], [-92.091373, 46.787555], [-92.014696, 46.705401]]], &quot;type&quot;: &quot;Polygon&quot;}, &quot;id&quot;: &quot;MN&quot;, &quot;properties&quot;: {&quot;name&quot;: &quot;Minnesota&quot;}, &quot;type&quot;: &quot;Feature&quot;}, {&quot;geometry&quot;: {&quot;coordinates&quot;: [[[-88.471115, 34.995703], [-88.202745, 34.995703], [-88.098683, 34.891641], [-88.241084, 33.796253], [-88.471115, 31.895754], [-88.394438, 30.367688], [-88.503977, 30.323872], [-88.744962, 30.34578], [-88.843547, 30.411504], [-89.084533, 30.367688], [-89.418626, 30.252672], [-89.522688, 30.181472], [-89.643181, 30.285534], [-89.681519, 30.449842], [-89.845827, 30.66892], [-89.747242, 30.997536], [-91.636787, 30.997536], [-91.565587, 31.068736], [-91.636787, 31.265906], [-91.516294, 31.27686], [-91.499863, 31.643815], [-91.401278, 31.621907], [-91.341032, 31.846462], [-91.105524, 31.988862], [-90.985031, 32.218894], [-91.006939, 32.514649], [-91.154816, 32.640618], [-91.143862, 32.843265], [-91.072662, 32.887081], [-91.16577, 33.002096], [-91.089093, 33.13902], [-91.143862, 33.347144], [-91.056231, 33.429298], [-91.231493, 33.560744], [-91.072662, 33.867453], [-90.891923, 34.026284], [-90.952169, 34.135823], [-90.744046, 34.300131], [-90.749522, 34.365854], [-90.568783, 34.420624], [-90.585214, 34.617794], [-90.481152, 34.661609], [-90.409952, 34.831394], [-90.251121, 34.908072], [-90.311367, 34.995703], [-88.471115, 34.995703]]], &quot;type&quot;: &quot;Polygon&quot;}, &quot;id&quot;: &quot;MS&quot;, &quot;properties&quot;: {&quot;name&quot;: &quot;Mississippi&quot;}, &quot;type&quot;: &quot;Feature&quot;}, {&quot;geometry&quot;: {&quot;coordinates&quot;: [[[-91.833957, 40.609566], [-91.729895, 40.615043], [-91.527248, 40.412397], [-91.417709, 40.379535], [-91.50534, 40.237135], [-91.494386, 40.034488], [-91.368417, 39.727779], [-91.061708, 39.470363], [-90.727615, 39.256762], [-90.661891, 38.928146], [-90.585214, 38.867899], [-90.470199, 38.961007], [-90.251121, 38.917192], [-90.10872, 38.845992], [-90.207305, 38.725499], [-90.179921, 38.632391], [-90.349706, 38.374975], [-90.355183, 38.216144], [-90.059428, 38.013497], [-89.949889, 37.88205], [-89.84035, 37.903958], [-89.517211, 37.690357], [-89.517211, 37.537003], [-89.435057, 37.34531], [-89.517211, 37.279587], [-89.292656, 36.994786], [-89.133825, 36.983832], [-89.215979, 36.578538], [-89.363857, 36.622354], [-89.418626, 36.496384], [-89.484349, 36.496384], [-89.539119, 36.496384], [-89.533642, 36.249922], [-89.730812, 35.997983], [-90.377091, 35.997983], [-90.218259, 36.184199], [-90.064905, 36.304691], [-90.152536, 36.496384], [-94.473842, 36.501861], [-94.616242, 36.501861], [-94.616242, 37.000263], [-94.610765, 39.158177], [-94.824366, 39.20747], [-94.983197, 39.442978], [-95.109167, 39.541563], [-94.884612, 39.831841], [-95.207752, 39.908518], [-95.306337, 40.001626], [-95.552799, 40.264519], [-95.7664, 40.587659], [-94.632673, 40.571228], [-93.257961, 40.582182], [-91.833957, 40.609566]]], &quot;type&quot;: &quot;Polygon&quot;}, &quot;id&quot;: &quot;MO&quot;, &quot;properties&quot;: {&quot;name&quot;: &quot;Missouri&quot;}, &quot;type&quot;: &quot;Feature&quot;}, {&quot;geometry&quot;: {&quot;coordinates&quot;: [[[-104.047534, 49.000239], [-104.042057, 47.861036], [-104.047534, 45.944106], [-104.042057, 44.996596], [-104.058488, 44.996596], [-105.91517, 45.002073], [-109.080842, 45.002073], [-111.05254, 45.002073], [-111.047063, 44.476286], [-111.227803, 44.580348], [-111.386634, 44.75561], [-111.616665, 44.547487], [-111.819312, 44.509148], [-111.868605, 44.563917], [-112.104113, 44.520102], [-112.241036, 44.569394], [-112.471068, 44.481763], [-112.783254, 44.48724], [-112.887315, 44.394132], [-113.002331, 44.448902], [-113.133778, 44.772041], [-113.341901, 44.782995], [-113.456917, 44.865149], [-113.45144, 45.056842], [-113.571933, 45.128042], [-113.736241, 45.330689], [-113.834826, 45.522382], [-113.807441, 45.604536], [-113.98818, 45.703121], [-114.086765, 45.593582], [-114.333228, 45.456659], [-114.546828, 45.560721], [-114.497536, 45.670259], [-114.568736, 45.774321], [-114.387997, 45.88386], [-114.492059, 46.037214], [-114.464674, 46.272723], [-114.322274, 46.645155], [-114.612552, 46.639678], [-114.623506, 46.705401], [-114.886399, 46.809463], [-114.930214, 46.919002], [-115.302646, 47.187372], [-115.324554, 47.258572], [-115.527201, 47.302388], [-115.718894, 47.42288], [-115.724371, 47.696727], [-116.04751, 47.976051], [-116.04751, 49.000239], [-111.50165, 48.994762], [-109.453274, 49.000239], [-104.047534, 49.000239]]], &quot;type&quot;: &quot;Polygon&quot;}, &quot;id&quot;: &quot;MT&quot;, &quot;properties&quot;: {&quot;name&quot;: &quot;Montana&quot;}, &quot;type&quot;: &quot;Feature&quot;}, {&quot;geometry&quot;: {&quot;coordinates&quot;: [[[-103.324578, 43.002989], [-101.626726, 42.997512], [-98.499393, 42.997512], [-98.466531, 42.94822], [-97.951699, 42.767481], [-97.831206, 42.866066], [-97.688806, 42.844158], [-97.217789, 42.844158], [-96.692003, 42.657942], [-96.626279, 42.515542], [-96.44554, 42.488157], [-96.264801, 42.039048], [-96.127878, 41.973325], [-96.062155, 41.798063], [-96.122401, 41.67757], [-96.095016, 41.540646], [-95.919754, 41.453015], [-95.925231, 41.201076], [-95.826646, 40.976521], [-95.881416, 40.719105], [-95.7664, 40.587659], [-95.552799, 40.264519], [-95.306337, 40.001626], [-101.90605, 40.001626], [-102.053927, 40.001626], [-102.053927, 41.003906], [-104.053011, 41.003906], [-104.053011, 43.002989], [-103.324578, 43.002989]]], &quot;type&quot;: &quot;Polygon&quot;}, &quot;id&quot;: &quot;NE&quot;, &quot;properties&quot;: {&quot;name&quot;: &quot;Nebraska&quot;}, &quot;type&quot;: &quot;Feature&quot;}, {&quot;geometry&quot;: {&quot;coordinates&quot;: [[[-117.027882, 42.000709], [-114.04295, 41.995232], [-114.048427, 37.000263], [-114.048427, 36.195153], [-114.152489, 36.025367], [-114.251074, 36.01989], [-114.371566, 36.140383], [-114.738521, 36.102045], [-114.678275, 35.516012], [-114.596121, 35.324319], [-114.574213, 35.138103], [-114.634459, 35.00118], [-115.85034, 35.970598], [-116.540435, 36.501861], [-117.498899, 37.21934], [-118.71478, 38.101128], [-120.001861, 38.999346], [-119.996384, 40.264519], [-120.001861, 41.995232], [-118.698349, 41.989755], [-117.027882, 42.000709]]], &quot;type&quot;: &quot;Polygon&quot;}, &quot;id&quot;: &quot;NV&quot;, &quot;properties&quot;: {&quot;name&quot;: &quot;Nevada&quot;}, &quot;type&quot;: &quot;Feature&quot;}, {&quot;geometry&quot;: {&quot;coordinates&quot;: [[[-71.08183, 45.303304], [-71.032537, 44.657025], [-70.966814, 43.34256], [-70.807983, 43.227544], [-70.824413, 43.128959], [-70.703921, 43.057759], [-70.818936, 42.871543], [-70.917521, 42.887974], [-71.185891, 42.789389], [-71.29543, 42.696281], [-72.456542, 42.729142], [-72.544173, 42.80582], [-72.533219, 42.953697], [-72.445588, 43.008466], [-72.456542, 43.150867], [-72.379864, 43.572591], [-72.204602, 43.769761], [-72.116971, 43.994316], [-72.02934, 44.07647], [-72.034817, 44.322932], [-71.700724, 44.41604], [-71.536416, 44.585825], [-71.629524, 44.750133], [-71.4926, 44.914442], [-71.503554, 45.013027], [-71.361154, 45.270443], [-71.131122, 45.243058], [-71.08183, 45.303304]]], &quot;type&quot;: &quot;Polygon&quot;}, &quot;id&quot;: &quot;NH&quot;, &quot;properties&quot;: {&quot;name&quot;: &quot;New Hampshire&quot;}, &quot;type&quot;: &quot;Feature&quot;}, {&quot;geometry&quot;: {&quot;coordinates&quot;: [[[-74.236547, 41.14083], [-73.902454, 40.998429], [-74.022947, 40.708151], [-74.187255, 40.642428], [-74.274886, 40.489074], [-74.001039, 40.412397], [-73.979131, 40.297381], [-74.099624, 39.760641], [-74.411809, 39.360824], [-74.614456, 39.245808], [-74.795195, 38.993869], [-74.888303, 39.158177], [-75.178581, 39.240331], [-75.534582, 39.459409], [-75.55649, 39.607286], [-75.561967, 39.629194], [-75.507197, 39.683964], [-75.414089, 39.804456], [-75.145719, 39.88661], [-75.129289, 39.963288], [-74.82258, 40.127596], [-74.773287, 40.215227], [-75.058088, 40.417874], [-75.069042, 40.543843], [-75.195012, 40.576705], [-75.205966, 40.691721], [-75.052611, 40.866983], [-75.134765, 40.971045], [-74.882826, 41.179168], [-74.828057, 41.288707], [-74.69661, 41.359907], [-74.236547, 41.14083]]], &quot;type&quot;: &quot;Polygon&quot;}, &quot;id&quot;: &quot;NJ&quot;, &quot;properties&quot;: {&quot;name&quot;: &quot;New Jersey&quot;}, &quot;type&quot;: &quot;Feature&quot;}, {&quot;geometry&quot;: {&quot;coordinates&quot;: [[[-107.421329, 37.000263], [-106.868158, 36.994786], [-104.337812, 36.994786], [-103.001438, 37.000263], [-103.001438, 36.501861], [-103.039777, 36.501861], [-103.045254, 34.01533], [-103.067161, 33.002096], [-103.067161, 31.999816], [-106.616219, 31.999816], [-106.643603, 31.901231], [-106.528588, 31.786216], [-108.210008, 31.786216], [-108.210008, 31.331629], [-109.04798, 31.331629], [-109.042503, 37.000263], [-107.421329, 37.000263]]], &quot;type&quot;: &quot;Polygon&quot;}, &quot;id&quot;: &quot;NM&quot;, &quot;properties&quot;: {&quot;name&quot;: &quot;New Mexico&quot;}, &quot;type&quot;: &quot;Feature&quot;}, {&quot;geometry&quot;: {&quot;coordinates&quot;: [[[-73.343806, 45.013027], [-73.332852, 44.804903], [-73.387622, 44.618687], [-73.294514, 44.437948], [-73.321898, 44.246255], [-73.436914, 44.043608], [-73.349283, 43.769761], [-73.404052, 43.687607], [-73.245221, 43.523299], [-73.278083, 42.833204], [-73.267129, 42.745573], [-73.508114, 42.08834], [-73.486206, 42.050002], [-73.55193, 41.294184], [-73.48073, 41.21203], [-73.727192, 41.102491], [-73.655992, 40.987475], [-73.22879, 40.905321], [-73.141159, 40.965568], [-72.774204, 40.965568], [-72.587988, 40.998429], [-72.28128, 41.157261], [-72.259372, 41.042245], [-72.100541, 40.992952], [-72.467496, 40.845075], [-73.239744, 40.625997], [-73.562884, 40.582182], [-73.776484, 40.593136], [-73.935316, 40.543843], [-74.022947, 40.708151], [-73.902454, 40.998429], [-74.236547, 41.14083], [-74.69661, 41.359907], [-74.740426, 41.431108], [-74.89378, 41.436584], [-75.074519, 41.60637], [-75.052611, 41.754247], [-75.173104, 41.869263], [-75.249781, 41.863786], [-75.35932, 42.000709], [-79.76278, 42.000709], [-79.76278, 42.252649], [-79.76278, 42.269079], [-79.149363, 42.55388], [-79.050778, 42.690804], [-78.853608, 42.783912], [-78.930285, 42.953697], [-79.012439, 42.986559], [-79.072686, 43.260406], [-78.486653, 43.375421], [-77.966344, 43.369944], [-77.75822, 43.34256], [-77.533665, 43.233021], [-77.391265, 43.276836], [-76.958587, 43.271359], [-76.695693, 43.34256], [-76.41637, 43.523299], [-76.235631, 43.528776], [-76.230154, 43.802623], [-76.137046, 43.961454], [-76.3616, 44.070993], [-76.312308, 44.196962], [-75.912491, 44.366748], [-75.764614, 44.514625], [-75.282643, 44.848718], [-74.828057, 45.018503], [-74.148916, 44.991119], [-73.343806, 45.013027]]], &quot;type&quot;: &quot;Polygon&quot;}, &quot;id&quot;: &quot;NY&quot;, &quot;properties&quot;: {&quot;name&quot;: &quot;New York&quot;}, &quot;type&quot;: &quot;Feature&quot;}, {&quot;geometry&quot;: {&quot;coordinates&quot;: [[[-80.978661, 36.562108], [-80.294043, 36.545677], [-79.510841, 36.5402], [-75.868676, 36.551154], [-75.75366, 36.151337], [-76.032984, 36.189676], [-76.071322, 36.140383], [-76.410893, 36.080137], [-76.460185, 36.025367], [-76.68474, 36.008937], [-76.673786, 35.937736], [-76.399939, 35.987029], [-76.3616, 35.943213], [-76.060368, 35.992506], [-75.961783, 35.899398], [-75.781044, 35.937736], [-75.715321, 35.696751], [-75.775568, 35.581735], [-75.89606, 35.570781], [-76.147999, 35.324319], [-76.482093, 35.313365], [-76.536862, 35.14358], [-76.394462, 34.973795], [-76.279446, 34.940933], [-76.493047, 34.661609], [-76.673786, 34.694471], [-76.991448, 34.667086], [-77.210526, 34.60684], [-77.555573, 34.415147], [-77.82942, 34.163208], [-77.971821, 33.845545], [-78.179944, 33.916745], [-78.541422, 33.851022], [-79.675149, 34.80401], [-80.797922, 34.820441], [-80.781491, 34.935456], [-80.934845, 35.105241], [-81.038907, 35.044995], [-81.044384, 35.149057], [-82.276696, 35.198349], [-82.550543, 35.160011], [-82.764143, 35.066903], [-83.109191, 35.00118], [-83.618546, 34.984749], [-84.319594, 34.990226], [-84.29221, 35.225734], [-84.09504, 35.247642], [-84.018363, 35.41195], [-83.7719, 35.559827], [-83.498053, 35.565304], [-83.251591, 35.718659], [-82.994175, 35.773428], [-82.775097, 35.997983], [-82.638174, 36.063706], [-82.610789, 35.965121], [-82.216449, 36.156814], [-82.03571, 36.118475], [-81.909741, 36.304691], [-81.723525, 36.353984], [-81.679709, 36.589492], [-80.978661, 36.562108]]], &quot;type&quot;: &quot;Polygon&quot;}, &quot;id&quot;: &quot;NC&quot;, &quot;properties&quot;: {&quot;name&quot;: &quot;North Carolina&quot;}, &quot;type&quot;: &quot;Feature&quot;}, {&quot;geometry&quot;: {&quot;coordinates&quot;: [[[-97.228743, 49.000239], [-97.097296, 48.682577], [-97.16302, 48.545653], [-97.130158, 48.140359], [-97.053481, 47.948667], [-96.856311, 47.609096], [-96.823449, 46.968294], [-96.785111, 46.924479], [-96.801542, 46.656109], [-96.719387, 46.437031], [-96.598895, 46.332969], [-96.560556, 45.933153], [-104.047534, 45.944106], [-104.042057, 47.861036], [-104.047534, 49.000239], [-97.228743, 49.000239]]], &quot;type&quot;: &quot;Polygon&quot;}, &quot;id&quot;: &quot;ND&quot;, &quot;properties&quot;: {&quot;name&quot;: &quot;North Dakota&quot;}, &quot;type&quot;: &quot;Feature&quot;}, {&quot;geometry&quot;: {&quot;coordinates&quot;: [[[-80.518598, 41.978802], [-80.518598, 40.636951], [-80.666475, 40.582182], [-80.595275, 40.472643], [-80.600752, 40.319289], [-80.737675, 40.078303], [-80.830783, 39.711348], [-81.219646, 39.388209], [-81.345616, 39.344393], [-81.455155, 39.410117], [-81.57017, 39.267716], [-81.685186, 39.273193], [-81.811156, 39.0815], [-81.783771, 38.966484], [-81.887833, 38.873376], [-82.03571, 39.026731], [-82.221926, 38.785745], [-82.172634, 38.632391], [-82.293127, 38.577622], [-82.331465, 38.446175], [-82.594358, 38.424267], [-82.731282, 38.561191], [-82.846298, 38.588575], [-82.890113, 38.758361], [-83.032514, 38.725499], [-83.142052, 38.626914], [-83.519961, 38.703591], [-83.678792, 38.632391], [-83.903347, 38.769315], [-84.215533, 38.807653], [-84.231963, 38.895284], [-84.43461, 39.103408], [-84.817996, 39.103408], [-84.801565, 40.500028], [-84.807042, 41.694001], [-83.454238, 41.732339], [-83.065375, 41.595416], [-82.933929, 41.513262], [-82.835344, 41.589939], [-82.616266, 41.431108], [-82.479343, 41.381815], [-82.013803, 41.513262], [-81.739956, 41.485877], [-81.444201, 41.672093], [-81.011523, 41.852832], [-80.518598, 41.978802], [-80.518598, 41.978802]]], &quot;type&quot;: &quot;Polygon&quot;}, &quot;id&quot;: &quot;OH&quot;, &quot;properties&quot;: {&quot;name&quot;: &quot;Ohio&quot;}, &quot;type&quot;: &quot;Feature&quot;}, {&quot;geometry&quot;: {&quot;coordinates&quot;: [[[-100.087706, 37.000263], [-94.616242, 37.000263], [-94.616242, 36.501861], [-94.430026, 35.395519], [-94.484796, 33.637421], [-94.868182, 33.74696], [-94.966767, 33.861976], [-95.224183, 33.960561], [-95.289906, 33.87293], [-95.547322, 33.878407], [-95.602092, 33.933176], [-95.8376, 33.834591], [-95.936185, 33.889361], [-96.149786, 33.840068], [-96.346956, 33.686714], [-96.423633, 33.774345], [-96.631756, 33.845545], [-96.850834, 33.845545], [-96.922034, 33.960561], [-97.173974, 33.736006], [-97.256128, 33.861976], [-97.371143, 33.823637], [-97.458774, 33.905791], [-97.694283, 33.982469], [-97.869545, 33.851022], [-97.946222, 33.987946], [-98.088623, 34.004376], [-98.170777, 34.113915], [-98.36247, 34.157731], [-98.488439, 34.064623], [-98.570593, 34.146777], [-98.767763, 34.135823], [-98.986841, 34.223454], [-99.189488, 34.2125], [-99.260688, 34.404193], [-99.57835, 34.415147], [-99.698843, 34.382285], [-99.923398, 34.573978], [-100.000075, 34.563024], [-100.000075, 36.501861], [-101.812942, 36.501861], [-103.001438, 36.501861], [-103.001438, 37.000263], [-102.042974, 36.994786], [-100.087706, 37.000263]]], &quot;type&quot;: &quot;Polygon&quot;}, &quot;id&quot;: &quot;OK&quot;, &quot;properties&quot;: {&quot;name&quot;: &quot;Oklahoma&quot;}, &quot;type&quot;: &quot;Feature&quot;}, {&quot;geometry&quot;: {&quot;coordinates&quot;: [[[-123.211348, 46.174138], [-123.11824, 46.185092], [-122.904639, 46.08103], [-122.811531, 45.960537], [-122.762239, 45.659305], [-122.247407, 45.549767], [-121.809251, 45.708598], [-121.535404, 45.725029], [-121.217742, 45.670259], [-121.18488, 45.604536], [-120.637186, 45.746937], [-120.505739, 45.697644], [-120.209985, 45.725029], [-119.963522, 45.823614], [-119.525367, 45.911245], [-119.125551, 45.933153], [-118.988627, 45.998876], [-116.918344, 45.993399], [-116.78142, 45.823614], [-116.545912, 45.752413], [-116.463758, 45.61549], [-116.671881, 45.319735], [-116.732128, 45.144473], [-116.847143, 45.02398], [-116.830713, 44.930872], [-116.934774, 44.782995], [-117.038836, 44.750133], [-117.241483, 44.394132], [-117.170283, 44.257209], [-116.97859, 44.240778], [-116.896436, 44.158624], [-117.027882, 43.830007], [-117.027882, 42.000709], [-118.698349, 41.989755], [-120.001861, 41.995232], [-121.037003, 41.995232], [-122.378853, 42.011663], [-123.233256, 42.006186], [-124.213628, 42.000709], [-124.356029, 42.115725], [-124.432706, 42.438865], [-124.416275, 42.663419], [-124.553198, 42.838681], [-124.454613, 43.002989], [-124.383413, 43.271359], [-124.235536, 43.55616], [-124.169813, 43.8081], [-124.060274, 44.657025], [-124.076705, 44.772041], [-123.97812, 45.144473], [-123.939781, 45.659305], [-123.994551, 45.944106], [-123.945258, 46.113892], [-123.545441, 46.261769], [-123.370179, 46.146753], [-123.211348, 46.174138]]], &quot;type&quot;: &quot;Polygon&quot;}, &quot;id&quot;: &quot;OR&quot;, &quot;properties&quot;: {&quot;name&quot;: &quot;Oregon&quot;}, &quot;type&quot;: &quot;Feature&quot;}, {&quot;geometry&quot;: {&quot;coordinates&quot;: [[[-79.76278, 42.252649], [-79.76278, 42.000709], [-75.35932, 42.000709], [-75.249781, 41.863786], [-75.173104, 41.869263], [-75.052611, 41.754247], [-75.074519, 41.60637], [-74.89378, 41.436584], [-74.740426, 41.431108], [-74.69661, 41.359907], [-74.828057, 41.288707], [-74.882826, 41.179168], [-75.134765, 40.971045], [-75.052611, 40.866983], [-75.205966, 40.691721], [-75.195012, 40.576705], [-75.069042, 40.543843], [-75.058088, 40.417874], [-74.773287, 40.215227], [-74.82258, 40.127596], [-75.129289, 39.963288], [-75.145719, 39.88661], [-75.414089, 39.804456], [-75.616736, 39.831841], [-75.786521, 39.722302], [-79.477979, 39.722302], [-80.518598, 39.722302], [-80.518598, 40.636951], [-80.518598, 41.978802], [-80.518598, 41.978802], [-80.332382, 42.033571], [-79.76278, 42.269079], [-79.76278, 42.252649]]], &quot;type&quot;: &quot;Polygon&quot;}, &quot;id&quot;: &quot;PA&quot;, &quot;properties&quot;: {&quot;name&quot;: &quot;Pennsylvania&quot;}, &quot;type&quot;: &quot;Feature&quot;}, {&quot;geometry&quot;: {&quot;coordinates&quot;: [[[[-71.196845, 41.67757], [-71.120168, 41.496831], [-71.317338, 41.474923], [-71.196845, 41.67757]]], [[[-71.530939, 42.01714], [-71.383061, 42.01714], [-71.328292, 41.781632], [-71.22423, 41.710431], [-71.344723, 41.726862], [-71.448785, 41.578985], [-71.481646, 41.370861], [-71.859555, 41.321569], [-71.799309, 41.414677], [-71.799309, 42.006186], [-71.530939, 42.01714]]]], &quot;type&quot;: &quot;MultiPolygon&quot;}, &quot;id&quot;: &quot;RI&quot;, &quot;properties&quot;: {&quot;name&quot;: &quot;Rhode Island&quot;}, &quot;type&quot;: &quot;Feature&quot;}, {&quot;geometry&quot;: {&quot;coordinates&quot;: [[[-82.764143, 35.066903], [-82.550543, 35.160011], [-82.276696, 35.198349], [-81.044384, 35.149057], [-81.038907, 35.044995], [-80.934845, 35.105241], [-80.781491, 34.935456], [-80.797922, 34.820441], [-79.675149, 34.80401], [-78.541422, 33.851022], [-78.716684, 33.80173], [-78.935762, 33.637421], [-79.149363, 33.380005], [-79.187701, 33.171881], [-79.357487, 33.007573], [-79.582041, 33.007573], [-79.631334, 32.887081], [-79.866842, 32.755634], [-79.998289, 32.613234], [-80.206412, 32.552987], [-80.430967, 32.399633], [-80.452875, 32.328433], [-80.660998, 32.246279], [-80.885553, 32.032678], [-81.115584, 32.120309], [-81.121061, 32.290094], [-81.279893, 32.558464], [-81.416816, 32.629664], [-81.42777, 32.843265], [-81.493493, 33.007573], [-81.761863, 33.160928], [-81.937125, 33.347144], [-81.926172, 33.462159], [-82.194542, 33.631944], [-82.325988, 33.81816], [-82.55602, 33.94413], [-82.714851, 34.152254], [-82.747713, 34.26727], [-82.901067, 34.486347], [-83.005129, 34.469916], [-83.339222, 34.683517], [-83.322791, 34.787579], [-83.109191, 35.00118], [-82.764143, 35.066903]]], &quot;type&quot;: &quot;Polygon&quot;}, &quot;id&quot;: &quot;SC&quot;, &quot;properties&quot;: {&quot;name&quot;: &quot;South Carolina&quot;}, &quot;type&quot;: &quot;Feature&quot;}, {&quot;geometry&quot;: {&quot;coordinates&quot;: [[[-104.047534, 45.944106], [-96.560556, 45.933153], [-96.582464, 45.818137], [-96.856311, 45.604536], [-96.681049, 45.412843], [-96.451017, 45.297827], [-96.451017, 43.501391], [-96.582464, 43.479483], [-96.527695, 43.397329], [-96.560556, 43.222067], [-96.434587, 43.123482], [-96.511264, 43.052282], [-96.544125, 42.855112], [-96.631756, 42.707235], [-96.44554, 42.488157], [-96.626279, 42.515542], [-96.692003, 42.657942], [-97.217789, 42.844158], [-97.688806, 42.844158], [-97.831206, 42.866066], [-97.951699, 42.767481], [-98.466531, 42.94822], [-98.499393, 42.997512], [-101.626726, 42.997512], [-103.324578, 43.002989], [-104.053011, 43.002989], [-104.058488, 44.996596], [-104.042057, 44.996596], [-104.047534, 45.944106]]], &quot;type&quot;: &quot;Polygon&quot;}, &quot;id&quot;: &quot;SD&quot;, &quot;properties&quot;: {&quot;name&quot;: &quot;South Dakota&quot;}, &quot;type&quot;: &quot;Feature&quot;}, {&quot;geometry&quot;: {&quot;coordinates&quot;: [[[-88.054868, 36.496384], [-88.071299, 36.677123], [-87.852221, 36.633308], [-86.592525, 36.655216], [-85.486183, 36.616877], [-85.289013, 36.627831], [-84.544149, 36.594969], [-83.689746, 36.584015], [-83.673316, 36.600446], [-81.679709, 36.589492], [-81.723525, 36.353984], [-81.909741, 36.304691], [-82.03571, 36.118475], [-82.216449, 36.156814], [-82.610789, 35.965121], [-82.638174, 36.063706], [-82.775097, 35.997983], [-82.994175, 35.773428], [-83.251591, 35.718659], [-83.498053, 35.565304], [-83.7719, 35.559827], [-84.018363, 35.41195], [-84.09504, 35.247642], [-84.29221, 35.225734], [-84.319594, 34.990226], [-85.606675, 34.984749], [-87.359296, 35.00118], [-88.202745, 34.995703], [-88.471115, 34.995703], [-90.311367, 34.995703], [-90.212782, 35.023087], [-90.114197, 35.198349], [-90.130628, 35.439335], [-89.944412, 35.603643], [-89.911551, 35.756997], [-89.763673, 35.811767], [-89.730812, 35.997983], [-89.533642, 36.249922], [-89.539119, 36.496384], [-89.484349, 36.496384], [-89.418626, 36.496384], [-89.298133, 36.507338], [-88.054868, 36.496384]]], &quot;type&quot;: &quot;Polygon&quot;}, &quot;id&quot;: &quot;TN&quot;, &quot;properties&quot;: {&quot;name&quot;: &quot;Tennessee&quot;}, &quot;type&quot;: &quot;Feature&quot;}, {&quot;geometry&quot;: {&quot;coordinates&quot;: [[[-101.812942, 36.501861], [-100.000075, 36.501861], [-100.000075, 34.563024], [-99.923398, 34.573978], [-99.698843, 34.382285], [-99.57835, 34.415147], [-99.260688, 34.404193], [-99.189488, 34.2125], [-98.986841, 34.223454], [-98.767763, 34.135823], [-98.570593, 34.146777], [-98.488439, 34.064623], [-98.36247, 34.157731], [-98.170777, 34.113915], [-98.088623, 34.004376], [-97.946222, 33.987946], [-97.869545, 33.851022], [-97.694283, 33.982469], [-97.458774, 33.905791], [-97.371143, 33.823637], [-97.256128, 33.861976], [-97.173974, 33.736006], [-96.922034, 33.960561], [-96.850834, 33.845545], [-96.631756, 33.845545], [-96.423633, 33.774345], [-96.346956, 33.686714], [-96.149786, 33.840068], [-95.936185, 33.889361], [-95.8376, 33.834591], [-95.602092, 33.933176], [-95.547322, 33.878407], [-95.289906, 33.87293], [-95.224183, 33.960561], [-94.966767, 33.861976], [-94.868182, 33.74696], [-94.484796, 33.637421], [-94.380734, 33.544313], [-94.183564, 33.593606], [-94.041164, 33.54979], [-94.041164, 33.018527], [-94.041164, 31.994339], [-93.822086, 31.775262], [-93.816609, 31.556184], [-93.542762, 31.15089], [-93.526331, 30.93729], [-93.630393, 30.679874], [-93.728978, 30.575812], [-93.696116, 30.438888], [-93.767317, 30.334826], [-93.690639, 30.143133], [-93.926148, 29.787132], [-93.838517, 29.688547], [-94.002825, 29.68307], [-94.523134, 29.546147], [-94.70935, 29.622824], [-94.742212, 29.787132], [-94.873659, 29.672117], [-94.966767, 29.699501], [-95.016059, 29.557101], [-94.911997, 29.496854], [-94.895566, 29.310638], [-95.081782, 29.113469], [-95.383014, 28.867006], [-95.985477, 28.604113], [-96.045724, 28.647929], [-96.226463, 28.582205], [-96.23194, 28.642452], [-96.478402, 28.598636], [-96.593418, 28.724606], [-96.664618, 28.697221], [-96.401725, 28.439805], [-96.593418, 28.357651], [-96.774157, 28.406943], [-96.801542, 28.226204], [-97.026096, 28.039988], [-97.256128, 27.694941], [-97.404005, 27.333463], [-97.513544, 27.360848], [-97.540929, 27.229401], [-97.425913, 27.262263], [-97.480682, 26.99937], [-97.557359, 26.988416], [-97.562836, 26.840538], [-97.469728, 26.758384], [-97.442344, 26.457153], [-97.332805, 26.353091], [-97.30542, 26.161398], [-97.217789, 25.991613], [-97.524498, 25.887551], [-97.650467, 26.018997], [-97.885976, 26.06829], [-98.198161, 26.057336], [-98.466531, 26.221644], [-98.669178, 26.238075], [-98.822533, 26.369522], [-99.030656, 26.413337], [-99.173057, 26.539307], [-99.266165, 26.840538], [-99.446904, 27.021277], [-99.424996, 27.174632], [-99.50715, 27.33894], [-99.479765, 27.48134], [-99.605735, 27.640172], [-99.709797, 27.656603], [-99.879582, 27.799003], [-99.934351, 27.979742], [-100.082229, 28.14405], [-100.29583, 28.280974], [-100.399891, 28.582205], [-100.498476, 28.66436], [-100.629923, 28.905345], [-100.673738, 29.102515], [-100.799708, 29.244915], [-101.013309, 29.370885], [-101.062601, 29.458516], [-101.259771, 29.535193], [-101.413125, 29.754271], [-101.851281, 29.803563], [-102.114174, 29.792609], [-102.338728, 29.869286], [-102.388021, 29.765225], [-102.629006, 29.732363], [-102.809745, 29.524239], [-102.919284, 29.190146], [-102.97953, 29.184669], [-103.116454, 28.987499], [-103.280762, 28.982022], [-103.527224, 29.135376], [-104.146119, 29.381839], [-104.266611, 29.513285], [-104.507597, 29.639255], [-104.677382, 29.924056], [-104.688336, 30.181472], [-104.858121, 30.389596], [-104.896459, 30.570335], [-105.005998, 30.685351], [-105.394861, 30.855136], [-105.602985, 31.085167], [-105.77277, 31.167321], [-105.953509, 31.364491], [-106.205448, 31.468553], [-106.38071, 31.731446], [-106.528588, 31.786216], [-106.643603, 31.901231], [-106.616219, 31.999816], [-103.067161, 31.999816], [-103.067161, 33.002096], [-103.045254, 34.01533], [-103.039777, 36.501861], [-103.001438, 36.501861], [-101.812942, 36.501861]]], &quot;type&quot;: &quot;Polygon&quot;}, &quot;id&quot;: &quot;TX&quot;, &quot;properties&quot;: {&quot;name&quot;: &quot;Texas&quot;}, &quot;type&quot;: &quot;Feature&quot;}, {&quot;geometry&quot;: {&quot;coordinates&quot;: [[[-112.164359, 41.995232], [-111.047063, 42.000709], [-111.047063, 40.998429], [-109.04798, 40.998429], [-109.053457, 39.125316], [-109.058934, 38.27639], [-109.042503, 38.166851], [-109.042503, 37.000263], [-110.499369, 37.00574], [-114.048427, 37.000263], [-114.04295, 41.995232], [-112.164359, 41.995232]]], &quot;type&quot;: &quot;Polygon&quot;}, &quot;id&quot;: &quot;UT&quot;, &quot;properties&quot;: {&quot;name&quot;: &quot;Utah&quot;}, &quot;type&quot;: &quot;Feature&quot;}, {&quot;geometry&quot;: {&quot;coordinates&quot;: [[[-71.503554, 45.013027], [-71.4926, 44.914442], [-71.629524, 44.750133], [-71.536416, 44.585825], [-71.700724, 44.41604], [-72.034817, 44.322932], [-72.02934, 44.07647], [-72.116971, 43.994316], [-72.204602, 43.769761], [-72.379864, 43.572591], [-72.456542, 43.150867], [-72.445588, 43.008466], [-72.533219, 42.953697], [-72.544173, 42.80582], [-72.456542, 42.729142], [-73.267129, 42.745573], [-73.278083, 42.833204], [-73.245221, 43.523299], [-73.404052, 43.687607], [-73.349283, 43.769761], [-73.436914, 44.043608], [-73.321898, 44.246255], [-73.294514, 44.437948], [-73.387622, 44.618687], [-73.332852, 44.804903], [-73.343806, 45.013027], [-72.308664, 45.002073], [-71.503554, 45.013027]]], &quot;type&quot;: &quot;Polygon&quot;}, &quot;id&quot;: &quot;VT&quot;, &quot;properties&quot;: {&quot;name&quot;: &quot;Vermont&quot;}, &quot;type&quot;: &quot;Feature&quot;}, {&quot;geometry&quot;: {&quot;coordinates&quot;: [[[[-75.397659, 38.013497], [-75.244304, 38.029928], [-75.375751, 37.860142], [-75.512674, 37.799896], [-75.594828, 37.569865], [-75.802952, 37.197433], [-75.972737, 37.120755], [-76.027507, 37.257679], [-75.939876, 37.564388], [-75.671506, 37.95325], [-75.397659, 38.013497]]], [[[-76.016553, 37.95325], [-75.994645, 37.95325], [-76.043938, 37.95325], [-76.016553, 37.95325]]], [[[-78.349729, 39.464886], [-77.82942, 39.130793], [-77.719881, 39.322485], [-77.566527, 39.306055], [-77.456988, 39.223901], [-77.456988, 39.076023], [-77.248864, 39.026731], [-77.117418, 38.933623], [-77.040741, 38.791222], [-77.128372, 38.632391], [-77.248864, 38.588575], [-77.325542, 38.446175], [-77.281726, 38.342113], [-77.013356, 38.374975], [-76.964064, 38.216144], [-76.613539, 38.15042], [-76.514954, 38.024451], [-76.235631, 37.887527], [-76.3616, 37.608203], [-76.246584, 37.389126], [-76.383508, 37.285064], [-76.399939, 37.159094], [-76.273969, 37.082417], [-76.410893, 36.961924], [-76.619016, 37.120755], [-76.668309, 37.065986], [-76.48757, 36.95097], [-75.994645, 36.923586], [-75.868676, 36.551154], [-79.510841, 36.5402], [-80.294043, 36.545677], [-80.978661, 36.562108], [-81.679709, 36.589492], [-83.673316, 36.600446], [-83.136575, 36.742847], [-83.070852, 36.852385], [-82.879159, 36.890724], [-82.868205, 36.978355], [-82.720328, 37.044078], [-82.720328, 37.120755], [-82.353373, 37.268633], [-81.969987, 37.537003], [-81.986418, 37.454849], [-81.849494, 37.285064], [-81.679709, 37.20291], [-81.55374, 37.208387], [-81.362047, 37.339833], [-81.225123, 37.235771], [-80.967707, 37.290541], [-80.513121, 37.482234], [-80.474782, 37.421987], [-80.29952, 37.509618], [-80.294043, 37.690357], [-80.184505, 37.849189], [-79.998289, 37.997066], [-79.921611, 38.177805], [-79.724442, 38.364021], [-79.647764, 38.594052], [-79.477979, 38.457129], [-79.313671, 38.413313], [-79.209609, 38.495467], [-78.996008, 38.851469], [-78.870039, 38.763838], [-78.404499, 39.169131], [-78.349729, 39.464886]]]], &quot;type&quot;: &quot;MultiPolygon&quot;}, &quot;id&quot;: &quot;VA&quot;, &quot;properties&quot;: {&quot;name&quot;: &quot;Virginia&quot;}, &quot;type&quot;: &quot;Feature&quot;}, {&quot;geometry&quot;: {&quot;coordinates&quot;: [[[[-117.033359, 49.000239], [-117.044313, 47.762451], [-117.038836, 46.426077], [-117.055267, 46.343923], [-116.92382, 46.168661], [-116.918344, 45.993399], [-118.988627, 45.998876], [-119.125551, 45.933153], [-119.525367, 45.911245], [-119.963522, 45.823614], [-120.209985, 45.725029], [-120.505739, 45.697644], [-120.637186, 45.746937], [-121.18488, 45.604536], [-121.217742, 45.670259], [-121.535404, 45.725029], [-121.809251, 45.708598], [-122.247407, 45.549767], [-122.762239, 45.659305], [-122.811531, 45.960537], [-122.904639, 46.08103], [-123.11824, 46.185092], [-123.211348, 46.174138], [-123.370179, 46.146753], [-123.545441, 46.261769], [-123.72618, 46.300108], [-123.874058, 46.239861], [-124.065751, 46.327492], [-124.027412, 46.464416], [-123.895966, 46.535616], [-124.098612, 46.74374], [-124.235536, 47.285957], [-124.31769, 47.357157], [-124.427229, 47.740543], [-124.624399, 47.88842], [-124.706553, 48.184175], [-124.597014, 48.381345], [-124.394367, 48.288237], [-123.983597, 48.162267], [-123.704273, 48.167744], [-123.424949, 48.118452], [-123.162056, 48.167744], [-123.036086, 48.080113], [-122.800578, 48.08559], [-122.636269, 47.866512], [-122.515777, 47.882943], [-122.493869, 47.587189], [-122.422669, 47.318818], [-122.324084, 47.346203], [-122.422669, 47.576235], [-122.395284, 47.800789], [-122.230976, 48.030821], [-122.362422, 48.123929], [-122.373376, 48.288237], [-122.471961, 48.468976], [-122.422669, 48.600422], [-122.488392, 48.753777], [-122.647223, 48.775685], [-122.795101, 48.8907], [-122.756762, 49.000239], [-117.033359, 49.000239]]], [[[-122.718423, 48.310145], [-122.586977, 48.35396], [-122.608885, 48.151313], [-122.767716, 48.227991], [-122.718423, 48.310145]]], [[[-123.025132, 48.583992], [-122.915593, 48.715438], [-122.767716, 48.556607], [-122.811531, 48.419683], [-123.041563, 48.458022], [-123.025132, 48.583992]]]], &quot;type&quot;: &quot;MultiPolygon&quot;}, &quot;id&quot;: &quot;WA&quot;, &quot;properties&quot;: {&quot;name&quot;: &quot;Washington&quot;}, &quot;type&quot;: &quot;Feature&quot;}, {&quot;geometry&quot;: {&quot;coordinates&quot;: [[[-80.518598, 40.636951], [-80.518598, 39.722302], [-79.477979, 39.722302], [-79.488933, 39.20747], [-79.291763, 39.300578], [-79.094593, 39.470363], [-78.963147, 39.437501], [-78.765977, 39.585379], [-78.470222, 39.514178], [-78.431884, 39.623717], [-78.267575, 39.61824], [-78.174467, 39.694917], [-78.004682, 39.601809], [-77.834897, 39.601809], [-77.719881, 39.322485], [-77.82942, 39.130793], [-78.349729, 39.464886], [-78.404499, 39.169131], [-78.870039, 38.763838], [-78.996008, 38.851469], [-79.209609, 38.495467], [-79.313671, 38.413313], [-79.477979, 38.457129], [-79.647764, 38.594052], [-79.724442, 38.364021], [-79.921611, 38.177805], [-79.998289, 37.997066], [-80.184505, 37.849189], [-80.294043, 37.690357], [-80.29952, 37.509618], [-80.474782, 37.421987], [-80.513121, 37.482234], [-80.967707, 37.290541], [-81.225123, 37.235771], [-81.362047, 37.339833], [-81.55374, 37.208387], [-81.679709, 37.20291], [-81.849494, 37.285064], [-81.986418, 37.454849], [-81.969987, 37.537003], [-82.101434, 37.553434], [-82.293127, 37.668449], [-82.342419, 37.783465], [-82.50125, 37.931343], [-82.621743, 38.123036], [-82.594358, 38.424267], [-82.331465, 38.446175], [-82.293127, 38.577622], [-82.172634, 38.632391], [-82.221926, 38.785745], [-82.03571, 39.026731], [-81.887833, 38.873376], [-81.783771, 38.966484], [-81.811156, 39.0815], [-81.685186, 39.273193], [-81.57017, 39.267716], [-81.455155, 39.410117], [-81.345616, 39.344393], [-81.219646, 39.388209], [-80.830783, 39.711348], [-80.737675, 40.078303], [-80.600752, 40.319289], [-80.595275, 40.472643], [-80.666475, 40.582182], [-80.518598, 40.636951]]], &quot;type&quot;: &quot;Polygon&quot;}, &quot;id&quot;: &quot;WV&quot;, &quot;properties&quot;: {&quot;name&quot;: &quot;West Virginia&quot;}, &quot;type&quot;: &quot;Feature&quot;}, {&quot;geometry&quot;: {&quot;coordinates&quot;: [[[-90.415429, 46.568478], [-90.229213, 46.508231], [-90.119674, 46.338446], [-89.09001, 46.135799], [-88.662808, 45.987922], [-88.531362, 46.020784], [-88.10416, 45.922199], [-87.989145, 45.796229], [-87.781021, 45.675736], [-87.791975, 45.500474], [-87.885083, 45.363551], [-87.649574, 45.341643], [-87.742682, 45.199243], [-87.589328, 45.095181], [-87.627666, 44.974688], [-87.819359, 44.95278], [-87.983668, 44.722749], [-88.043914, 44.563917], [-87.928898, 44.536533], [-87.775544, 44.640595], [-87.611236, 44.837764], [-87.403112, 44.914442], [-87.238804, 45.166381], [-87.03068, 45.22115], [-87.047111, 45.089704], [-87.189511, 44.969211], [-87.468835, 44.552964], [-87.545512, 44.322932], [-87.540035, 44.158624], [-87.644097, 44.103854], [-87.737205, 43.8793], [-87.704344, 43.687607], [-87.791975, 43.561637], [-87.912467, 43.249452], [-87.885083, 43.002989], [-87.76459, 42.783912], [-87.802929, 42.493634], [-88.788778, 42.493634], [-90.639984, 42.510065], [-90.711184, 42.636034], [-91.067185, 42.75105], [-91.143862, 42.909881], [-91.176724, 43.134436], [-91.056231, 43.254929], [-91.204109, 43.353514], [-91.215062, 43.501391], [-91.269832, 43.616407], [-91.242447, 43.775238], [-91.43414, 43.994316], [-91.592971, 44.032654], [-91.877772, 44.202439], [-91.927065, 44.333886], [-92.233773, 44.443425], [-92.337835, 44.552964], [-92.545959, 44.569394], [-92.808852, 44.750133], [-92.737652, 45.117088], [-92.75956, 45.286874], [-92.644544, 45.440228], [-92.770513, 45.566198], [-92.885529, 45.577151], [-92.869098, 45.719552], [-92.639067, 45.933153], [-92.354266, 46.015307], [-92.29402, 46.075553], [-92.29402, 46.667063], [-92.091373, 46.749217], [-92.014696, 46.705401], [-91.790141, 46.694447], [-91.09457, 46.864232], [-90.837154, 46.95734], [-90.749522, 46.88614], [-90.886446, 46.754694], [-90.55783, 46.584908], [-90.415429, 46.568478]]], &quot;type&quot;: &quot;Polygon&quot;}, &quot;id&quot;: &quot;WI&quot;, &quot;properties&quot;: {&quot;name&quot;: &quot;Wisconsin&quot;}, &quot;type&quot;: &quot;Feature&quot;}, {&quot;geometry&quot;: {&quot;coordinates&quot;: [[[-109.080842, 45.002073], [-105.91517, 45.002073], [-104.058488, 44.996596], [-104.053011, 43.002989], [-104.053011, 41.003906], [-105.728954, 40.998429], [-107.919731, 41.003906], [-109.04798, 40.998429], [-111.047063, 40.998429], [-111.047063, 42.000709], [-111.047063, 44.476286], [-111.05254, 45.002073], [-109.080842, 45.002073]]], &quot;type&quot;: &quot;Polygon&quot;}, &quot;id&quot;: &quot;WY&quot;, &quot;properties&quot;: {&quot;name&quot;: &quot;Wyoming&quot;}, &quot;type&quot;: &quot;Feature&quot;}], &quot;type&quot;: &quot;FeatureCollection&quot;});\n",
       "\n",
       "        \n",
       "    \n",
       "    var color_map_f4295a19c1544bbe07a62e10bb0a195c = {};\n",
       "\n",
       "    \n",
       "    color_map_f4295a19c1544bbe07a62e10bb0a195c.color = d3.scale.threshold()\n",
       "              .domain([1.0, 1.2284569138276553, 1.4569138276553106, 1.685370741482966, 1.9138276553106213, 2.1422845691382766, 2.370741482965932, 2.599198396793587, 2.8276553106212425, 3.056112224448898, 3.284569138276553, 3.5130260521042085, 3.741482965931864, 3.969939879759519, 4.198396793587174, 4.42685370741483, 4.655310621242485, 4.88376753507014, 5.112224448897796, 5.340681362725451, 5.569138276553106, 5.797595190380761, 6.026052104208417, 6.254509018036072, 6.482965931863728, 6.7114228456913825, 6.939879759519038, 7.168336673346693, 7.396793587174349, 7.625250501002004, 7.8537074148296595, 8.082164328657313, 8.31062124248497, 8.539078156312625, 8.76753507014028, 8.995991983967937, 9.224448897795591, 9.452905811623246, 9.681362725450901, 9.909819639278558, 10.138276553106213, 10.366733466933868, 10.595190380761522, 10.823647294589179, 11.052104208416834, 11.280561122244489, 11.509018036072144, 11.7374749498998, 11.965931863727455, 12.19438877755511, 12.422845691382765, 12.651302605210422, 12.879759519038076, 13.108216432865731, 13.336673346693386, 13.565130260521043, 13.793587174348698, 14.022044088176353, 14.250501002004007, 14.478957915831664, 14.707414829659319, 14.935871743486974, 15.164328657314629, 15.392785571142285, 15.62124248496994, 15.849699398797595, 16.07815631262525, 16.306613226452907, 16.53507014028056, 16.763527054108216, 16.991983967935873, 17.220440881763526, 17.448897795591183, 17.677354709418836, 17.905811623246493, 18.13426853707415, 18.362725450901802, 18.59118236472946, 18.819639278557116, 19.04809619238477, 19.276553106212425, 19.50501002004008, 19.733466933867735, 19.96192384769539, 20.190380761523045, 20.4188376753507, 20.647294589178358, 20.87575150300601, 21.104208416833668, 21.33266533066132, 21.561122244488978, 21.789579158316634, 22.018036072144287, 22.246492985971944, 22.4749498997996, 22.703406813627254, 22.93186372745491, 23.160320641282564, 23.38877755511022, 23.617234468937877, 23.84569138276553, 24.074148296593187, 24.302605210420843, 24.531062124248496, 24.759519038076153, 24.987975951903806, 25.216432865731463, 25.44488977955912, 25.673346693386772, 25.90180360721443, 26.130260521042086, 26.35871743486974, 26.587174348697395, 26.81563126252505, 27.044088176352705, 27.272545090180362, 27.501002004008015, 27.72945891783567, 27.95791583166333, 28.18637274549098, 28.414829659318638, 28.64328657314629, 28.871743486973948, 29.100200400801604, 29.328657314629258, 29.557114228456914, 29.78557114228457, 30.014028056112224, 30.24248496993988, 30.470941883767534, 30.69939879759519, 30.927855711422847, 31.1563126252505, 31.384769539078157, 31.613226452905813, 31.841683366733466, 32.07014028056112, 32.298597194388776, 32.52705410821643, 32.75551102204409, 32.983967935871746, 33.212424849699396, 33.44088176352705, 33.66933867735471, 33.897795591182366, 34.12625250501002, 34.35470941883767, 34.58316633266533, 34.811623246492985, 35.04008016032064, 35.2685370741483, 35.496993987975955, 35.725450901803605, 35.95390781563126, 36.18236472945892, 36.410821643286575, 36.63927855711423, 36.86773547094188, 37.09619238476954, 37.324649298597194, 37.55310621242485, 37.78156312625251, 38.01002004008016, 38.23847695390781, 38.46693386773547, 38.69539078156313, 38.92384769539078, 39.15230460921844, 39.38076152304609, 39.609218436873746, 39.8376753507014, 40.06613226452906, 40.294589178356716, 40.523046092184366, 40.75150300601202, 40.97995991983968, 41.208416833667336, 41.43687374749499, 41.66533066132264, 41.8937875751503, 42.122244488977955, 42.35070140280561, 42.57915831663327, 42.807615230460925, 43.036072144288575, 43.26452905811623, 43.49298597194389, 43.721442885771545, 43.9498997995992, 44.17835671342685, 44.40681362725451, 44.635270541082164, 44.86372745490982, 45.09218436873748, 45.32064128256513, 45.549098196392784, 45.77755511022044, 46.0060120240481, 46.234468937875754, 46.46292585170341, 46.69138276553106, 46.91983967935872, 47.14829659318637, 47.37675350701403, 47.605210420841686, 47.833667334669336, 48.06212424849699, 48.29058116232465, 48.519038076152306, 48.74749498997996, 48.97595190380761, 49.20440881763527, 49.432865731462925, 49.66132264529058, 49.88977955911824, 50.11823647294589, 50.346693386773545, 50.5751503006012, 50.80360721442886, 51.032064128256515, 51.26052104208417, 51.48897795591182, 51.71743486973948, 51.945891783567134, 52.17434869739479, 52.40280561122245, 52.6312625250501, 52.859719438877754, 53.08817635270541, 53.31663326653307, 53.545090180360724, 53.77354709418837, 54.00200400801603, 54.23046092184369, 54.45891783567134, 54.687374749499, 54.91583166332666, 55.144288577154306, 55.37274549098196, 55.60120240480962, 55.829659318637276, 56.05811623246493, 56.28657314629258, 56.51503006012024, 56.743486973947896, 56.97194388777555, 57.20040080160321, 57.42885771543086, 57.657314629258515, 57.88577154308617, 58.11422845691383, 58.342685370741485, 58.57114228456914, 58.79959919839679, 59.02805611222445, 59.256513026052104, 59.48496993987976, 59.71342685370742, 59.94188376753507, 60.170340681362724, 60.39879759519038, 60.62725450901804, 60.855711422845694, 61.08416833667334, 61.312625250501, 61.54108216432866, 61.76953907815631, 61.99799599198397, 62.22645290581163, 62.454909819639276, 62.68336673346693, 62.91182364729459, 63.140280561122246, 63.3687374749499, 63.59719438877755, 63.82565130260521, 64.05410821643287, 64.28256513026052, 64.51102204408818, 64.73947895791582, 64.96793587174349, 65.19639278557115, 65.42484969939879, 65.65330661322645, 65.8817635270541, 66.11022044088176, 66.33867735470942, 66.56713426853707, 66.79559118236473, 67.02404809619239, 67.25250501002004, 67.4809619238477, 67.70941883767534, 67.937875751503, 68.16633266533066, 68.39478957915831, 68.62324649298597, 68.85170340681363, 69.08016032064128, 69.30861723446894, 69.5370741482966, 69.76553106212425, 69.99398797595191, 70.22244488977955, 70.45090180360721, 70.67935871743487, 70.90781563126252, 71.13627254509018, 71.36472945891784, 71.59318637274549, 71.82164328657315, 72.0501002004008, 72.27855711422846, 72.50701402805612, 72.73547094188376, 72.96392785571142, 73.19238476953907, 73.42084168336673, 73.64929859719439, 73.87775551102204, 74.1062124248497, 74.33466933867736, 74.56312625250501, 74.79158316633267, 75.02004008016031, 75.24849699398797, 75.47695390781563, 75.70541082164328, 75.93386773547094, 76.1623246492986, 76.39078156312625, 76.61923847695391, 76.84769539078157, 77.07615230460922, 77.30460921843688, 77.53306613226452, 77.76152304609218, 77.98997995991984, 78.21843687374749, 78.44689378757515, 78.6753507014028, 78.90380761523046, 79.13226452905812, 79.36072144288578, 79.58917835671343, 79.81763527054109, 80.04609218436873, 80.27454909819639, 80.50300601202404, 80.7314629258517, 80.95991983967936, 81.18837675350701, 81.41683366733467, 81.64529058116233, 81.87374749498998, 82.10220440881764, 82.33066132264528, 82.55911823647294, 82.7875751503006, 83.01603206412825, 83.24448897795591, 83.47294589178357, 83.70140280561122, 83.92985971943888, 84.15831663326654, 84.3867735470942, 84.61523046092185, 84.84368737474949, 85.07214428857715, 85.3006012024048, 85.52905811623246, 85.75751503006012, 85.98597194388778, 86.21442885771543, 86.44288577154309, 86.67134268537075, 86.8997995991984, 87.12825651302605, 87.3567134268537, 87.58517034068136, 87.81362725450902, 88.04208416833667, 88.27054108216433, 88.49899799599199, 88.72745490981964, 88.9559118236473, 89.18436873747495, 89.41282565130261, 89.64128256513025, 89.86973947895791, 90.09819639278557, 90.32665330661322, 90.55511022044088, 90.78356713426854, 91.0120240480962, 91.24048096192385, 91.46893787575151, 91.69739478957916, 91.92585170340682, 92.15430861723446, 92.38276553106212, 92.61122244488978, 92.83967935871743, 93.06813627254509, 93.29659318637275, 93.5250501002004, 93.75350701402806, 93.98196392785572, 94.21042084168337, 94.43887775551102, 94.66733466933867, 94.89579158316633, 95.12424849699399, 95.35270541082164, 95.5811623246493, 95.80961923847696, 96.03807615230461, 96.26653306613227, 96.49498997995993, 96.72344689378758, 96.95190380761522, 97.18036072144288, 97.40881763527054, 97.6372745490982, 97.86573146292585, 98.09418837675351, 98.32264529058116, 98.55110220440882, 98.77955911823648, 99.00801603206413, 99.23647294589178, 99.46492985971943, 99.69338677354709, 99.92184368737475, 100.1503006012024, 100.37875751503006, 100.60721442885772, 100.83567134268537, 101.06412825651303, 101.29258517034069, 101.52104208416834, 101.74949899799599, 101.97795591182364, 102.2064128256513, 102.43486973947896, 102.66332665330661, 102.89178356713427, 103.12024048096193, 103.34869739478958, 103.57715430861724, 103.8056112224449, 104.03406813627255, 104.2625250501002, 104.49098196392785, 104.71943887775551, 104.94789579158316, 105.17635270541082, 105.40480961923848, 105.63326653306613, 105.86172344689379, 106.09018036072145, 106.3186372745491, 106.54709418837675, 106.7755511022044, 107.00400801603206, 107.23246492985972, 107.46092184368737, 107.68937875751503, 107.91783567134269, 108.14629258517034, 108.374749498998, 108.60320641282566, 108.83166332665331, 109.06012024048096, 109.28857715430861, 109.51703406813627, 109.74549098196393, 109.97394789579158, 110.20240480961924, 110.4308617234469, 110.65931863727455, 110.88777555110221, 111.11623246492987, 111.34468937875752, 111.57314629258516, 111.80160320641282, 112.03006012024048, 112.25851703406813, 112.48697394789579, 112.71543086172345, 112.9438877755511, 113.17234468937876, 113.40080160320642, 113.62925851703407, 113.85771543086172, 114.08617234468937, 114.31462925851703, 114.54308617234469, 114.77154308617234, 115.0])\n",
       "              .range([&#x27;#ffffccff&#x27;, &#x27;#ffffccff&#x27;, &#x27;#ffffccff&#x27;, &#x27;#ffffccff&#x27;, &#x27;#ffffccff&#x27;, &#x27;#ffffccff&#x27;, &#x27;#ffffccff&#x27;, &#x27;#ffffccff&#x27;, &#x27;#ffffccff&#x27;, &#x27;#ffffccff&#x27;, &#x27;#ffffccff&#x27;, &#x27;#ffffccff&#x27;, &#x27;#ffffccff&#x27;, &#x27;#ffffccff&#x27;, &#x27;#ffffccff&#x27;, &#x27;#ffffccff&#x27;, &#x27;#ffffccff&#x27;, &#x27;#ffffccff&#x27;, &#x27;#ffffccff&#x27;, &#x27;#ffffccff&#x27;, &#x27;#ffffccff&#x27;, &#x27;#ffffccff&#x27;, &#x27;#ffffccff&#x27;, &#x27;#ffffccff&#x27;, &#x27;#ffffccff&#x27;, &#x27;#ffffccff&#x27;, &#x27;#ffffccff&#x27;, &#x27;#ffffccff&#x27;, &#x27;#ffffccff&#x27;, &#x27;#ffffccff&#x27;, &#x27;#ffffccff&#x27;, &#x27;#ffffccff&#x27;, &#x27;#ffffccff&#x27;, &#x27;#ffffccff&#x27;, &#x27;#ffffccff&#x27;, &#x27;#ffffccff&#x27;, &#x27;#ffffccff&#x27;, &#x27;#ffffccff&#x27;, &#x27;#ffffccff&#x27;, &#x27;#ffffccff&#x27;, &#x27;#ffffccff&#x27;, &#x27;#ffffccff&#x27;, &#x27;#ffffccff&#x27;, &#x27;#ffffccff&#x27;, &#x27;#ffffccff&#x27;, &#x27;#ffffccff&#x27;, &#x27;#ffffccff&#x27;, &#x27;#ffffccff&#x27;, &#x27;#ffffccff&#x27;, &#x27;#ffffccff&#x27;, &#x27;#ffffccff&#x27;, &#x27;#ffffccff&#x27;, &#x27;#ffffccff&#x27;, &#x27;#ffffccff&#x27;, &#x27;#ffffccff&#x27;, &#x27;#ffffccff&#x27;, &#x27;#ffffccff&#x27;, &#x27;#ffffccff&#x27;, &#x27;#ffffccff&#x27;, &#x27;#ffffccff&#x27;, &#x27;#ffffccff&#x27;, &#x27;#ffffccff&#x27;, &#x27;#ffffccff&#x27;, &#x27;#ffffccff&#x27;, &#x27;#ffffccff&#x27;, &#x27;#ffffccff&#x27;, &#x27;#ffffccff&#x27;, &#x27;#ffffccff&#x27;, &#x27;#ffffccff&#x27;, &#x27;#ffffccff&#x27;, &#x27;#ffffccff&#x27;, &#x27;#ffffccff&#x27;, &#x27;#ffffccff&#x27;, &#x27;#ffffccff&#x27;, &#x27;#ffffccff&#x27;, &#x27;#ffffccff&#x27;, &#x27;#ffffccff&#x27;, &#x27;#ffffccff&#x27;, &#x27;#ffffccff&#x27;, &#x27;#ffffccff&#x27;, &#x27;#ffffccff&#x27;, &#x27;#ffffccff&#x27;, &#x27;#ffffccff&#x27;, &#x27;#ffffccff&#x27;, &#x27;#d9f0a3ff&#x27;, &#x27;#d9f0a3ff&#x27;, &#x27;#d9f0a3ff&#x27;, &#x27;#d9f0a3ff&#x27;, &#x27;#d9f0a3ff&#x27;, &#x27;#d9f0a3ff&#x27;, &#x27;#d9f0a3ff&#x27;, &#x27;#d9f0a3ff&#x27;, &#x27;#d9f0a3ff&#x27;, &#x27;#d9f0a3ff&#x27;, &#x27;#d9f0a3ff&#x27;, &#x27;#d9f0a3ff&#x27;, &#x27;#d9f0a3ff&#x27;, &#x27;#d9f0a3ff&#x27;, &#x27;#d9f0a3ff&#x27;, &#x27;#d9f0a3ff&#x27;, &#x27;#d9f0a3ff&#x27;, &#x27;#d9f0a3ff&#x27;, &#x27;#d9f0a3ff&#x27;, &#x27;#d9f0a3ff&#x27;, &#x27;#d9f0a3ff&#x27;, &#x27;#d9f0a3ff&#x27;, &#x27;#d9f0a3ff&#x27;, &#x27;#d9f0a3ff&#x27;, &#x27;#d9f0a3ff&#x27;, &#x27;#d9f0a3ff&#x27;, &#x27;#d9f0a3ff&#x27;, &#x27;#d9f0a3ff&#x27;, &#x27;#d9f0a3ff&#x27;, &#x27;#d9f0a3ff&#x27;, &#x27;#d9f0a3ff&#x27;, &#x27;#d9f0a3ff&#x27;, &#x27;#d9f0a3ff&#x27;, &#x27;#d9f0a3ff&#x27;, &#x27;#d9f0a3ff&#x27;, &#x27;#d9f0a3ff&#x27;, &#x27;#d9f0a3ff&#x27;, &#x27;#d9f0a3ff&#x27;, &#x27;#d9f0a3ff&#x27;, &#x27;#d9f0a3ff&#x27;, &#x27;#d9f0a3ff&#x27;, &#x27;#d9f0a3ff&#x27;, &#x27;#d9f0a3ff&#x27;, &#x27;#d9f0a3ff&#x27;, &#x27;#d9f0a3ff&#x27;, &#x27;#d9f0a3ff&#x27;, &#x27;#d9f0a3ff&#x27;, &#x27;#d9f0a3ff&#x27;, &#x27;#d9f0a3ff&#x27;, &#x27;#d9f0a3ff&#x27;, &#x27;#d9f0a3ff&#x27;, &#x27;#d9f0a3ff&#x27;, &#x27;#d9f0a3ff&#x27;, &#x27;#d9f0a3ff&#x27;, &#x27;#d9f0a3ff&#x27;, &#x27;#d9f0a3ff&#x27;, &#x27;#d9f0a3ff&#x27;, &#x27;#d9f0a3ff&#x27;, &#x27;#d9f0a3ff&#x27;, &#x27;#d9f0a3ff&#x27;, &#x27;#d9f0a3ff&#x27;, &#x27;#d9f0a3ff&#x27;, &#x27;#d9f0a3ff&#x27;, &#x27;#d9f0a3ff&#x27;, &#x27;#d9f0a3ff&#x27;, &#x27;#d9f0a3ff&#x27;, &#x27;#d9f0a3ff&#x27;, &#x27;#d9f0a3ff&#x27;, &#x27;#d9f0a3ff&#x27;, &#x27;#d9f0a3ff&#x27;, &#x27;#d9f0a3ff&#x27;, &#x27;#d9f0a3ff&#x27;, &#x27;#d9f0a3ff&#x27;, &#x27;#d9f0a3ff&#x27;, &#x27;#d9f0a3ff&#x27;, &#x27;#d9f0a3ff&#x27;, &#x27;#d9f0a3ff&#x27;, &#x27;#d9f0a3ff&#x27;, &#x27;#d9f0a3ff&#x27;, &#x27;#d9f0a3ff&#x27;, &#x27;#d9f0a3ff&#x27;, &#x27;#d9f0a3ff&#x27;, &#x27;#d9f0a3ff&#x27;, &#x27;#addd8eff&#x27;, &#x27;#addd8eff&#x27;, &#x27;#addd8eff&#x27;, &#x27;#addd8eff&#x27;, &#x27;#addd8eff&#x27;, &#x27;#addd8eff&#x27;, &#x27;#addd8eff&#x27;, &#x27;#addd8eff&#x27;, &#x27;#addd8eff&#x27;, &#x27;#addd8eff&#x27;, &#x27;#addd8eff&#x27;, &#x27;#addd8eff&#x27;, &#x27;#addd8eff&#x27;, &#x27;#addd8eff&#x27;, &#x27;#addd8eff&#x27;, &#x27;#addd8eff&#x27;, &#x27;#addd8eff&#x27;, &#x27;#addd8eff&#x27;, &#x27;#addd8eff&#x27;, &#x27;#addd8eff&#x27;, &#x27;#addd8eff&#x27;, &#x27;#addd8eff&#x27;, &#x27;#addd8eff&#x27;, &#x27;#addd8eff&#x27;, &#x27;#addd8eff&#x27;, &#x27;#addd8eff&#x27;, &#x27;#addd8eff&#x27;, &#x27;#addd8eff&#x27;, &#x27;#addd8eff&#x27;, &#x27;#addd8eff&#x27;, &#x27;#addd8eff&#x27;, &#x27;#addd8eff&#x27;, &#x27;#addd8eff&#x27;, &#x27;#addd8eff&#x27;, &#x27;#addd8eff&#x27;, &#x27;#addd8eff&#x27;, &#x27;#addd8eff&#x27;, &#x27;#addd8eff&#x27;, &#x27;#addd8eff&#x27;, &#x27;#addd8eff&#x27;, &#x27;#addd8eff&#x27;, &#x27;#addd8eff&#x27;, &#x27;#addd8eff&#x27;, &#x27;#addd8eff&#x27;, &#x27;#addd8eff&#x27;, &#x27;#addd8eff&#x27;, &#x27;#addd8eff&#x27;, &#x27;#addd8eff&#x27;, &#x27;#addd8eff&#x27;, &#x27;#addd8eff&#x27;, &#x27;#addd8eff&#x27;, &#x27;#addd8eff&#x27;, &#x27;#addd8eff&#x27;, &#x27;#addd8eff&#x27;, &#x27;#addd8eff&#x27;, &#x27;#addd8eff&#x27;, &#x27;#addd8eff&#x27;, &#x27;#addd8eff&#x27;, &#x27;#addd8eff&#x27;, &#x27;#addd8eff&#x27;, &#x27;#addd8eff&#x27;, &#x27;#addd8eff&#x27;, &#x27;#addd8eff&#x27;, &#x27;#addd8eff&#x27;, &#x27;#addd8eff&#x27;, &#x27;#addd8eff&#x27;, &#x27;#addd8eff&#x27;, &#x27;#addd8eff&#x27;, &#x27;#addd8eff&#x27;, &#x27;#addd8eff&#x27;, &#x27;#addd8eff&#x27;, &#x27;#addd8eff&#x27;, &#x27;#addd8eff&#x27;, &#x27;#addd8eff&#x27;, &#x27;#addd8eff&#x27;, &#x27;#addd8eff&#x27;, &#x27;#addd8eff&#x27;, &#x27;#addd8eff&#x27;, &#x27;#addd8eff&#x27;, &#x27;#addd8eff&#x27;, &#x27;#addd8eff&#x27;, &#x27;#addd8eff&#x27;, &#x27;#addd8eff&#x27;, &#x27;#78c679ff&#x27;, &#x27;#78c679ff&#x27;, &#x27;#78c679ff&#x27;, &#x27;#78c679ff&#x27;, &#x27;#78c679ff&#x27;, &#x27;#78c679ff&#x27;, &#x27;#78c679ff&#x27;, &#x27;#78c679ff&#x27;, &#x27;#78c679ff&#x27;, &#x27;#78c679ff&#x27;, &#x27;#78c679ff&#x27;, &#x27;#78c679ff&#x27;, &#x27;#78c679ff&#x27;, &#x27;#78c679ff&#x27;, &#x27;#78c679ff&#x27;, &#x27;#78c679ff&#x27;, &#x27;#78c679ff&#x27;, &#x27;#78c679ff&#x27;, &#x27;#78c679ff&#x27;, &#x27;#78c679ff&#x27;, &#x27;#78c679ff&#x27;, &#x27;#78c679ff&#x27;, &#x27;#78c679ff&#x27;, &#x27;#78c679ff&#x27;, &#x27;#78c679ff&#x27;, &#x27;#78c679ff&#x27;, &#x27;#78c679ff&#x27;, &#x27;#78c679ff&#x27;, &#x27;#78c679ff&#x27;, &#x27;#78c679ff&#x27;, &#x27;#78c679ff&#x27;, &#x27;#78c679ff&#x27;, &#x27;#78c679ff&#x27;, &#x27;#78c679ff&#x27;, &#x27;#78c679ff&#x27;, &#x27;#78c679ff&#x27;, &#x27;#78c679ff&#x27;, &#x27;#78c679ff&#x27;, &#x27;#78c679ff&#x27;, &#x27;#78c679ff&#x27;, &#x27;#78c679ff&#x27;, &#x27;#78c679ff&#x27;, &#x27;#78c679ff&#x27;, &#x27;#78c679ff&#x27;, &#x27;#78c679ff&#x27;, &#x27;#78c679ff&#x27;, &#x27;#78c679ff&#x27;, &#x27;#78c679ff&#x27;, &#x27;#78c679ff&#x27;, &#x27;#78c679ff&#x27;, &#x27;#78c679ff&#x27;, &#x27;#78c679ff&#x27;, &#x27;#78c679ff&#x27;, &#x27;#78c679ff&#x27;, &#x27;#78c679ff&#x27;, &#x27;#78c679ff&#x27;, &#x27;#78c679ff&#x27;, &#x27;#78c679ff&#x27;, &#x27;#78c679ff&#x27;, &#x27;#78c679ff&#x27;, &#x27;#78c679ff&#x27;, &#x27;#78c679ff&#x27;, &#x27;#78c679ff&#x27;, &#x27;#78c679ff&#x27;, &#x27;#78c679ff&#x27;, &#x27;#78c679ff&#x27;, &#x27;#78c679ff&#x27;, &#x27;#78c679ff&#x27;, &#x27;#78c679ff&#x27;, &#x27;#78c679ff&#x27;, &#x27;#78c679ff&#x27;, &#x27;#78c679ff&#x27;, &#x27;#78c679ff&#x27;, &#x27;#78c679ff&#x27;, &#x27;#78c679ff&#x27;, &#x27;#78c679ff&#x27;, &#x27;#78c679ff&#x27;, &#x27;#78c679ff&#x27;, &#x27;#78c679ff&#x27;, &#x27;#78c679ff&#x27;, &#x27;#78c679ff&#x27;, &#x27;#78c679ff&#x27;, &#x27;#78c679ff&#x27;, &#x27;#31a354ff&#x27;, &#x27;#31a354ff&#x27;, &#x27;#31a354ff&#x27;, &#x27;#31a354ff&#x27;, &#x27;#31a354ff&#x27;, &#x27;#31a354ff&#x27;, &#x27;#31a354ff&#x27;, &#x27;#31a354ff&#x27;, &#x27;#31a354ff&#x27;, &#x27;#31a354ff&#x27;, &#x27;#31a354ff&#x27;, &#x27;#31a354ff&#x27;, &#x27;#31a354ff&#x27;, &#x27;#31a354ff&#x27;, &#x27;#31a354ff&#x27;, &#x27;#31a354ff&#x27;, &#x27;#31a354ff&#x27;, &#x27;#31a354ff&#x27;, &#x27;#31a354ff&#x27;, &#x27;#31a354ff&#x27;, &#x27;#31a354ff&#x27;, &#x27;#31a354ff&#x27;, &#x27;#31a354ff&#x27;, &#x27;#31a354ff&#x27;, &#x27;#31a354ff&#x27;, &#x27;#31a354ff&#x27;, &#x27;#31a354ff&#x27;, &#x27;#31a354ff&#x27;, &#x27;#31a354ff&#x27;, &#x27;#31a354ff&#x27;, &#x27;#31a354ff&#x27;, &#x27;#31a354ff&#x27;, &#x27;#31a354ff&#x27;, &#x27;#31a354ff&#x27;, &#x27;#31a354ff&#x27;, &#x27;#31a354ff&#x27;, &#x27;#31a354ff&#x27;, &#x27;#31a354ff&#x27;, &#x27;#31a354ff&#x27;, &#x27;#31a354ff&#x27;, &#x27;#31a354ff&#x27;, &#x27;#31a354ff&#x27;, &#x27;#31a354ff&#x27;, &#x27;#31a354ff&#x27;, &#x27;#31a354ff&#x27;, &#x27;#31a354ff&#x27;, &#x27;#31a354ff&#x27;, &#x27;#31a354ff&#x27;, &#x27;#31a354ff&#x27;, &#x27;#31a354ff&#x27;, &#x27;#31a354ff&#x27;, &#x27;#31a354ff&#x27;, &#x27;#31a354ff&#x27;, &#x27;#31a354ff&#x27;, &#x27;#31a354ff&#x27;, &#x27;#31a354ff&#x27;, &#x27;#31a354ff&#x27;, &#x27;#31a354ff&#x27;, &#x27;#31a354ff&#x27;, &#x27;#31a354ff&#x27;, &#x27;#31a354ff&#x27;, &#x27;#31a354ff&#x27;, &#x27;#31a354ff&#x27;, &#x27;#31a354ff&#x27;, &#x27;#31a354ff&#x27;, &#x27;#31a354ff&#x27;, &#x27;#31a354ff&#x27;, &#x27;#31a354ff&#x27;, &#x27;#31a354ff&#x27;, &#x27;#31a354ff&#x27;, &#x27;#31a354ff&#x27;, &#x27;#31a354ff&#x27;, &#x27;#31a354ff&#x27;, &#x27;#31a354ff&#x27;, &#x27;#31a354ff&#x27;, &#x27;#31a354ff&#x27;, &#x27;#31a354ff&#x27;, &#x27;#31a354ff&#x27;, &#x27;#31a354ff&#x27;, &#x27;#31a354ff&#x27;, &#x27;#31a354ff&#x27;, &#x27;#31a354ff&#x27;, &#x27;#31a354ff&#x27;, &#x27;#006837ff&#x27;, &#x27;#006837ff&#x27;, &#x27;#006837ff&#x27;, &#x27;#006837ff&#x27;, &#x27;#006837ff&#x27;, &#x27;#006837ff&#x27;, &#x27;#006837ff&#x27;, &#x27;#006837ff&#x27;, &#x27;#006837ff&#x27;, &#x27;#006837ff&#x27;, &#x27;#006837ff&#x27;, &#x27;#006837ff&#x27;, &#x27;#006837ff&#x27;, &#x27;#006837ff&#x27;, &#x27;#006837ff&#x27;, &#x27;#006837ff&#x27;, &#x27;#006837ff&#x27;, &#x27;#006837ff&#x27;, &#x27;#006837ff&#x27;, &#x27;#006837ff&#x27;, &#x27;#006837ff&#x27;, &#x27;#006837ff&#x27;, &#x27;#006837ff&#x27;, &#x27;#006837ff&#x27;, &#x27;#006837ff&#x27;, &#x27;#006837ff&#x27;, &#x27;#006837ff&#x27;, &#x27;#006837ff&#x27;, &#x27;#006837ff&#x27;, &#x27;#006837ff&#x27;, &#x27;#006837ff&#x27;, &#x27;#006837ff&#x27;, &#x27;#006837ff&#x27;, &#x27;#006837ff&#x27;, &#x27;#006837ff&#x27;, &#x27;#006837ff&#x27;, &#x27;#006837ff&#x27;, &#x27;#006837ff&#x27;, &#x27;#006837ff&#x27;, &#x27;#006837ff&#x27;, &#x27;#006837ff&#x27;, &#x27;#006837ff&#x27;, &#x27;#006837ff&#x27;, &#x27;#006837ff&#x27;, &#x27;#006837ff&#x27;, &#x27;#006837ff&#x27;, &#x27;#006837ff&#x27;, &#x27;#006837ff&#x27;, &#x27;#006837ff&#x27;, &#x27;#006837ff&#x27;, &#x27;#006837ff&#x27;, &#x27;#006837ff&#x27;, &#x27;#006837ff&#x27;, &#x27;#006837ff&#x27;, &#x27;#006837ff&#x27;, &#x27;#006837ff&#x27;, &#x27;#006837ff&#x27;, &#x27;#006837ff&#x27;, &#x27;#006837ff&#x27;, &#x27;#006837ff&#x27;, &#x27;#006837ff&#x27;, &#x27;#006837ff&#x27;, &#x27;#006837ff&#x27;, &#x27;#006837ff&#x27;, &#x27;#006837ff&#x27;, &#x27;#006837ff&#x27;, &#x27;#006837ff&#x27;, &#x27;#006837ff&#x27;, &#x27;#006837ff&#x27;, &#x27;#006837ff&#x27;, &#x27;#006837ff&#x27;, &#x27;#006837ff&#x27;, &#x27;#006837ff&#x27;, &#x27;#006837ff&#x27;, &#x27;#006837ff&#x27;, &#x27;#006837ff&#x27;, &#x27;#006837ff&#x27;, &#x27;#006837ff&#x27;, &#x27;#006837ff&#x27;, &#x27;#006837ff&#x27;, &#x27;#006837ff&#x27;, &#x27;#006837ff&#x27;, &#x27;#006837ff&#x27;, &#x27;#006837ff&#x27;]);\n",
       "    \n",
       "\n",
       "    color_map_f4295a19c1544bbe07a62e10bb0a195c.x = d3.scale.linear()\n",
       "              .domain([1.0, 115.0])\n",
       "              .range([0, 450 - 50]);\n",
       "\n",
       "    color_map_f4295a19c1544bbe07a62e10bb0a195c.legend = L.control({position: &#x27;topright&#x27;});\n",
       "    color_map_f4295a19c1544bbe07a62e10bb0a195c.legend.onAdd = function (map) {var div = L.DomUtil.create(&#x27;div&#x27;, &#x27;legend&#x27;); return div};\n",
       "    color_map_f4295a19c1544bbe07a62e10bb0a195c.legend.addTo(map_d11dc7fbd62c356ba057362226555a12);\n",
       "\n",
       "    color_map_f4295a19c1544bbe07a62e10bb0a195c.xAxis = d3.svg.axis()\n",
       "        .scale(color_map_f4295a19c1544bbe07a62e10bb0a195c.x)\n",
       "        .orient(&quot;top&quot;)\n",
       "        .tickSize(1)\n",
       "        .tickValues([1.0, 20.0, 39.0, 58.0, 77.0, 96.0, 115.0]);\n",
       "\n",
       "    color_map_f4295a19c1544bbe07a62e10bb0a195c.svg = d3.select(&quot;.legend.leaflet-control&quot;).append(&quot;svg&quot;)\n",
       "        .attr(&quot;id&quot;, &#x27;legend&#x27;)\n",
       "        .attr(&quot;width&quot;, 450)\n",
       "        .attr(&quot;height&quot;, 40);\n",
       "\n",
       "    color_map_f4295a19c1544bbe07a62e10bb0a195c.g = color_map_f4295a19c1544bbe07a62e10bb0a195c.svg.append(&quot;g&quot;)\n",
       "        .attr(&quot;class&quot;, &quot;key&quot;)\n",
       "        .attr(&quot;transform&quot;, &quot;translate(25,16)&quot;);\n",
       "\n",
       "    color_map_f4295a19c1544bbe07a62e10bb0a195c.g.selectAll(&quot;rect&quot;)\n",
       "        .data(color_map_f4295a19c1544bbe07a62e10bb0a195c.color.range().map(function(d, i) {\n",
       "          return {\n",
       "            x0: i ? color_map_f4295a19c1544bbe07a62e10bb0a195c.x(color_map_f4295a19c1544bbe07a62e10bb0a195c.color.domain()[i - 1]) : color_map_f4295a19c1544bbe07a62e10bb0a195c.x.range()[0],\n",
       "            x1: i &lt; color_map_f4295a19c1544bbe07a62e10bb0a195c.color.domain().length ? color_map_f4295a19c1544bbe07a62e10bb0a195c.x(color_map_f4295a19c1544bbe07a62e10bb0a195c.color.domain()[i]) : color_map_f4295a19c1544bbe07a62e10bb0a195c.x.range()[1],\n",
       "            z: d\n",
       "          };\n",
       "        }))\n",
       "      .enter().append(&quot;rect&quot;)\n",
       "        .attr(&quot;height&quot;, 40 - 30)\n",
       "        .attr(&quot;x&quot;, function(d) { return d.x0; })\n",
       "        .attr(&quot;width&quot;, function(d) { return d.x1 - d.x0; })\n",
       "        .style(&quot;fill&quot;, function(d) { return d.z; });\n",
       "\n",
       "    color_map_f4295a19c1544bbe07a62e10bb0a195c.g.call(color_map_f4295a19c1544bbe07a62e10bb0a195c.xAxis).append(&quot;text&quot;)\n",
       "        .attr(&quot;class&quot;, &quot;caption&quot;)\n",
       "        .attr(&quot;y&quot;, 21)\n",
       "        .text(&quot;Costco Store Count&quot;);\n",
       "    \n",
       "            var layer_control_45bdc6c5d9f2d2cb97188129f22c131d = {\n",
       "                base_layers : {\n",
       "                    &quot;openstreetmap&quot; : tile_layer_7d4a32da54d27532bd504c3359ef578e,\n",
       "                },\n",
       "                overlays :  {\n",
       "                    &quot;choropleth&quot; : choropleth_1e4480487c8f3906feef88c7171885fd,\n",
       "                },\n",
       "            };\n",
       "            L.control.layers(\n",
       "                layer_control_45bdc6c5d9f2d2cb97188129f22c131d.base_layers,\n",
       "                layer_control_45bdc6c5d9f2d2cb97188129f22c131d.overlays,\n",
       "                {&quot;autoZIndex&quot;: true, &quot;collapsed&quot;: true, &quot;position&quot;: &quot;topright&quot;}\n",
       "            ).addTo(map_d11dc7fbd62c356ba057362226555a12);\n",
       "        \n",
       "&lt;/script&gt;\n",
       "&lt;/html&gt;\" style=\"position:absolute;width:100%;height:100%;left:0;top:0;border:none !important;\" allowfullscreen webkitallowfullscreen mozallowfullscreen></iframe></div></div>"
      ],
      "text/plain": [
       "<folium.folium.Map at 0x1ad4785e8b0>"
      ]
     },
     "execution_count": 15,
     "metadata": {},
     "output_type": "execute_result"
    }
   ],
   "source": [
    "folium.Choropleth(\n",
    "    geo_data=state_geo,\n",
    "    name=\"choropleth\",\n",
    "    data=cos_st,\n",
    "    columns=[\"State\",\"count\"],\n",
    "    key_on=\"feature.id\",\n",
    "    fill_color=\"YlGn\",\n",
    "    fill_opacity=0.7,\n",
    "    line_opacity=.1,\n",
    "    legend_name=\"Costco Store Count\",\n",
    ").add_to(m)\n",
    "\n",
    "folium.LayerControl().add_to(m)\n",
    "\n",
    "m"
   ]
  },
  {
   "cell_type": "code",
   "execution_count": 16,
   "id": "e6185c74",
   "metadata": {},
   "outputs": [],
   "source": [
    "# code for creating choropleth map of USA states\n",
    "# import plotly library\n",
    "import plotly\n",
    " \n",
    "# import plotly.express module\n",
    "# this module is used to create entire figures at once\n",
    "import plotly.express as px"
   ]
  },
  {
   "cell_type": "code",
   "execution_count": 25,
   "id": "235edbba",
   "metadata": {},
   "outputs": [],
   "source": [
    "code = {'Alabama': 'AL',\n",
    "        'Alaska': 'AK',\n",
    "        'Arizona': 'AZ',\n",
    "        'Arkansas': 'AR',\n",
    "        'California': 'CA',\n",
    "        'Colorado': 'CO',\n",
    "        'Connecticut': 'CT',\n",
    "        'Delaware': 'DE',\n",
    "        'District of Columbia': 'DC',\n",
    "        'Florida': 'FL',\n",
    "        'Georgia': 'GA',\n",
    "        'Hawaii': 'HI',\n",
    "        'Idaho': 'ID',\n",
    "        'Illinois': 'IL',\n",
    "        'Indiana': 'IN',\n",
    "        'Iowa': 'IA',\n",
    "        'Kansas': 'KS',\n",
    "        'Kentucky': 'KY',\n",
    "        'Louisiana': 'LA',\n",
    "        'Maine': 'ME',\n",
    "        'Maryland': 'MD',\n",
    "        'Massachusetts': 'MA',\n",
    "        'Michigan': 'MI',\n",
    "        'Minnesota': 'MN',\n",
    "        'Mississippi': 'MS',\n",
    "        'Missouri': 'MO',\n",
    "        'Montana': 'MT',\n",
    "        'Nebraska': 'NE',\n",
    "        'Nevada': 'NV',\n",
    "        'New Hampshire': 'NH',\n",
    "        'New Jersey': 'NJ',\n",
    "        'New Mexico': 'NM',\n",
    "        'New York': 'NY',\n",
    "        'North Carolina': 'NC',\n",
    "        'North Dakota': 'ND',\n",
    "        'Ohio': 'OH',\n",
    "        'Oklahoma': 'OK',\n",
    "        'Oregon': 'OR',\n",
    "        'Pennsylvania': 'PA',\n",
    "        'Rhode Island': 'RI',\n",
    "        'South Carolina': 'SC',\n",
    "        'South Dakota': 'SD',\n",
    "        'Tennessee': 'TN',\n",
    "        'Texas': 'TX',\n",
    "        'Utah': 'UT',\n",
    "        'Vermont': 'VT',\n",
    "        'Virginia': 'VA',\n",
    "        'Washington': 'WA',\n",
    "        'West Virginia': 'WV',\n",
    "        'Wisconsin': 'WI',\n",
    "        'Wyoming': 'WY'}\n",
    "cos_st['Code'] = cos_st['State'].map(code)"
   ]
  },
  {
   "cell_type": "code",
   "execution_count": 26,
   "id": "bdf2ba89",
   "metadata": {},
   "outputs": [
    {
     "data": {
      "application/vnd.plotly.v1+json": {
       "config": {
        "plotlyServerURL": "https://plot.ly"
       },
       "data": [
        {
         "coloraxis": "coloraxis",
         "geo": "geo",
         "hovertemplate": "Code=%{location}<br>count=%{z}<extra></extra>",
         "locationmode": "USA-states",
         "locations": [
          "AL",
          "AK",
          "AZ",
          "CA",
          "CO",
          "CT",
          "DE",
          "FL",
          "GA",
          "HI",
          "ID",
          "IL",
          "IN",
          "IA",
          "KS",
          "KY",
          "MD",
          "MA",
          "MI",
          "MN",
          "MO",
          "MT",
          "NE",
          "NV",
          "NH",
          "NJ",
          "NM",
          "NY",
          "NC",
          "OH",
          "OR",
          "PA",
          "SC",
          "TN",
          "TX",
          "UT",
          "VT",
          "VA",
          "WA",
          "WI"
         ],
         "name": "",
         "type": "choropleth",
         "z": [
          3,
          3,
          17,
          115,
          12,
          5,
          1,
          21,
          9,
          7,
          5,
          16,
          3,
          1,
          2,
          1,
          9,
          6,
          11,
          6,
          5,
          5,
          1,
          7,
          1,
          12,
          3,
          15,
          7,
          7,
          13,
          7,
          4,
          4,
          16,
          9,
          1,
          15,
          30,
          2
         ]
        }
       ],
       "layout": {
        "coloraxis": {
         "colorbar": {
          "title": {
           "text": "count"
          }
         },
         "colorscale": [
          [
           0,
           "#0d0887"
          ],
          [
           0.1111111111111111,
           "#46039f"
          ],
          [
           0.2222222222222222,
           "#7201a8"
          ],
          [
           0.3333333333333333,
           "#9c179e"
          ],
          [
           0.4444444444444444,
           "#bd3786"
          ],
          [
           0.5555555555555556,
           "#d8576b"
          ],
          [
           0.6666666666666666,
           "#ed7953"
          ],
          [
           0.7777777777777778,
           "#fb9f3a"
          ],
          [
           0.8888888888888888,
           "#fdca26"
          ],
          [
           1,
           "#f0f921"
          ]
         ]
        },
        "geo": {
         "center": {},
         "domain": {
          "x": [
           0,
           1
          ],
          "y": [
           0,
           1
          ]
         },
         "scope": "usa"
        },
        "legend": {
         "tracegroupgap": 0
        },
        "margin": {
         "t": 60
        },
        "template": {
         "data": {
          "bar": [
           {
            "error_x": {
             "color": "#2a3f5f"
            },
            "error_y": {
             "color": "#2a3f5f"
            },
            "marker": {
             "line": {
              "color": "#E5ECF6",
              "width": 0.5
             },
             "pattern": {
              "fillmode": "overlay",
              "size": 10,
              "solidity": 0.2
             }
            },
            "type": "bar"
           }
          ],
          "barpolar": [
           {
            "marker": {
             "line": {
              "color": "#E5ECF6",
              "width": 0.5
             },
             "pattern": {
              "fillmode": "overlay",
              "size": 10,
              "solidity": 0.2
             }
            },
            "type": "barpolar"
           }
          ],
          "carpet": [
           {
            "aaxis": {
             "endlinecolor": "#2a3f5f",
             "gridcolor": "white",
             "linecolor": "white",
             "minorgridcolor": "white",
             "startlinecolor": "#2a3f5f"
            },
            "baxis": {
             "endlinecolor": "#2a3f5f",
             "gridcolor": "white",
             "linecolor": "white",
             "minorgridcolor": "white",
             "startlinecolor": "#2a3f5f"
            },
            "type": "carpet"
           }
          ],
          "choropleth": [
           {
            "colorbar": {
             "outlinewidth": 0,
             "ticks": ""
            },
            "type": "choropleth"
           }
          ],
          "contour": [
           {
            "colorbar": {
             "outlinewidth": 0,
             "ticks": ""
            },
            "colorscale": [
             [
              0,
              "#0d0887"
             ],
             [
              0.1111111111111111,
              "#46039f"
             ],
             [
              0.2222222222222222,
              "#7201a8"
             ],
             [
              0.3333333333333333,
              "#9c179e"
             ],
             [
              0.4444444444444444,
              "#bd3786"
             ],
             [
              0.5555555555555556,
              "#d8576b"
             ],
             [
              0.6666666666666666,
              "#ed7953"
             ],
             [
              0.7777777777777778,
              "#fb9f3a"
             ],
             [
              0.8888888888888888,
              "#fdca26"
             ],
             [
              1,
              "#f0f921"
             ]
            ],
            "type": "contour"
           }
          ],
          "contourcarpet": [
           {
            "colorbar": {
             "outlinewidth": 0,
             "ticks": ""
            },
            "type": "contourcarpet"
           }
          ],
          "heatmap": [
           {
            "colorbar": {
             "outlinewidth": 0,
             "ticks": ""
            },
            "colorscale": [
             [
              0,
              "#0d0887"
             ],
             [
              0.1111111111111111,
              "#46039f"
             ],
             [
              0.2222222222222222,
              "#7201a8"
             ],
             [
              0.3333333333333333,
              "#9c179e"
             ],
             [
              0.4444444444444444,
              "#bd3786"
             ],
             [
              0.5555555555555556,
              "#d8576b"
             ],
             [
              0.6666666666666666,
              "#ed7953"
             ],
             [
              0.7777777777777778,
              "#fb9f3a"
             ],
             [
              0.8888888888888888,
              "#fdca26"
             ],
             [
              1,
              "#f0f921"
             ]
            ],
            "type": "heatmap"
           }
          ],
          "heatmapgl": [
           {
            "colorbar": {
             "outlinewidth": 0,
             "ticks": ""
            },
            "colorscale": [
             [
              0,
              "#0d0887"
             ],
             [
              0.1111111111111111,
              "#46039f"
             ],
             [
              0.2222222222222222,
              "#7201a8"
             ],
             [
              0.3333333333333333,
              "#9c179e"
             ],
             [
              0.4444444444444444,
              "#bd3786"
             ],
             [
              0.5555555555555556,
              "#d8576b"
             ],
             [
              0.6666666666666666,
              "#ed7953"
             ],
             [
              0.7777777777777778,
              "#fb9f3a"
             ],
             [
              0.8888888888888888,
              "#fdca26"
             ],
             [
              1,
              "#f0f921"
             ]
            ],
            "type": "heatmapgl"
           }
          ],
          "histogram": [
           {
            "marker": {
             "pattern": {
              "fillmode": "overlay",
              "size": 10,
              "solidity": 0.2
             }
            },
            "type": "histogram"
           }
          ],
          "histogram2d": [
           {
            "colorbar": {
             "outlinewidth": 0,
             "ticks": ""
            },
            "colorscale": [
             [
              0,
              "#0d0887"
             ],
             [
              0.1111111111111111,
              "#46039f"
             ],
             [
              0.2222222222222222,
              "#7201a8"
             ],
             [
              0.3333333333333333,
              "#9c179e"
             ],
             [
              0.4444444444444444,
              "#bd3786"
             ],
             [
              0.5555555555555556,
              "#d8576b"
             ],
             [
              0.6666666666666666,
              "#ed7953"
             ],
             [
              0.7777777777777778,
              "#fb9f3a"
             ],
             [
              0.8888888888888888,
              "#fdca26"
             ],
             [
              1,
              "#f0f921"
             ]
            ],
            "type": "histogram2d"
           }
          ],
          "histogram2dcontour": [
           {
            "colorbar": {
             "outlinewidth": 0,
             "ticks": ""
            },
            "colorscale": [
             [
              0,
              "#0d0887"
             ],
             [
              0.1111111111111111,
              "#46039f"
             ],
             [
              0.2222222222222222,
              "#7201a8"
             ],
             [
              0.3333333333333333,
              "#9c179e"
             ],
             [
              0.4444444444444444,
              "#bd3786"
             ],
             [
              0.5555555555555556,
              "#d8576b"
             ],
             [
              0.6666666666666666,
              "#ed7953"
             ],
             [
              0.7777777777777778,
              "#fb9f3a"
             ],
             [
              0.8888888888888888,
              "#fdca26"
             ],
             [
              1,
              "#f0f921"
             ]
            ],
            "type": "histogram2dcontour"
           }
          ],
          "mesh3d": [
           {
            "colorbar": {
             "outlinewidth": 0,
             "ticks": ""
            },
            "type": "mesh3d"
           }
          ],
          "parcoords": [
           {
            "line": {
             "colorbar": {
              "outlinewidth": 0,
              "ticks": ""
             }
            },
            "type": "parcoords"
           }
          ],
          "pie": [
           {
            "automargin": true,
            "type": "pie"
           }
          ],
          "scatter": [
           {
            "fillpattern": {
             "fillmode": "overlay",
             "size": 10,
             "solidity": 0.2
            },
            "type": "scatter"
           }
          ],
          "scatter3d": [
           {
            "line": {
             "colorbar": {
              "outlinewidth": 0,
              "ticks": ""
             }
            },
            "marker": {
             "colorbar": {
              "outlinewidth": 0,
              "ticks": ""
             }
            },
            "type": "scatter3d"
           }
          ],
          "scattercarpet": [
           {
            "marker": {
             "colorbar": {
              "outlinewidth": 0,
              "ticks": ""
             }
            },
            "type": "scattercarpet"
           }
          ],
          "scattergeo": [
           {
            "marker": {
             "colorbar": {
              "outlinewidth": 0,
              "ticks": ""
             }
            },
            "type": "scattergeo"
           }
          ],
          "scattergl": [
           {
            "marker": {
             "colorbar": {
              "outlinewidth": 0,
              "ticks": ""
             }
            },
            "type": "scattergl"
           }
          ],
          "scattermapbox": [
           {
            "marker": {
             "colorbar": {
              "outlinewidth": 0,
              "ticks": ""
             }
            },
            "type": "scattermapbox"
           }
          ],
          "scatterpolar": [
           {
            "marker": {
             "colorbar": {
              "outlinewidth": 0,
              "ticks": ""
             }
            },
            "type": "scatterpolar"
           }
          ],
          "scatterpolargl": [
           {
            "marker": {
             "colorbar": {
              "outlinewidth": 0,
              "ticks": ""
             }
            },
            "type": "scatterpolargl"
           }
          ],
          "scatterternary": [
           {
            "marker": {
             "colorbar": {
              "outlinewidth": 0,
              "ticks": ""
             }
            },
            "type": "scatterternary"
           }
          ],
          "surface": [
           {
            "colorbar": {
             "outlinewidth": 0,
             "ticks": ""
            },
            "colorscale": [
             [
              0,
              "#0d0887"
             ],
             [
              0.1111111111111111,
              "#46039f"
             ],
             [
              0.2222222222222222,
              "#7201a8"
             ],
             [
              0.3333333333333333,
              "#9c179e"
             ],
             [
              0.4444444444444444,
              "#bd3786"
             ],
             [
              0.5555555555555556,
              "#d8576b"
             ],
             [
              0.6666666666666666,
              "#ed7953"
             ],
             [
              0.7777777777777778,
              "#fb9f3a"
             ],
             [
              0.8888888888888888,
              "#fdca26"
             ],
             [
              1,
              "#f0f921"
             ]
            ],
            "type": "surface"
           }
          ],
          "table": [
           {
            "cells": {
             "fill": {
              "color": "#EBF0F8"
             },
             "line": {
              "color": "white"
             }
            },
            "header": {
             "fill": {
              "color": "#C8D4E3"
             },
             "line": {
              "color": "white"
             }
            },
            "type": "table"
           }
          ]
         },
         "layout": {
          "annotationdefaults": {
           "arrowcolor": "#2a3f5f",
           "arrowhead": 0,
           "arrowwidth": 1
          },
          "autotypenumbers": "strict",
          "coloraxis": {
           "colorbar": {
            "outlinewidth": 0,
            "ticks": ""
           }
          },
          "colorscale": {
           "diverging": [
            [
             0,
             "#8e0152"
            ],
            [
             0.1,
             "#c51b7d"
            ],
            [
             0.2,
             "#de77ae"
            ],
            [
             0.3,
             "#f1b6da"
            ],
            [
             0.4,
             "#fde0ef"
            ],
            [
             0.5,
             "#f7f7f7"
            ],
            [
             0.6,
             "#e6f5d0"
            ],
            [
             0.7,
             "#b8e186"
            ],
            [
             0.8,
             "#7fbc41"
            ],
            [
             0.9,
             "#4d9221"
            ],
            [
             1,
             "#276419"
            ]
           ],
           "sequential": [
            [
             0,
             "#0d0887"
            ],
            [
             0.1111111111111111,
             "#46039f"
            ],
            [
             0.2222222222222222,
             "#7201a8"
            ],
            [
             0.3333333333333333,
             "#9c179e"
            ],
            [
             0.4444444444444444,
             "#bd3786"
            ],
            [
             0.5555555555555556,
             "#d8576b"
            ],
            [
             0.6666666666666666,
             "#ed7953"
            ],
            [
             0.7777777777777778,
             "#fb9f3a"
            ],
            [
             0.8888888888888888,
             "#fdca26"
            ],
            [
             1,
             "#f0f921"
            ]
           ],
           "sequentialminus": [
            [
             0,
             "#0d0887"
            ],
            [
             0.1111111111111111,
             "#46039f"
            ],
            [
             0.2222222222222222,
             "#7201a8"
            ],
            [
             0.3333333333333333,
             "#9c179e"
            ],
            [
             0.4444444444444444,
             "#bd3786"
            ],
            [
             0.5555555555555556,
             "#d8576b"
            ],
            [
             0.6666666666666666,
             "#ed7953"
            ],
            [
             0.7777777777777778,
             "#fb9f3a"
            ],
            [
             0.8888888888888888,
             "#fdca26"
            ],
            [
             1,
             "#f0f921"
            ]
           ]
          },
          "colorway": [
           "#636efa",
           "#EF553B",
           "#00cc96",
           "#ab63fa",
           "#FFA15A",
           "#19d3f3",
           "#FF6692",
           "#B6E880",
           "#FF97FF",
           "#FECB52"
          ],
          "font": {
           "color": "#2a3f5f"
          },
          "geo": {
           "bgcolor": "white",
           "lakecolor": "white",
           "landcolor": "#E5ECF6",
           "showlakes": true,
           "showland": true,
           "subunitcolor": "white"
          },
          "hoverlabel": {
           "align": "left"
          },
          "hovermode": "closest",
          "mapbox": {
           "style": "light"
          },
          "paper_bgcolor": "white",
          "plot_bgcolor": "#E5ECF6",
          "polar": {
           "angularaxis": {
            "gridcolor": "white",
            "linecolor": "white",
            "ticks": ""
           },
           "bgcolor": "#E5ECF6",
           "radialaxis": {
            "gridcolor": "white",
            "linecolor": "white",
            "ticks": ""
           }
          },
          "scene": {
           "xaxis": {
            "backgroundcolor": "#E5ECF6",
            "gridcolor": "white",
            "gridwidth": 2,
            "linecolor": "white",
            "showbackground": true,
            "ticks": "",
            "zerolinecolor": "white"
           },
           "yaxis": {
            "backgroundcolor": "#E5ECF6",
            "gridcolor": "white",
            "gridwidth": 2,
            "linecolor": "white",
            "showbackground": true,
            "ticks": "",
            "zerolinecolor": "white"
           },
           "zaxis": {
            "backgroundcolor": "#E5ECF6",
            "gridcolor": "white",
            "gridwidth": 2,
            "linecolor": "white",
            "showbackground": true,
            "ticks": "",
            "zerolinecolor": "white"
           }
          },
          "shapedefaults": {
           "line": {
            "color": "#2a3f5f"
           }
          },
          "ternary": {
           "aaxis": {
            "gridcolor": "white",
            "linecolor": "white",
            "ticks": ""
           },
           "baxis": {
            "gridcolor": "white",
            "linecolor": "white",
            "ticks": ""
           },
           "bgcolor": "#E5ECF6",
           "caxis": {
            "gridcolor": "white",
            "linecolor": "white",
            "ticks": ""
           }
          },
          "title": {
           "x": 0.05
          },
          "xaxis": {
           "automargin": true,
           "gridcolor": "white",
           "linecolor": "white",
           "ticks": "",
           "title": {
            "standoff": 15
           },
           "zerolinecolor": "white",
           "zerolinewidth": 2
          },
          "yaxis": {
           "automargin": true,
           "gridcolor": "white",
           "linecolor": "white",
           "ticks": "",
           "title": {
            "standoff": 15
           },
           "zerolinecolor": "white",
           "zerolinewidth": 2
          }
         }
        }
       }
      },
      "text/html": [
       "<div>                            <div id=\"338e7f36-15af-4ea3-bce3-79474c0742d1\" class=\"plotly-graph-div\" style=\"height:525px; width:100%;\"></div>            <script type=\"text/javascript\">                require([\"plotly\"], function(Plotly) {                    window.PLOTLYENV=window.PLOTLYENV || {};                                    if (document.getElementById(\"338e7f36-15af-4ea3-bce3-79474c0742d1\")) {                    Plotly.newPlot(                        \"338e7f36-15af-4ea3-bce3-79474c0742d1\",                        [{\"coloraxis\":\"coloraxis\",\"geo\":\"geo\",\"hovertemplate\":\"Code=%{location}<br>count=%{z}<extra></extra>\",\"locationmode\":\"USA-states\",\"locations\":[\"AL\",\"AK\",\"AZ\",\"CA\",\"CO\",\"CT\",\"DE\",\"FL\",\"GA\",\"HI\",\"ID\",\"IL\",\"IN\",\"IA\",\"KS\",\"KY\",\"MD\",\"MA\",\"MI\",\"MN\",\"MO\",\"MT\",\"NE\",\"NV\",\"NH\",\"NJ\",\"NM\",\"NY\",\"NC\",\"OH\",\"OR\",\"PA\",\"SC\",\"TN\",\"TX\",\"UT\",\"VT\",\"VA\",\"WA\",\"WI\"],\"name\":\"\",\"z\":[3,3,17,115,12,5,1,21,9,7,5,16,3,1,2,1,9,6,11,6,5,5,1,7,1,12,3,15,7,7,13,7,4,4,16,9,1,15,30,2],\"type\":\"choropleth\"}],                        {\"template\":{\"data\":{\"histogram2dcontour\":[{\"type\":\"histogram2dcontour\",\"colorbar\":{\"outlinewidth\":0,\"ticks\":\"\"},\"colorscale\":[[0.0,\"#0d0887\"],[0.1111111111111111,\"#46039f\"],[0.2222222222222222,\"#7201a8\"],[0.3333333333333333,\"#9c179e\"],[0.4444444444444444,\"#bd3786\"],[0.5555555555555556,\"#d8576b\"],[0.6666666666666666,\"#ed7953\"],[0.7777777777777778,\"#fb9f3a\"],[0.8888888888888888,\"#fdca26\"],[1.0,\"#f0f921\"]]}],\"choropleth\":[{\"type\":\"choropleth\",\"colorbar\":{\"outlinewidth\":0,\"ticks\":\"\"}}],\"histogram2d\":[{\"type\":\"histogram2d\",\"colorbar\":{\"outlinewidth\":0,\"ticks\":\"\"},\"colorscale\":[[0.0,\"#0d0887\"],[0.1111111111111111,\"#46039f\"],[0.2222222222222222,\"#7201a8\"],[0.3333333333333333,\"#9c179e\"],[0.4444444444444444,\"#bd3786\"],[0.5555555555555556,\"#d8576b\"],[0.6666666666666666,\"#ed7953\"],[0.7777777777777778,\"#fb9f3a\"],[0.8888888888888888,\"#fdca26\"],[1.0,\"#f0f921\"]]}],\"heatmap\":[{\"type\":\"heatmap\",\"colorbar\":{\"outlinewidth\":0,\"ticks\":\"\"},\"colorscale\":[[0.0,\"#0d0887\"],[0.1111111111111111,\"#46039f\"],[0.2222222222222222,\"#7201a8\"],[0.3333333333333333,\"#9c179e\"],[0.4444444444444444,\"#bd3786\"],[0.5555555555555556,\"#d8576b\"],[0.6666666666666666,\"#ed7953\"],[0.7777777777777778,\"#fb9f3a\"],[0.8888888888888888,\"#fdca26\"],[1.0,\"#f0f921\"]]}],\"heatmapgl\":[{\"type\":\"heatmapgl\",\"colorbar\":{\"outlinewidth\":0,\"ticks\":\"\"},\"colorscale\":[[0.0,\"#0d0887\"],[0.1111111111111111,\"#46039f\"],[0.2222222222222222,\"#7201a8\"],[0.3333333333333333,\"#9c179e\"],[0.4444444444444444,\"#bd3786\"],[0.5555555555555556,\"#d8576b\"],[0.6666666666666666,\"#ed7953\"],[0.7777777777777778,\"#fb9f3a\"],[0.8888888888888888,\"#fdca26\"],[1.0,\"#f0f921\"]]}],\"contourcarpet\":[{\"type\":\"contourcarpet\",\"colorbar\":{\"outlinewidth\":0,\"ticks\":\"\"}}],\"contour\":[{\"type\":\"contour\",\"colorbar\":{\"outlinewidth\":0,\"ticks\":\"\"},\"colorscale\":[[0.0,\"#0d0887\"],[0.1111111111111111,\"#46039f\"],[0.2222222222222222,\"#7201a8\"],[0.3333333333333333,\"#9c179e\"],[0.4444444444444444,\"#bd3786\"],[0.5555555555555556,\"#d8576b\"],[0.6666666666666666,\"#ed7953\"],[0.7777777777777778,\"#fb9f3a\"],[0.8888888888888888,\"#fdca26\"],[1.0,\"#f0f921\"]]}],\"surface\":[{\"type\":\"surface\",\"colorbar\":{\"outlinewidth\":0,\"ticks\":\"\"},\"colorscale\":[[0.0,\"#0d0887\"],[0.1111111111111111,\"#46039f\"],[0.2222222222222222,\"#7201a8\"],[0.3333333333333333,\"#9c179e\"],[0.4444444444444444,\"#bd3786\"],[0.5555555555555556,\"#d8576b\"],[0.6666666666666666,\"#ed7953\"],[0.7777777777777778,\"#fb9f3a\"],[0.8888888888888888,\"#fdca26\"],[1.0,\"#f0f921\"]]}],\"mesh3d\":[{\"type\":\"mesh3d\",\"colorbar\":{\"outlinewidth\":0,\"ticks\":\"\"}}],\"scatter\":[{\"fillpattern\":{\"fillmode\":\"overlay\",\"size\":10,\"solidity\":0.2},\"type\":\"scatter\"}],\"parcoords\":[{\"type\":\"parcoords\",\"line\":{\"colorbar\":{\"outlinewidth\":0,\"ticks\":\"\"}}}],\"scatterpolargl\":[{\"type\":\"scatterpolargl\",\"marker\":{\"colorbar\":{\"outlinewidth\":0,\"ticks\":\"\"}}}],\"bar\":[{\"error_x\":{\"color\":\"#2a3f5f\"},\"error_y\":{\"color\":\"#2a3f5f\"},\"marker\":{\"line\":{\"color\":\"#E5ECF6\",\"width\":0.5},\"pattern\":{\"fillmode\":\"overlay\",\"size\":10,\"solidity\":0.2}},\"type\":\"bar\"}],\"scattergeo\":[{\"type\":\"scattergeo\",\"marker\":{\"colorbar\":{\"outlinewidth\":0,\"ticks\":\"\"}}}],\"scatterpolar\":[{\"type\":\"scatterpolar\",\"marker\":{\"colorbar\":{\"outlinewidth\":0,\"ticks\":\"\"}}}],\"histogram\":[{\"marker\":{\"pattern\":{\"fillmode\":\"overlay\",\"size\":10,\"solidity\":0.2}},\"type\":\"histogram\"}],\"scattergl\":[{\"type\":\"scattergl\",\"marker\":{\"colorbar\":{\"outlinewidth\":0,\"ticks\":\"\"}}}],\"scatter3d\":[{\"type\":\"scatter3d\",\"line\":{\"colorbar\":{\"outlinewidth\":0,\"ticks\":\"\"}},\"marker\":{\"colorbar\":{\"outlinewidth\":0,\"ticks\":\"\"}}}],\"scattermapbox\":[{\"type\":\"scattermapbox\",\"marker\":{\"colorbar\":{\"outlinewidth\":0,\"ticks\":\"\"}}}],\"scatterternary\":[{\"type\":\"scatterternary\",\"marker\":{\"colorbar\":{\"outlinewidth\":0,\"ticks\":\"\"}}}],\"scattercarpet\":[{\"type\":\"scattercarpet\",\"marker\":{\"colorbar\":{\"outlinewidth\":0,\"ticks\":\"\"}}}],\"carpet\":[{\"aaxis\":{\"endlinecolor\":\"#2a3f5f\",\"gridcolor\":\"white\",\"linecolor\":\"white\",\"minorgridcolor\":\"white\",\"startlinecolor\":\"#2a3f5f\"},\"baxis\":{\"endlinecolor\":\"#2a3f5f\",\"gridcolor\":\"white\",\"linecolor\":\"white\",\"minorgridcolor\":\"white\",\"startlinecolor\":\"#2a3f5f\"},\"type\":\"carpet\"}],\"table\":[{\"cells\":{\"fill\":{\"color\":\"#EBF0F8\"},\"line\":{\"color\":\"white\"}},\"header\":{\"fill\":{\"color\":\"#C8D4E3\"},\"line\":{\"color\":\"white\"}},\"type\":\"table\"}],\"barpolar\":[{\"marker\":{\"line\":{\"color\":\"#E5ECF6\",\"width\":0.5},\"pattern\":{\"fillmode\":\"overlay\",\"size\":10,\"solidity\":0.2}},\"type\":\"barpolar\"}],\"pie\":[{\"automargin\":true,\"type\":\"pie\"}]},\"layout\":{\"autotypenumbers\":\"strict\",\"colorway\":[\"#636efa\",\"#EF553B\",\"#00cc96\",\"#ab63fa\",\"#FFA15A\",\"#19d3f3\",\"#FF6692\",\"#B6E880\",\"#FF97FF\",\"#FECB52\"],\"font\":{\"color\":\"#2a3f5f\"},\"hovermode\":\"closest\",\"hoverlabel\":{\"align\":\"left\"},\"paper_bgcolor\":\"white\",\"plot_bgcolor\":\"#E5ECF6\",\"polar\":{\"bgcolor\":\"#E5ECF6\",\"angularaxis\":{\"gridcolor\":\"white\",\"linecolor\":\"white\",\"ticks\":\"\"},\"radialaxis\":{\"gridcolor\":\"white\",\"linecolor\":\"white\",\"ticks\":\"\"}},\"ternary\":{\"bgcolor\":\"#E5ECF6\",\"aaxis\":{\"gridcolor\":\"white\",\"linecolor\":\"white\",\"ticks\":\"\"},\"baxis\":{\"gridcolor\":\"white\",\"linecolor\":\"white\",\"ticks\":\"\"},\"caxis\":{\"gridcolor\":\"white\",\"linecolor\":\"white\",\"ticks\":\"\"}},\"coloraxis\":{\"colorbar\":{\"outlinewidth\":0,\"ticks\":\"\"}},\"colorscale\":{\"sequential\":[[0.0,\"#0d0887\"],[0.1111111111111111,\"#46039f\"],[0.2222222222222222,\"#7201a8\"],[0.3333333333333333,\"#9c179e\"],[0.4444444444444444,\"#bd3786\"],[0.5555555555555556,\"#d8576b\"],[0.6666666666666666,\"#ed7953\"],[0.7777777777777778,\"#fb9f3a\"],[0.8888888888888888,\"#fdca26\"],[1.0,\"#f0f921\"]],\"sequentialminus\":[[0.0,\"#0d0887\"],[0.1111111111111111,\"#46039f\"],[0.2222222222222222,\"#7201a8\"],[0.3333333333333333,\"#9c179e\"],[0.4444444444444444,\"#bd3786\"],[0.5555555555555556,\"#d8576b\"],[0.6666666666666666,\"#ed7953\"],[0.7777777777777778,\"#fb9f3a\"],[0.8888888888888888,\"#fdca26\"],[1.0,\"#f0f921\"]],\"diverging\":[[0,\"#8e0152\"],[0.1,\"#c51b7d\"],[0.2,\"#de77ae\"],[0.3,\"#f1b6da\"],[0.4,\"#fde0ef\"],[0.5,\"#f7f7f7\"],[0.6,\"#e6f5d0\"],[0.7,\"#b8e186\"],[0.8,\"#7fbc41\"],[0.9,\"#4d9221\"],[1,\"#276419\"]]},\"xaxis\":{\"gridcolor\":\"white\",\"linecolor\":\"white\",\"ticks\":\"\",\"title\":{\"standoff\":15},\"zerolinecolor\":\"white\",\"automargin\":true,\"zerolinewidth\":2},\"yaxis\":{\"gridcolor\":\"white\",\"linecolor\":\"white\",\"ticks\":\"\",\"title\":{\"standoff\":15},\"zerolinecolor\":\"white\",\"automargin\":true,\"zerolinewidth\":2},\"scene\":{\"xaxis\":{\"backgroundcolor\":\"#E5ECF6\",\"gridcolor\":\"white\",\"linecolor\":\"white\",\"showbackground\":true,\"ticks\":\"\",\"zerolinecolor\":\"white\",\"gridwidth\":2},\"yaxis\":{\"backgroundcolor\":\"#E5ECF6\",\"gridcolor\":\"white\",\"linecolor\":\"white\",\"showbackground\":true,\"ticks\":\"\",\"zerolinecolor\":\"white\",\"gridwidth\":2},\"zaxis\":{\"backgroundcolor\":\"#E5ECF6\",\"gridcolor\":\"white\",\"linecolor\":\"white\",\"showbackground\":true,\"ticks\":\"\",\"zerolinecolor\":\"white\",\"gridwidth\":2}},\"shapedefaults\":{\"line\":{\"color\":\"#2a3f5f\"}},\"annotationdefaults\":{\"arrowcolor\":\"#2a3f5f\",\"arrowhead\":0,\"arrowwidth\":1},\"geo\":{\"bgcolor\":\"white\",\"landcolor\":\"#E5ECF6\",\"subunitcolor\":\"white\",\"showland\":true,\"showlakes\":true,\"lakecolor\":\"white\"},\"title\":{\"x\":0.05},\"mapbox\":{\"style\":\"light\"}}},\"geo\":{\"domain\":{\"x\":[0.0,1.0],\"y\":[0.0,1.0]},\"center\":{},\"scope\":\"usa\"},\"coloraxis\":{\"colorbar\":{\"title\":{\"text\":\"count\"}},\"colorscale\":[[0.0,\"#0d0887\"],[0.1111111111111111,\"#46039f\"],[0.2222222222222222,\"#7201a8\"],[0.3333333333333333,\"#9c179e\"],[0.4444444444444444,\"#bd3786\"],[0.5555555555555556,\"#d8576b\"],[0.6666666666666666,\"#ed7953\"],[0.7777777777777778,\"#fb9f3a\"],[0.8888888888888888,\"#fdca26\"],[1.0,\"#f0f921\"]]},\"legend\":{\"tracegroupgap\":0},\"margin\":{\"t\":60}},                        {\"responsive\": true}                    ).then(function(){\n",
       "                            \n",
       "var gd = document.getElementById('338e7f36-15af-4ea3-bce3-79474c0742d1');\n",
       "var x = new MutationObserver(function (mutations, observer) {{\n",
       "        var display = window.getComputedStyle(gd).display;\n",
       "        if (!display || display === 'none') {{\n",
       "            console.log([gd, 'removed!']);\n",
       "            Plotly.purge(gd);\n",
       "            observer.disconnect();\n",
       "        }}\n",
       "}});\n",
       "\n",
       "// Listen for the removal of the full notebook cells\n",
       "var notebookContainer = gd.closest('#notebook-container');\n",
       "if (notebookContainer) {{\n",
       "    x.observe(notebookContainer, {childList: true});\n",
       "}}\n",
       "\n",
       "// Listen for the clearing of the current output cell\n",
       "var outputEl = gd.closest('.output');\n",
       "if (outputEl) {{\n",
       "    x.observe(outputEl, {childList: true});\n",
       "}}\n",
       "\n",
       "                        })                };                });            </script>        </div>"
      ]
     },
     "metadata": {},
     "output_type": "display_data"
    }
   ],
   "source": [
    "#cos_st['count'] = cos_st['count'].astype(str)\n",
    "fig = px.choropleth(cos_st, locations='Code',\n",
    "                    locationmode=\"USA-states\", color='count', scope=\"usa\")\n",
    " \n",
    "fig.show()"
   ]
  },
  {
   "cell_type": "code",
   "execution_count": 31,
   "id": "bb88f911",
   "metadata": {},
   "outputs": [
    {
     "data": {
      "text/plain": [
       "(17, 21)"
      ]
     },
     "execution_count": 31,
     "metadata": {},
     "output_type": "execute_result"
    }
   ],
   "source": [
    "ppg_=ppg[ppg['G']<=70]\n",
    "ppg_.shape"
   ]
  },
  {
   "cell_type": "code",
   "execution_count": 40,
   "id": "ec079844",
   "metadata": {},
   "outputs": [
    {
     "data": {
      "text/plain": [
       "Name       object\n",
       "G           int64\n",
       "MIN       float64\n",
       "PTS       float64\n",
       "FGM       float64\n",
       "FGA       float64\n",
       "FGP       float64\n",
       "FTM       float64\n",
       "FTA       float64\n",
       "FTP       float64\n",
       "3PM       float64\n",
       "3PA       float64\n",
       "3PP       float64\n",
       "ORB       float64\n",
       "DRB       float64\n",
       "TRB       float64\n",
       "AST       float64\n",
       "STL       float64\n",
       "BLK       float64\n",
       "TO        float64\n",
       "PF        float64\n",
       "dtype: object"
      ]
     },
     "execution_count": 40,
     "metadata": {},
     "output_type": "execute_result"
    }
   ],
   "source": [
    "ppg_.dtypes"
   ]
  },
  {
   "cell_type": "code",
   "execution_count": 42,
   "id": "4aea9e4b",
   "metadata": {},
   "outputs": [
    {
     "data": {
      "image/png": "[encoded data removed]",
      "text/plain": [
       "<Figure size 640x480 with 1 Axes>"
      ]
     },
     "metadata": {},
     "output_type": "display_data"
    }
   ],
   "source": [
    "fig, ax = plt.subplots()\n",
    "\n",
    "ax.hlines(ppg_['Name  '], xmin=0, xmax=ppg_['G'])\n",
    "ax.plot(ppg_['G'], ppg_['Name  '], \"o\", color='black')\n",
    "ax.set_xlim(0, 100)\n",
    "# Add titles and axis names\n",
    "plt.title(\"A vertical lolipop plot\", loc='left')\n",
    "plt.xlabel('Goals')\n",
    "plt.ylabel('Name')\n",
    "\n",
    "# Show the plot\n",
    "plt.show()"
   ]
  },
  {
   "cell_type": "code",
   "execution_count": null,
   "id": "8948c2df",
   "metadata": {},
   "outputs": [],
   "source": []
  }
 ],
 "metadata": {
  "kernelspec": {
   "display_name": "Python 3 (ipykernel)",
   "language": "python",
   "name": "python3"
  },
  "language_info": {
   "codemirror_mode": {
    "name": "ipython",
    "version": 3
   },
   "file_extension": ".py",
   "mimetype": "text/x-python",
   "name": "python",
   "nbconvert_exporter": "python",
   "pygments_lexer": "ipython3",
   "version": "3.9.13"
  }
 },
 "nbformat": 4,
 "nbformat_minor": 5
}
